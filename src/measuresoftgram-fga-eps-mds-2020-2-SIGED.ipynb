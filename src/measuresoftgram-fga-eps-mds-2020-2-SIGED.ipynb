{
 "cells": [
  {
   "cell_type": "code",
   "execution_count": 3,
   "metadata": {
    "pycharm": {
     "name": "#%%\n"
    }
   },
   "outputs": [],
   "source": [
    "import os\n",
    "import json\n",
    "import numpy as np\n",
    "import pandas as pd\n",
    "from glob import glob\n",
    "import seaborn as sns\n",
    "import matplotlib.pyplot as plt"
   ]
  },
  {
   "cell_type": "code",
   "execution_count": 4,
   "metadata": {
    "pycharm": {
     "name": "#%%\n"
    }
   },
   "outputs": [],
   "source": [
    "# The manipulation and extraction procedures of the .json files obtained from Sonar output is copied from\n",
    "# https://github.com/fga-eps-mds/Analytics, developed by Gabriel Filipe Manso in context of teacher assistant activities\n",
    "# in EPS and MDS courses in 2020.2 academic period, under supervising by prof. Hilmer R. Neri in University of Brazilia,\n",
    "# Faculty of Gama- Software Engineering graduate course.\n",
    "# https://github.com/fga-eps-mds/A-Disciplina-MDS-EPS/blob/master/PlanosDeEnsino/EPS-cronograma-2020-2-hrn.md\n",
    "# https://github.com/fga-eps-mds/A-Disciplina-MDS-EPS/blob/master/PlanosDeEnsino/MDS-cronograma-hrn.md\n",
    "\n",
    "%config InlineBackend.figure_format ='retina'\n",
    "\n",
    "sns.set(font_scale=1.5)\n",
    "\n",
    "sns.set_style('darkgrid',\n",
    "              {'xtick.bottom' : True,\n",
    "               'ytick.left': True,\n",
    "               'grid.linestyle':'--',\n",
    "               'font.monospace': ['Computer Modern Typewriter'],\n",
    "               'axes.edgecolor' : 'white'})"
   ]
  },
  {
   "cell_type": "code",
   "execution_count": 5,
   "metadata": {
    "pycharm": {
     "name": "#%%\n"
    }
   },
   "outputs": [],
   "source": [
    "pd.set_option(\"display.max_rows\", None, \"display.max_columns\", None)"
   ]
  },
  {
   "cell_type": "code",
   "execution_count": 6,
   "metadata": {
    "pycharm": {
     "name": "#%%\n"
    }
   },
   "outputs": [],
   "source": [
    "jsons = glob('siged-raw-data-08-05-2021/*.json')"
   ]
  },
  {
   "cell_type": "code",
   "execution_count": 7,
   "metadata": {
    "pycharm": {
     "name": "#%%\n"
    }
   },
   "outputs": [
    {
     "data": {
      "text/plain": "['siged-raw-data-08-05-2021/fga-eps-mds-2020-2-SiGeD-Sectors-date_v1.0.json',\n 'siged-raw-data-08-05-2021/fga-eps-mds-2020-2-SiGeD-Frontend-date_v0.10.2.json',\n 'siged-raw-data-08-05-2021/fga-eps-mds-2020-2-SiGeD-Demands-date_v1.3.0.json',\n 'siged-raw-data-08-05-2021/fga-eps-mds-2020-2-SiGeD-Frontend-date_v0.7.json',\n 'siged-raw-data-08-05-2021/fga-eps-mds-2020-2-SiGeD-Frontend-date_v1.9.1.json',\n 'siged-raw-data-08-05-2021/fga-eps-mds-2020-2-SiGeD-Frontend-date_v1.5.1.json',\n 'siged-raw-data-08-05-2021/fga-eps-mds-2020-2-SiGeD-Users-date_v1.0.1.json',\n 'siged-raw-data-08-05-2021/fga-eps-mds-2020-2-SiGeD-Demands-date_v0.1.json',\n 'siged-raw-data-08-05-2021/fga-eps-mds-2020-2-SiGeD-Frontend-date_v1.7.0.json',\n 'siged-raw-data-08-05-2021/fga-eps-mds-2020-2-SiGeD-Frontend-date_v1.7.1.json',\n 'siged-raw-data-08-05-2021/fga-eps-mds-2020-2-SiGeD-Users-date_v1.0.0.json',\n 'siged-raw-data-08-05-2021/fga-eps-mds-2020-2-SiGeD-Frontend-date_v1.5.0.json',\n 'siged-raw-data-08-05-2021/fga-eps-mds-2020-2-SiGeD-Frontend-date_v0.9.0.json',\n 'siged-raw-data-08-05-2021/fga-eps-mds-2020-2-SiGeD-Frontend-date_v1.9.0.json',\n 'siged-raw-data-08-05-2021/fga-eps-mds-2020-2-SiGeD-Frontend-date_v0.6.json',\n 'siged-raw-data-08-05-2021/fga-eps-mds-2020-2-SiGeD-Demands-date_v1.1.0.json',\n 'siged-raw-data-08-05-2021/fga-eps-mds-2020-2-SiGeD-Frontend-date_v1.4.3.json',\n 'siged-raw-data-08-05-2021/fga-eps-mds-2020-2-SiGeD-Clients-date_v0.3.0.json',\n 'siged-raw-data-08-05-2021/fga-eps-mds-2020-2-SiGeD-Frontend-date_v1.1.0.json',\n 'siged-raw-data-08-05-2021/fga-eps-mds-2020-2-SiGeD-Users-date_v0.3.2.json',\n 'siged-raw-data-08-05-2021/fga-eps-mds-2020-2-SiGeD-Clients-date_v0.3.json',\n 'siged-raw-data-08-05-2021/fga-eps-mds-2020-2-SiGeD-Users-date_v0.2.json',\n 'siged-raw-data-08-05-2021/fga-eps-mds-2020-2-SiGeD-Frontend-date_v1.3.1.json',\n 'siged-raw-data-08-05-2021/fga-eps-mds-2020-2-SiGeD-Clients-date_V1.1.1.json',\n 'siged-raw-data-08-05-2021/fga-eps-mds-2020-2-SiGeD-Sectors-date_v1.0.1.json',\n 'siged-raw-data-08-05-2021/fga-eps-mds-2020-2-SiGeD-Demands-date_v0.9.0.json',\n 'siged-raw-data-08-05-2021/fga-eps-mds-2020-2-SiGeD-Frontend-date_v0.11.0.json',\n 'siged-raw-data-08-05-2021/fga-eps-mds-2020-2-SiGeD-Demands-date_v0.5.0.json',\n 'siged-raw-data-08-05-2021/fga-eps-mds-2020-2-SiGeD-Frontend-date_v0.1.json',\n 'siged-raw-data-08-05-2021/fga-eps-mds-2020-2-SiGeD-Demands-date_v0.7.0.json',\n 'siged-raw-data-08-05-2021/fga-eps-mds-2020-2-SiGeD-Frontend-date_v0.13.0.json',\n 'siged-raw-data-08-05-2021/fga-eps-mds-2020-2-SiGeD-Demands-date_v0.5.1.json',\n 'siged-raw-data-08-05-2021/fga-eps-mds-2020-2-SiGeD-Frontend-date_v0.11.1.json',\n 'siged-raw-data-08-05-2021/fga-eps-mds-2020-2-SiGeD-Sectors-date_v1.0.0.json',\n 'siged-raw-data-08-05-2021/fga-eps-mds-2020-2-SiGeD-Clients-date_V1.1.0.json',\n 'siged-raw-data-08-05-2021/fga-eps-mds-2020-2-SiGeD-Frontend-date_v1.3.0.json',\n 'siged-raw-data-08-05-2021/fga-eps-mds-2020-2-SiGeD-Users-date_v0.3.json',\n 'siged-raw-data-08-05-2021/fga-eps-mds-2020-2-SiGeD-Clients-date_v0.2.json',\n 'siged-raw-data-08-05-2021/fga-eps-mds-2020-2-SiGeD-Clients-date_v0.3.1.json',\n 'siged-raw-data-08-05-2021/fga-eps-mds-2020-2-SiGeD-Frontend-date_v1.4.2.json',\n 'siged-raw-data-08-05-2021/fga-eps-mds-2020-2-SiGeD-Frontend-date_v1.3.3.json',\n 'siged-raw-data-08-05-2021/fga-eps-mds-2020-2-SiGeD-Frontend-date_v1.6.0.json',\n 'siged-raw-data-08-05-2021/fga-eps-mds-2020-2-SiGeD-Clients-date_v0.1.json',\n 'siged-raw-data-08-05-2021/fga-eps-mds-2020-2-SiGeD-Users-date_v0.3.0.json',\n 'siged-raw-data-08-05-2021/fga-eps-mds-2020-2-SiGeD-Clients-date_v0.3.2.json',\n 'siged-raw-data-08-05-2021/fga-eps-mds-2020-2-SiGeD-Frontend-date_v1.4.1.json',\n 'siged-raw-data-08-05-2021/fga-eps-mds-2020-2-SiGeD-Frontend-date_v0.3.json',\n 'siged-raw-data-08-05-2021/fga-eps-mds-2020-2-SiGeD-Demands-date_v1.2.0.json',\n 'siged-raw-data-08-05-2021/fga-eps-mds-2020-2-SiGeD-Frontend-date_v0.14.1.json',\n 'siged-raw-data-08-05-2021/fga-eps-mds-2020-2-SiGeD-Demands-date_v0.5.2.json',\n 'siged-raw-data-08-05-2021/fga-eps-mds-2020-2-SiGeD-Demands-date_v1.0.0.json',\n 'siged-raw-data-08-05-2021/fga-eps-mds-2020-2-SiGeD-Frontend-date_v0.14.0.json',\n 'siged-raw-data-08-05-2021/fga-eps-mds-2020-2-SiGeD-Frontend-date_v0.2.json',\n 'siged-raw-data-08-05-2021/fga-eps-mds-2020-2-SiGeD-Frontend-date_v1.4.0.json',\n 'siged-raw-data-08-05-2021/fga-eps-mds-2020-2-SiGeD-Frontend-date_v1.8.0.json',\n 'siged-raw-data-08-05-2021/fga-eps-mds-2020-2-SiGeD-Users-date_v0.3.1.json',\n 'siged-raw-data-08-05-2021/fga-eps-mds-2020-2-SiGeD-Users-date_v0.1.json',\n 'siged-raw-data-08-05-2021/fga-eps-mds-2020-2-SiGeD-Frontend-date_v1.3.2.json',\n 'siged-raw-data-08-05-2021/fga-eps-mds-2020-2-SiGeD-Demands-date_v0.4.json',\n 'siged-raw-data-08-05-2021/fga-eps-mds-2020-2-SiGeD-Frontend-date_v0.5.json',\n 'siged-raw-data-08-05-2021/fga-eps-mds-2020-2-SiGeD-Frontend-date_v0.10.0.json',\n 'siged-raw-data-08-05-2021/fga-eps-mds-2020-2-SiGeD-Demands-date_v0.8.0.json',\n 'siged-raw-data-08-05-2021/fga-eps-mds-2020-2-SiGeD-Demands-date_v1.4.0.json',\n 'siged-raw-data-08-05-2021/fga-eps-mds-2020-2-SiGeD-Demands-date_v0.4.0.json',\n 'siged-raw-data-08-05-2021/fga-eps-mds-2020-2-SiGeD-Frontend-date_v0.9.json',\n 'siged-raw-data-08-05-2021/fga-eps-mds-2020-2-SiGeD-Frontend-date_v1.7.2.json',\n 'siged-raw-data-08-05-2021/fga-eps-mds-2020-2-SiGeD-Demands-date_v0.3.json',\n 'siged-raw-data-08-05-2021/fga-eps-mds-2020-2-SiGeD-Sectors-date_v0.1.1.json',\n 'siged-raw-data-08-05-2021/fga-eps-mds-2020-2-SiGeD-Sectors-date_v1.1.1.json',\n 'siged-raw-data-08-05-2021/fga-eps-mds-2020-2-SiGeD-Clients-date_V1.0.1.json',\n 'siged-raw-data-08-05-2021/fga-eps-mds-2020-2-SiGeD-Frontend-date_v1.0.0.json',\n 'siged-raw-data-08-05-2021/fga-eps-mds-2020-2-SiGeD-Frontend-date_v1.2.0.json',\n 'siged-raw-data-08-05-2021/fga-eps-mds-2020-2-SiGeD-Clients-date_V1.0.0.json',\n 'siged-raw-data-08-05-2021/fga-eps-mds-2020-2-SiGeD-Sectors-date_v0.1.0.json',\n 'siged-raw-data-08-05-2021/fga-eps-mds-2020-2-SiGeD-Sectors-date_v1.1.0.json',\n 'siged-raw-data-08-05-2021/fga-eps-mds-2020-2-SiGeD-Users-date_v1.0.2.json',\n 'siged-raw-data-08-05-2021/fga-eps-mds-2020-2-SiGeD-Demands-date_v0.2.json',\n 'siged-raw-data-08-05-2021/fga-eps-mds-2020-2-SiGeD-Frontend-date_v0.8.json',\n 'siged-raw-data-08-05-2021/fga-eps-mds-2020-2-SiGeD-Demands-date_v1.4.1.json',\n 'siged-raw-data-08-05-2021/fga-eps-mds-2020-2-SiGeD-Frontend-date_v0.10.1.json',\n 'siged-raw-data-08-05-2021/fga-eps-mds-2020-2-SiGeD-Demands-date_v0.6.0.json',\n 'siged-raw-data-08-05-2021/fga-eps-mds-2020-2-SiGeD-Frontend-date_v0.12.0.json',\n 'siged-raw-data-08-05-2021/fga-eps-mds-2020-2-SiGeD-Frontend-date_v0.4.json']"
     },
     "execution_count": 7,
     "metadata": {},
     "output_type": "execute_result"
    }
   ],
   "source": [
    "jsons"
   ]
  },
  {
   "cell_type": "code",
   "execution_count": 8,
   "metadata": {
    "pycharm": {
     "name": "#%%\n"
    }
   },
   "outputs": [],
   "source": [
    "def read_json(json_path):\n",
    "\n",
    "    with open(json_path) as json_file:\n",
    "        json_obj = json.load(json_file)\n",
    "\n",
    "    return json_obj"
   ]
  },
  {
   "cell_type": "code",
   "execution_count": 9,
   "metadata": {
    "pycharm": {
     "name": "#%%\n"
    }
   },
   "outputs": [],
   "source": [
    "def create_base_component_df(json_list):\n",
    "\n",
    "    df = pd.DataFrame()\n",
    "\n",
    "    for i in json_list:\n",
    "\n",
    "        base_component = read_json(i)\n",
    "\n",
    "        base_component_data = base_component['baseComponent']['measures']\n",
    "\n",
    "        base_component_df = pd.DataFrame(base_component_data)\n",
    "\n",
    "        base_component_df['filename'] = os.path.basename(i)\n",
    "\n",
    "        df = df.append(base_component_df, ignore_index=True)\n",
    "\n",
    "    aux_df = df['filename'].str.split(r\"SiGeD-(.*?)-date_(.*?).json\", expand=True)\n",
    "\n",
    "    df['repository'] = aux_df[1]\n",
    "\n",
    "    df['version'] = aux_df[2]\n",
    "\n",
    "    df = df.sort_values(by=['repository', 'version'])\n",
    "\n",
    "    return df"
   ]
  },
  {
   "cell_type": "code",
   "execution_count": 10,
   "metadata": {
    "pycharm": {
     "name": "#%%\n"
    }
   },
   "outputs": [],
   "source": [
    "base_component_df = create_base_component_df(jsons)"
   ]
  },
  {
   "cell_type": "code",
   "execution_count": 11,
   "metadata": {
    "pycharm": {
     "name": "#%%\n"
    }
   },
   "outputs": [
    {
     "data": {
      "text/plain": "                       metric value bestValue  \\\n576                     files     8       NaN   \n577                     ncloc   413       NaN   \n578                 functions    32       NaN   \n579                complexity    45       NaN   \n580           security_rating   1.0      True   \n581        reliability_rating   1.0      True   \n582     comment_lines_density   0.0     False   \n583  duplicated_lines_density   0.0      True   \n552                     files     8       NaN   \n553                     ncloc   483       NaN   \n\n                                              filename repository version  \n576  fga-eps-mds-2020-2-SiGeD-Clients-date_V1.0.0.json    Clients  V1.0.0  \n577  fga-eps-mds-2020-2-SiGeD-Clients-date_V1.0.0.json    Clients  V1.0.0  \n578  fga-eps-mds-2020-2-SiGeD-Clients-date_V1.0.0.json    Clients  V1.0.0  \n579  fga-eps-mds-2020-2-SiGeD-Clients-date_V1.0.0.json    Clients  V1.0.0  \n580  fga-eps-mds-2020-2-SiGeD-Clients-date_V1.0.0.json    Clients  V1.0.0  \n581  fga-eps-mds-2020-2-SiGeD-Clients-date_V1.0.0.json    Clients  V1.0.0  \n582  fga-eps-mds-2020-2-SiGeD-Clients-date_V1.0.0.json    Clients  V1.0.0  \n583  fga-eps-mds-2020-2-SiGeD-Clients-date_V1.0.0.json    Clients  V1.0.0  \n552  fga-eps-mds-2020-2-SiGeD-Clients-date_V1.0.1.json    Clients  V1.0.1  \n553  fga-eps-mds-2020-2-SiGeD-Clients-date_V1.0.1.json    Clients  V1.0.1  ",
      "text/html": "<div>\n<style scoped>\n    .dataframe tbody tr th:only-of-type {\n        vertical-align: middle;\n    }\n\n    .dataframe tbody tr th {\n        vertical-align: top;\n    }\n\n    .dataframe thead th {\n        text-align: right;\n    }\n</style>\n<table border=\"1\" class=\"dataframe\">\n  <thead>\n    <tr style=\"text-align: right;\">\n      <th></th>\n      <th>metric</th>\n      <th>value</th>\n      <th>bestValue</th>\n      <th>filename</th>\n      <th>repository</th>\n      <th>version</th>\n    </tr>\n  </thead>\n  <tbody>\n    <tr>\n      <th>576</th>\n      <td>files</td>\n      <td>8</td>\n      <td>NaN</td>\n      <td>fga-eps-mds-2020-2-SiGeD-Clients-date_V1.0.0.json</td>\n      <td>Clients</td>\n      <td>V1.0.0</td>\n    </tr>\n    <tr>\n      <th>577</th>\n      <td>ncloc</td>\n      <td>413</td>\n      <td>NaN</td>\n      <td>fga-eps-mds-2020-2-SiGeD-Clients-date_V1.0.0.json</td>\n      <td>Clients</td>\n      <td>V1.0.0</td>\n    </tr>\n    <tr>\n      <th>578</th>\n      <td>functions</td>\n      <td>32</td>\n      <td>NaN</td>\n      <td>fga-eps-mds-2020-2-SiGeD-Clients-date_V1.0.0.json</td>\n      <td>Clients</td>\n      <td>V1.0.0</td>\n    </tr>\n    <tr>\n      <th>579</th>\n      <td>complexity</td>\n      <td>45</td>\n      <td>NaN</td>\n      <td>fga-eps-mds-2020-2-SiGeD-Clients-date_V1.0.0.json</td>\n      <td>Clients</td>\n      <td>V1.0.0</td>\n    </tr>\n    <tr>\n      <th>580</th>\n      <td>security_rating</td>\n      <td>1.0</td>\n      <td>True</td>\n      <td>fga-eps-mds-2020-2-SiGeD-Clients-date_V1.0.0.json</td>\n      <td>Clients</td>\n      <td>V1.0.0</td>\n    </tr>\n    <tr>\n      <th>581</th>\n      <td>reliability_rating</td>\n      <td>1.0</td>\n      <td>True</td>\n      <td>fga-eps-mds-2020-2-SiGeD-Clients-date_V1.0.0.json</td>\n      <td>Clients</td>\n      <td>V1.0.0</td>\n    </tr>\n    <tr>\n      <th>582</th>\n      <td>comment_lines_density</td>\n      <td>0.0</td>\n      <td>False</td>\n      <td>fga-eps-mds-2020-2-SiGeD-Clients-date_V1.0.0.json</td>\n      <td>Clients</td>\n      <td>V1.0.0</td>\n    </tr>\n    <tr>\n      <th>583</th>\n      <td>duplicated_lines_density</td>\n      <td>0.0</td>\n      <td>True</td>\n      <td>fga-eps-mds-2020-2-SiGeD-Clients-date_V1.0.0.json</td>\n      <td>Clients</td>\n      <td>V1.0.0</td>\n    </tr>\n    <tr>\n      <th>552</th>\n      <td>files</td>\n      <td>8</td>\n      <td>NaN</td>\n      <td>fga-eps-mds-2020-2-SiGeD-Clients-date_V1.0.1.json</td>\n      <td>Clients</td>\n      <td>V1.0.1</td>\n    </tr>\n    <tr>\n      <th>553</th>\n      <td>ncloc</td>\n      <td>483</td>\n      <td>NaN</td>\n      <td>fga-eps-mds-2020-2-SiGeD-Clients-date_V1.0.1.json</td>\n      <td>Clients</td>\n      <td>V1.0.1</td>\n    </tr>\n  </tbody>\n</table>\n</div>"
     },
     "execution_count": 11,
     "metadata": {},
     "output_type": "execute_result"
    }
   ],
   "source": [
    "base_component_df.head(10)"
   ]
  },
  {
   "cell_type": "code",
   "execution_count": 12,
   "metadata": {
    "pycharm": {
     "name": "#%%\n"
    }
   },
   "outputs": [
    {
     "data": {
      "text/plain": "12"
     },
     "execution_count": 12,
     "metadata": {},
     "output_type": "execute_result"
    }
   ],
   "source": [
    "metric_list = ['files',\n",
    "               'functions',\n",
    "               'complexity',\n",
    "               'comment_lines_density',\n",
    "               'duplicated_lines_density',\n",
    "               'coverage',\n",
    "               'ncloc',\n",
    "               'security_rating',\n",
    "               'tests',\n",
    "               'test_success_density',\n",
    "               'test_execution_time',\n",
    "               'reliability_rating']\n",
    "\n",
    "len(metric_list)"
   ]
  },
  {
   "cell_type": "code",
   "execution_count": 13,
   "metadata": {
    "pycharm": {
     "name": "#%%\n"
    }
   },
   "outputs": [],
   "source": [
    "def metric_per_file(json):\n",
    "\n",
    "    file_json = []\n",
    "\n",
    "    for component in json['components']:\n",
    "        if component['qualifier'] == 'FIL':\n",
    "            file_json.append(component)\n",
    "\n",
    "    return file_json"
   ]
  },
  {
   "cell_type": "code",
   "execution_count": 14,
   "metadata": {
    "pycharm": {
     "name": "#%%\n"
    }
   },
   "outputs": [],
   "source": [
    "def generate_file_dataframe(metric_list, json, language_extension):\n",
    "\n",
    "    df_columns = metric_list\n",
    "    df = pd.DataFrame(columns = df_columns)\n",
    "\n",
    "    for file in json:\n",
    "        try:\n",
    "            if file['language'] == language_extension:\n",
    "                for measure in file['measures']:\n",
    "                    df.at[file['path'], measure['metric']] = measure['value']\n",
    "        except:\n",
    "            pass\n",
    "\n",
    "    df.reset_index(inplace = True)\n",
    "    df = df.rename({'index': 'path'}, axis=1).drop(['files'], axis=1)\n",
    "\n",
    "    return df"
   ]
  },
  {
   "cell_type": "code",
   "execution_count": 15,
   "metadata": {
    "pycharm": {
     "name": "#%%\n"
    }
   },
   "outputs": [],
   "source": [
    "def create_file_df(json_list):\n",
    "\n",
    "    df = pd.DataFrame()\n",
    "\n",
    "    for i in json_list:\n",
    "\n",
    "        file_component = read_json(i)\n",
    "\n",
    "        file_component_data = metric_per_file(file_component)\n",
    "\n",
    "        file_component_df = generate_file_dataframe(metric_list, file_component_data, language_extension = 'js')\n",
    "\n",
    "        file_component_df['filename'] = os.path.basename(i)\n",
    "\n",
    "        df = df.append(file_component_df, ignore_index=True)\n",
    "\n",
    "    aux_df = df['filename'].str.split(r\"SiGeD-(.*?)-date_(.*?).json\", expand=True)\n",
    "\n",
    "    df['repository'] = aux_df[1]\n",
    "\n",
    "    df['version'] = aux_df[2]\n",
    "\n",
    "    df = df.sort_values(by=['repository', 'version'])\n",
    "\n",
    "    return df"
   ]
  },
  {
   "cell_type": "code",
   "execution_count": 16,
   "metadata": {
    "pycharm": {
     "name": "#%%\n"
    }
   },
   "outputs": [
    {
     "data": {
      "text/plain": "                                     path functions complexity  \\\n4288                    tests/api.test.js         8          8   \n4289  src/Controllers/ClientController.js         6         11   \n4290           src/Models/ClientSchema.js         0          0   \n4291            src/utils/functionsJWS.js         2          4   \n4292                         src/index.js         3          3   \n4293                   scripts/release.js         7          8   \n4294                        src/routes.js         0          0   \n4295                src/utils/validate.js         6         11   \n4038                    tests/api.test.js        14         14   \n4039  src/Controllers/ClientController.js         6         11   \n\n     comment_lines_density duplicated_lines_density coverage ncloc  \\\n4288                   0.0                      0.0      NaN   120   \n4289                   0.0                      0.0      NaN    91   \n4290                   0.0                      0.0      NaN    51   \n4291                   0.0                      0.0      NaN    16   \n4292                   0.0                      0.0      NaN    28   \n4293                   0.0                      0.0      NaN    61   \n4294                   0.0                      0.0      NaN    10   \n4295                   0.0                      0.0      NaN    36   \n4038                   0.0                      0.0      NaN   190   \n4039                   0.0                      0.0      NaN    91   \n\n     security_rating tests test_success_density test_execution_time  \\\n4288             1.0   NaN                100.0                 NaN   \n4289             1.0   NaN                100.0                 NaN   \n4290             1.0   NaN                100.0                 NaN   \n4291             1.0   NaN                100.0                 NaN   \n4292             1.0   NaN                100.0                 NaN   \n4293             1.0   NaN                100.0                 NaN   \n4294             1.0   NaN                100.0                 NaN   \n4295             1.0   NaN                100.0                 NaN   \n4038             1.0   NaN                100.0                 NaN   \n4039             1.0   NaN                100.0                 NaN   \n\n     reliability_rating                                           filename  \\\n4288                1.0  fga-eps-mds-2020-2-SiGeD-Clients-date_V1.0.0.json   \n4289                1.0  fga-eps-mds-2020-2-SiGeD-Clients-date_V1.0.0.json   \n4290                1.0  fga-eps-mds-2020-2-SiGeD-Clients-date_V1.0.0.json   \n4291                1.0  fga-eps-mds-2020-2-SiGeD-Clients-date_V1.0.0.json   \n4292                1.0  fga-eps-mds-2020-2-SiGeD-Clients-date_V1.0.0.json   \n4293                1.0  fga-eps-mds-2020-2-SiGeD-Clients-date_V1.0.0.json   \n4294                1.0  fga-eps-mds-2020-2-SiGeD-Clients-date_V1.0.0.json   \n4295                1.0  fga-eps-mds-2020-2-SiGeD-Clients-date_V1.0.0.json   \n4038                1.0  fga-eps-mds-2020-2-SiGeD-Clients-date_V1.0.1.json   \n4039                1.0  fga-eps-mds-2020-2-SiGeD-Clients-date_V1.0.1.json   \n\n     repository version  \n4288    Clients  V1.0.0  \n4289    Clients  V1.0.0  \n4290    Clients  V1.0.0  \n4291    Clients  V1.0.0  \n4292    Clients  V1.0.0  \n4293    Clients  V1.0.0  \n4294    Clients  V1.0.0  \n4295    Clients  V1.0.0  \n4038    Clients  V1.0.1  \n4039    Clients  V1.0.1  ",
      "text/html": "<div>\n<style scoped>\n    .dataframe tbody tr th:only-of-type {\n        vertical-align: middle;\n    }\n\n    .dataframe tbody tr th {\n        vertical-align: top;\n    }\n\n    .dataframe thead th {\n        text-align: right;\n    }\n</style>\n<table border=\"1\" class=\"dataframe\">\n  <thead>\n    <tr style=\"text-align: right;\">\n      <th></th>\n      <th>path</th>\n      <th>functions</th>\n      <th>complexity</th>\n      <th>comment_lines_density</th>\n      <th>duplicated_lines_density</th>\n      <th>coverage</th>\n      <th>ncloc</th>\n      <th>security_rating</th>\n      <th>tests</th>\n      <th>test_success_density</th>\n      <th>test_execution_time</th>\n      <th>reliability_rating</th>\n      <th>filename</th>\n      <th>repository</th>\n      <th>version</th>\n    </tr>\n  </thead>\n  <tbody>\n    <tr>\n      <th>4288</th>\n      <td>tests/api.test.js</td>\n      <td>8</td>\n      <td>8</td>\n      <td>0.0</td>\n      <td>0.0</td>\n      <td>NaN</td>\n      <td>120</td>\n      <td>1.0</td>\n      <td>NaN</td>\n      <td>100.0</td>\n      <td>NaN</td>\n      <td>1.0</td>\n      <td>fga-eps-mds-2020-2-SiGeD-Clients-date_V1.0.0.json</td>\n      <td>Clients</td>\n      <td>V1.0.0</td>\n    </tr>\n    <tr>\n      <th>4289</th>\n      <td>src/Controllers/ClientController.js</td>\n      <td>6</td>\n      <td>11</td>\n      <td>0.0</td>\n      <td>0.0</td>\n      <td>NaN</td>\n      <td>91</td>\n      <td>1.0</td>\n      <td>NaN</td>\n      <td>100.0</td>\n      <td>NaN</td>\n      <td>1.0</td>\n      <td>fga-eps-mds-2020-2-SiGeD-Clients-date_V1.0.0.json</td>\n      <td>Clients</td>\n      <td>V1.0.0</td>\n    </tr>\n    <tr>\n      <th>4290</th>\n      <td>src/Models/ClientSchema.js</td>\n      <td>0</td>\n      <td>0</td>\n      <td>0.0</td>\n      <td>0.0</td>\n      <td>NaN</td>\n      <td>51</td>\n      <td>1.0</td>\n      <td>NaN</td>\n      <td>100.0</td>\n      <td>NaN</td>\n      <td>1.0</td>\n      <td>fga-eps-mds-2020-2-SiGeD-Clients-date_V1.0.0.json</td>\n      <td>Clients</td>\n      <td>V1.0.0</td>\n    </tr>\n    <tr>\n      <th>4291</th>\n      <td>src/utils/functionsJWS.js</td>\n      <td>2</td>\n      <td>4</td>\n      <td>0.0</td>\n      <td>0.0</td>\n      <td>NaN</td>\n      <td>16</td>\n      <td>1.0</td>\n      <td>NaN</td>\n      <td>100.0</td>\n      <td>NaN</td>\n      <td>1.0</td>\n      <td>fga-eps-mds-2020-2-SiGeD-Clients-date_V1.0.0.json</td>\n      <td>Clients</td>\n      <td>V1.0.0</td>\n    </tr>\n    <tr>\n      <th>4292</th>\n      <td>src/index.js</td>\n      <td>3</td>\n      <td>3</td>\n      <td>0.0</td>\n      <td>0.0</td>\n      <td>NaN</td>\n      <td>28</td>\n      <td>1.0</td>\n      <td>NaN</td>\n      <td>100.0</td>\n      <td>NaN</td>\n      <td>1.0</td>\n      <td>fga-eps-mds-2020-2-SiGeD-Clients-date_V1.0.0.json</td>\n      <td>Clients</td>\n      <td>V1.0.0</td>\n    </tr>\n    <tr>\n      <th>4293</th>\n      <td>scripts/release.js</td>\n      <td>7</td>\n      <td>8</td>\n      <td>0.0</td>\n      <td>0.0</td>\n      <td>NaN</td>\n      <td>61</td>\n      <td>1.0</td>\n      <td>NaN</td>\n      <td>100.0</td>\n      <td>NaN</td>\n      <td>1.0</td>\n      <td>fga-eps-mds-2020-2-SiGeD-Clients-date_V1.0.0.json</td>\n      <td>Clients</td>\n      <td>V1.0.0</td>\n    </tr>\n    <tr>\n      <th>4294</th>\n      <td>src/routes.js</td>\n      <td>0</td>\n      <td>0</td>\n      <td>0.0</td>\n      <td>0.0</td>\n      <td>NaN</td>\n      <td>10</td>\n      <td>1.0</td>\n      <td>NaN</td>\n      <td>100.0</td>\n      <td>NaN</td>\n      <td>1.0</td>\n      <td>fga-eps-mds-2020-2-SiGeD-Clients-date_V1.0.0.json</td>\n      <td>Clients</td>\n      <td>V1.0.0</td>\n    </tr>\n    <tr>\n      <th>4295</th>\n      <td>src/utils/validate.js</td>\n      <td>6</td>\n      <td>11</td>\n      <td>0.0</td>\n      <td>0.0</td>\n      <td>NaN</td>\n      <td>36</td>\n      <td>1.0</td>\n      <td>NaN</td>\n      <td>100.0</td>\n      <td>NaN</td>\n      <td>1.0</td>\n      <td>fga-eps-mds-2020-2-SiGeD-Clients-date_V1.0.0.json</td>\n      <td>Clients</td>\n      <td>V1.0.0</td>\n    </tr>\n    <tr>\n      <th>4038</th>\n      <td>tests/api.test.js</td>\n      <td>14</td>\n      <td>14</td>\n      <td>0.0</td>\n      <td>0.0</td>\n      <td>NaN</td>\n      <td>190</td>\n      <td>1.0</td>\n      <td>NaN</td>\n      <td>100.0</td>\n      <td>NaN</td>\n      <td>1.0</td>\n      <td>fga-eps-mds-2020-2-SiGeD-Clients-date_V1.0.1.json</td>\n      <td>Clients</td>\n      <td>V1.0.1</td>\n    </tr>\n    <tr>\n      <th>4039</th>\n      <td>src/Controllers/ClientController.js</td>\n      <td>6</td>\n      <td>11</td>\n      <td>0.0</td>\n      <td>0.0</td>\n      <td>NaN</td>\n      <td>91</td>\n      <td>1.0</td>\n      <td>NaN</td>\n      <td>100.0</td>\n      <td>NaN</td>\n      <td>1.0</td>\n      <td>fga-eps-mds-2020-2-SiGeD-Clients-date_V1.0.1.json</td>\n      <td>Clients</td>\n      <td>V1.0.1</td>\n    </tr>\n  </tbody>\n</table>\n</div>"
     },
     "execution_count": 16,
     "metadata": {},
     "output_type": "execute_result"
    }
   ],
   "source": [
    "file_component_df = create_file_df(jsons)\n",
    "\n",
    "file_component_df.head(10)"
   ]
  },
  {
   "cell_type": "code",
   "execution_count": 17,
   "metadata": {
    "pycharm": {
     "name": "#%%\n"
    }
   },
   "outputs": [],
   "source": [
    "clients_df = file_component_df[file_component_df['repository'] == 'Clients']\n",
    "demands_df = file_component_df[file_component_df['repository'] == 'Demands']\n",
    "frontend_df = file_component_df[file_component_df['repository'] == 'Frontend']\n",
    "sectors_df = file_component_df[file_component_df['repository'] == 'Sectors']\n",
    "users_df = file_component_df[file_component_df['repository'] == 'Users']"
   ]
  },
  {
   "cell_type": "code",
   "execution_count": 25,
   "outputs": [
    {
     "name": "stderr",
     "output_type": "stream",
     "text": [
      "/usr/local/Cellar/python@3.8/3.8.5/Frameworks/Python.framework/Versions/3.8/lib/python3.8/site-packages/pandas/core/indexing.py:1745: SettingWithCopyWarning: \n",
      "A value is trying to be set on a copy of a slice from a DataFrame.\n",
      "Try using .loc[row_indexer,col_indexer] = value instead\n",
      "\n",
      "See the caveats in the documentation: https://pandas.pydata.org/pandas-docs/stable/user_guide/indexing.html#returning-a-view-versus-a-copy\n",
      "  isetter(ilocs[0], value)\n"
     ]
    },
    {
     "data": {
      "text/plain": "count    2831.000000\nmean        1.430234\nstd         0.823794\nmin         1.000000\n25%         1.000000\n50%         1.142857\n75%         1.555556\nmax         7.000000\nName: complexity/functions, dtype: float64"
     },
     "execution_count": 25,
     "metadata": {},
     "output_type": "execute_result"
    }
   ],
   "source": [
    "clients_df.loc[:, ('complexity/functions')]  = clients_df.loc[:, ('complexity')].astype(float) /\\\n",
    "                                               clients_df.loc[:, ('functions')].astype(float)\n",
    "demands_df.loc[:, ('complexity/functions')] = demands_df.loc[:, ('complexity')].astype(float) /\\\n",
    "                                              demands_df.loc[:, ('functions')].astype(float)\n",
    "sectors_df.loc[:, ('complexity/functions')] = sectors_df.loc[:, ('complexity')].astype(float) /\\\n",
    "                                              sectors_df.loc[:, ('functions')].astype(float)\n",
    "frontend_df.loc[:, ('complexity/functions')] = frontend_df.loc[:, ('complexity')].astype(float) /\\\n",
    "                                               frontend_df.loc[:, ('functions')].astype(float)\n",
    "users_df.loc[:, ('complexity/functions')] = users_df.loc[:, ('complexity')].astype(float) /\\\n",
    "                                            users_df.loc[:, ('functions')].astype(float)\n",
    "\n",
    "#printing the average CC per function descriptive statistics in frontend repository\n",
    "frontend_df['complexity/functions'].describe()"
   ],
   "metadata": {
    "collapsed": false,
    "pycharm": {
     "name": "#%%\n"
    }
   }
  },
  {
   "cell_type": "code",
   "execution_count": 26,
   "outputs": [],
   "source": [
    "# Defining measure em1 calculation, where em1 = density of non-complex file\n",
    "def em1(df):\n",
    "    m0 = np.median(df['complexity/functions'])\n",
    "    m1 = df['complexity'].astype(float)\n",
    "    m2 = df['functions'].astype(float)\n",
    "    m3 = len(df)\n",
    "\n",
    "    #  intervals for em1 thresholds\n",
    "    x = np.array([0, m0])\n",
    "    y = np.array([1, 0])\n",
    "\n",
    "    # em1 interpretation - numeric interpolation to quality score\n",
    "    IF1 = np.interp(list(((m1/m2) <= m0)[(m2 > 0)]),x, y)\n",
    "\n",
    "    em1 = sum(IF1)/m3\n",
    "\n",
    "    return em1"
   ],
   "metadata": {
    "collapsed": false,
    "pycharm": {
     "name": "#%%\n"
    }
   }
  },
  {
   "cell_type": "code",
   "execution_count": 29,
   "outputs": [],
   "source": [
    "def create_metrics_df(df):\n",
    "\n",
    "    version_vec = df['version'].unique()\n",
    "\n",
    "    em1_list = []\n",
    "    repository_list = []\n",
    "    version_list = []\n",
    "\n",
    "    metrics_df = pd.DataFrame()\n",
    "\n",
    "    for version in version_vec:\n",
    "\n",
    "        version_df = df[df['version'] == version]\n",
    "\n",
    "        em1_list.append(em1(version_df))\n",
    "        repository_list.append(version_df['repository'].iloc[0])\n",
    "        version_list.append(version)\n",
    "\n",
    "    metrics_df = pd.DataFrame({'em1': em1_list,\n",
    "                               'repository': repository_list,\n",
    "                               'version': version_list})\n",
    "\n",
    "    return metrics_df"
   ],
   "metadata": {
    "collapsed": false,
    "pycharm": {
     "name": "#%%\n"
    }
   }
  },
  {
   "cell_type": "code",
   "execution_count": 30,
   "outputs": [
    {
     "data": {
      "text/plain": "         em1 repository  version\n0   0.666667   Frontend     v0.1\n1   0.666667   Frontend  v0.10.0\n2   0.666667   Frontend  v0.10.1\n3   0.649573   Frontend  v0.10.2\n4   0.647059   Frontend  v0.11.0\n5   0.647059   Frontend  v0.11.1\n6   0.647059   Frontend  v0.12.0\n7   0.650000   Frontend  v0.13.0\n8   0.650000   Frontend  v0.14.0\n9   0.661157   Frontend  v0.14.1\n10  0.666667   Frontend     v0.2\n11  0.666667   Frontend     v0.3\n12  0.666667   Frontend     v0.4\n13  0.666667   Frontend     v0.5\n14  0.666667   Frontend     v0.6\n15  0.666667   Frontend     v0.7\n16  0.666667   Frontend     v0.8\n17  0.666667   Frontend     v0.9\n18  0.666667   Frontend   v0.9.0\n19  0.661157   Frontend   v1.0.0\n20  0.669421   Frontend   v1.1.0\n21  0.669421   Frontend   v1.2.0\n22  0.666667   Frontend   v1.3.0\n23  0.666667   Frontend   v1.3.1\n24  0.666667   Frontend   v1.3.2\n25  0.669291   Frontend   v1.3.3\n26  0.666667   Frontend   v1.4.0\n27  0.666667   Frontend   v1.4.1\n28  0.666667   Frontend   v1.4.2\n29  0.666667   Frontend   v1.4.3\n30  0.661538   Frontend   v1.5.0\n31  0.664122   Frontend   v1.5.1\n32  0.661654   Frontend   v1.6.0\n33  0.659420   Frontend   v1.7.0\n34  0.659420   Frontend   v1.7.1\n35  0.659420   Frontend   v1.7.2\n36  0.659420   Frontend   v1.8.0\n37  0.652778   Frontend   v1.9.0\n38  0.652778   Frontend   v1.9.1",
      "text/html": "<div>\n<style scoped>\n    .dataframe tbody tr th:only-of-type {\n        vertical-align: middle;\n    }\n\n    .dataframe tbody tr th {\n        vertical-align: top;\n    }\n\n    .dataframe thead th {\n        text-align: right;\n    }\n</style>\n<table border=\"1\" class=\"dataframe\">\n  <thead>\n    <tr style=\"text-align: right;\">\n      <th></th>\n      <th>em1</th>\n      <th>repository</th>\n      <th>version</th>\n    </tr>\n  </thead>\n  <tbody>\n    <tr>\n      <th>0</th>\n      <td>0.666667</td>\n      <td>Frontend</td>\n      <td>v0.1</td>\n    </tr>\n    <tr>\n      <th>1</th>\n      <td>0.666667</td>\n      <td>Frontend</td>\n      <td>v0.10.0</td>\n    </tr>\n    <tr>\n      <th>2</th>\n      <td>0.666667</td>\n      <td>Frontend</td>\n      <td>v0.10.1</td>\n    </tr>\n    <tr>\n      <th>3</th>\n      <td>0.649573</td>\n      <td>Frontend</td>\n      <td>v0.10.2</td>\n    </tr>\n    <tr>\n      <th>4</th>\n      <td>0.647059</td>\n      <td>Frontend</td>\n      <td>v0.11.0</td>\n    </tr>\n    <tr>\n      <th>5</th>\n      <td>0.647059</td>\n      <td>Frontend</td>\n      <td>v0.11.1</td>\n    </tr>\n    <tr>\n      <th>6</th>\n      <td>0.647059</td>\n      <td>Frontend</td>\n      <td>v0.12.0</td>\n    </tr>\n    <tr>\n      <th>7</th>\n      <td>0.650000</td>\n      <td>Frontend</td>\n      <td>v0.13.0</td>\n    </tr>\n    <tr>\n      <th>8</th>\n      <td>0.650000</td>\n      <td>Frontend</td>\n      <td>v0.14.0</td>\n    </tr>\n    <tr>\n      <th>9</th>\n      <td>0.661157</td>\n      <td>Frontend</td>\n      <td>v0.14.1</td>\n    </tr>\n    <tr>\n      <th>10</th>\n      <td>0.666667</td>\n      <td>Frontend</td>\n      <td>v0.2</td>\n    </tr>\n    <tr>\n      <th>11</th>\n      <td>0.666667</td>\n      <td>Frontend</td>\n      <td>v0.3</td>\n    </tr>\n    <tr>\n      <th>12</th>\n      <td>0.666667</td>\n      <td>Frontend</td>\n      <td>v0.4</td>\n    </tr>\n    <tr>\n      <th>13</th>\n      <td>0.666667</td>\n      <td>Frontend</td>\n      <td>v0.5</td>\n    </tr>\n    <tr>\n      <th>14</th>\n      <td>0.666667</td>\n      <td>Frontend</td>\n      <td>v0.6</td>\n    </tr>\n    <tr>\n      <th>15</th>\n      <td>0.666667</td>\n      <td>Frontend</td>\n      <td>v0.7</td>\n    </tr>\n    <tr>\n      <th>16</th>\n      <td>0.666667</td>\n      <td>Frontend</td>\n      <td>v0.8</td>\n    </tr>\n    <tr>\n      <th>17</th>\n      <td>0.666667</td>\n      <td>Frontend</td>\n      <td>v0.9</td>\n    </tr>\n    <tr>\n      <th>18</th>\n      <td>0.666667</td>\n      <td>Frontend</td>\n      <td>v0.9.0</td>\n    </tr>\n    <tr>\n      <th>19</th>\n      <td>0.661157</td>\n      <td>Frontend</td>\n      <td>v1.0.0</td>\n    </tr>\n    <tr>\n      <th>20</th>\n      <td>0.669421</td>\n      <td>Frontend</td>\n      <td>v1.1.0</td>\n    </tr>\n    <tr>\n      <th>21</th>\n      <td>0.669421</td>\n      <td>Frontend</td>\n      <td>v1.2.0</td>\n    </tr>\n    <tr>\n      <th>22</th>\n      <td>0.666667</td>\n      <td>Frontend</td>\n      <td>v1.3.0</td>\n    </tr>\n    <tr>\n      <th>23</th>\n      <td>0.666667</td>\n      <td>Frontend</td>\n      <td>v1.3.1</td>\n    </tr>\n    <tr>\n      <th>24</th>\n      <td>0.666667</td>\n      <td>Frontend</td>\n      <td>v1.3.2</td>\n    </tr>\n    <tr>\n      <th>25</th>\n      <td>0.669291</td>\n      <td>Frontend</td>\n      <td>v1.3.3</td>\n    </tr>\n    <tr>\n      <th>26</th>\n      <td>0.666667</td>\n      <td>Frontend</td>\n      <td>v1.4.0</td>\n    </tr>\n    <tr>\n      <th>27</th>\n      <td>0.666667</td>\n      <td>Frontend</td>\n      <td>v1.4.1</td>\n    </tr>\n    <tr>\n      <th>28</th>\n      <td>0.666667</td>\n      <td>Frontend</td>\n      <td>v1.4.2</td>\n    </tr>\n    <tr>\n      <th>29</th>\n      <td>0.666667</td>\n      <td>Frontend</td>\n      <td>v1.4.3</td>\n    </tr>\n    <tr>\n      <th>30</th>\n      <td>0.661538</td>\n      <td>Frontend</td>\n      <td>v1.5.0</td>\n    </tr>\n    <tr>\n      <th>31</th>\n      <td>0.664122</td>\n      <td>Frontend</td>\n      <td>v1.5.1</td>\n    </tr>\n    <tr>\n      <th>32</th>\n      <td>0.661654</td>\n      <td>Frontend</td>\n      <td>v1.6.0</td>\n    </tr>\n    <tr>\n      <th>33</th>\n      <td>0.659420</td>\n      <td>Frontend</td>\n      <td>v1.7.0</td>\n    </tr>\n    <tr>\n      <th>34</th>\n      <td>0.659420</td>\n      <td>Frontend</td>\n      <td>v1.7.1</td>\n    </tr>\n    <tr>\n      <th>35</th>\n      <td>0.659420</td>\n      <td>Frontend</td>\n      <td>v1.7.2</td>\n    </tr>\n    <tr>\n      <th>36</th>\n      <td>0.659420</td>\n      <td>Frontend</td>\n      <td>v1.8.0</td>\n    </tr>\n    <tr>\n      <th>37</th>\n      <td>0.652778</td>\n      <td>Frontend</td>\n      <td>v1.9.0</td>\n    </tr>\n    <tr>\n      <th>38</th>\n      <td>0.652778</td>\n      <td>Frontend</td>\n      <td>v1.9.1</td>\n    </tr>\n  </tbody>\n</table>\n</div>"
     },
     "execution_count": 30,
     "metadata": {},
     "output_type": "execute_result"
    }
   ],
   "source": [
    "frontend_metrics = create_metrics_df(frontend_df)\n",
    "frontend_metrics"
   ],
   "metadata": {
    "collapsed": false,
    "pycharm": {
     "name": "#%%\n"
    }
   }
  }
 ],
 "metadata": {
  "kernelspec": {
   "display_name": "Python 3",
   "language": "python",
   "name": "python3"
  },
  "language_info": {
   "codemirror_mode": {
    "name": "ipython",
    "version": 3
   },
   "file_extension": ".py",
   "mimetype": "text/x-python",
   "name": "python",
   "nbconvert_exporter": "python",
   "pygments_lexer": "ipython3",
   "version": "3.8.5"
  }
 },
 "nbformat": 4,
 "nbformat_minor": 1
}