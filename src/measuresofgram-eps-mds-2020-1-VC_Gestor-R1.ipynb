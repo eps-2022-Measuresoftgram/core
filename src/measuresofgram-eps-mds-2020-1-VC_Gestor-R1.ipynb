{
 "cells": [
  {
   "cell_type": "code",
   "execution_count": null,
   "outputs": [],
   "source": [
    "import pandas as pd\n",
    "import numpy as np\n",
    "import tensorly as ts\n",
    "import urllib3\n",
    "import json"
   ],
   "metadata": {
    "collapsed": false,
    "pycharm": {
     "name": "#%%\n"
    }
   }
  },
  {
   "cell_type": "code",
   "execution_count": null,
   "outputs": [],
   "source": [
    "# Dataframe configs\n",
    "pd.set_option(\"display.max_rows\", None, \"display.max_columns\", None)"
   ],
   "metadata": {
    "collapsed": false,
    "pycharm": {
     "name": "#%%\n"
    }
   }
  },
  {
   "cell_type": "code",
   "execution_count": null,
   "outputs": [],
   "source": [
    "# Setting SonarCloud.io project key\n",
    "#chave = 'fga-eps-mds_2020.1-VC_Gestor-BackEnd:packages&branch=master'\n",
    "\n",
    "frontend_key = 'Guilherme-Aguiar_2020.1-VC_Gestor-FrontEnd&branch=master'\n",
    "backend_key = 'Guilherme-Aguiar_2020.1-VC_Gestor-BackEnd&branch=master'\n",
    "\n",
    "#backend\n",
    "# https://sonarcloud.io/api/measures/component_tree?component=Guilherme-Aguiar_2020.1-VC_Gestor-BackEnd&branch=master&metricKeys=complexity,functions,files,comment_lines_density,duplicated_lines_density,coverage,sqale_rating,test_success_density,bugs,open_issues,reliability_rating,vulnerabilities,security_rating,ncloc,comment_lines\n",
    "# frontend\n",
    "# https://sonarcloud.io/api/measures/component_tree?component=Guilherme-Aguiar_2020.1-VC_Gestor-FrontEnd&branch=master&metricKeys=complexity,functions,files,comment_lines_density,duplicated_lines_density,coverage,sqale_rating,test_success_density,bugs,open_issues,reliability_rating,vulnerabilities,security_rating,ncloc,comment_lines"
   ],
   "metadata": {
    "collapsed": false,
    "pycharm": {
     "name": "#%%\n"
    }
   }
  },
  {
   "cell_type": "code",
   "execution_count": null,
   "outputs": [],
   "source": [
    "# Defining the raw data extract from sonar cloud\n",
    "metrics_list = ['files',\n",
    "               'functions',\n",
    "               'complexity',\n",
    "               'ncloc',\n",
    "               'comment_lines',\n",
    "               'comment_lines_density',\n",
    "               'duplicated_lines_density',\n",
    "               'test_success_density',\n",
    "               'coverage',\n",
    "               'bugs',\n",
    "               'reliability_rating',\n",
    "               'vulnerabilities',\n",
    "               'security_rating',\n",
    "               'open_issues',\n",
    "               'sqale_rating']"
   ],
   "metadata": {
    "collapsed": false,
    "pycharm": {
     "name": "#%%\n"
    }
   }
  },
  {
   "cell_type": "code",
   "execution_count": null,
   "outputs": [],
   "source": [
    "print(len(metrics_list))"
   ],
   "metadata": {
    "collapsed": false,
    "pycharm": {
     "name": "#%%\n"
    }
   }
  },
  {
   "cell_type": "code",
   "execution_count": null,
   "outputs": [],
   "source": [
    "# Assembling the metric list string and API request URLs\n",
    "\n",
    "def generate_metric_string(metric_list):\n",
    "    metric_str = ''\n",
    "\n",
    "    for metric in metric_list:\n",
    "        metric_str += metric + ','\n",
    "\n",
    "    return metric_str"
   ],
   "metadata": {
    "collapsed": false,
    "pycharm": {
     "name": "#%%\n"
    }
   }
  },
  {
   "cell_type": "code",
   "execution_count": null,
   "outputs": [],
   "source": [
    "metric_str = generate_metric_string(metrics_list)"
   ],
   "metadata": {
    "collapsed": false,
    "pycharm": {
     "name": "#%%\n"
    }
   }
  },
  {
   "cell_type": "code",
   "execution_count": null,
   "outputs": [],
   "source": [
    "# Defining URLs\n",
    "\n",
    "frontend_url = f\"https://sonarcloud.io/api/measures/component_tree?component={frontend_key}&metricKeys={metric_str}&ps=500\"\n",
    "backend_url = f\"https://sonarcloud.io/api/measures/component_tree?component={backend_key}&metricKeys={metric_str}&ps=500\""
   ],
   "metadata": {
    "collapsed": false,
    "pycharm": {
     "name": "#%%\n"
    }
   }
  },
  {
   "cell_type": "code",
   "execution_count": null,
   "outputs": [],
   "source": [
    "# Starting connection\n",
    "http = urllib3.PoolManager()"
   ],
   "metadata": {
    "collapsed": false,
    "pycharm": {
     "name": "#%%\n"
    }
   }
  },
  {
   "cell_type": "code",
   "execution_count": null,
   "outputs": [],
   "source": [
    "# Sonar Cloud API Request\n",
    "frontend_request = http.request('GET', frontend_url)\n",
    "print(frontend_request.status)\n",
    "\n",
    "backend_request = http.request('GET', backend_url)\n",
    "print(backend_request.status)"
   ],
   "metadata": {
    "collapsed": false,
    "pycharm": {
     "name": "#%%\n"
    }
   }
  },
  {
   "cell_type": "code",
   "execution_count": null,
   "outputs": [],
   "source": [
    "# Decoding json files extracted from sonar\n",
    "frontend_json = json.loads(frontend_request.data.decode('utf-8'))\n",
    "backend_json = json.loads(backend_request.data.decode('utf-8'))"
   ],
   "metadata": {
    "collapsed": false,
    "pycharm": {
     "name": "#%%\n"
    }
   }
  },
  {
   "cell_type": "code",
   "execution_count": null,
   "outputs": [],
   "source": [
    "'''\n",
    "# Saving json files locally\n",
    "file_name = 'fga-eps-mds_2020.1-VC_Gestor-BackEnd-R2.json'\n",
    "\n",
    "with open(file_name, 'w') as outfile:\n",
    "    json.dump(json_repository, outfile)\n",
    "'''\n",
    "\n",
    "def metric_per_file(json):\n",
    "    file_json = []\n",
    "\n",
    "    for component in json['components']:\n",
    "        if component['qualifier'] == 'FIL':\n",
    "            file_json.append(component)\n",
    "\n",
    "    return file_json"
   ],
   "metadata": {
    "collapsed": false,
    "pycharm": {
     "name": "#%%\n"
    }
   }
  },
  {
   "cell_type": "code",
   "execution_count": null,
   "outputs": [],
   "source": [
    "frontend_file_json = metric_per_file(frontend_json)\n",
    "backend_file_json = metric_per_file(backend_json)"
   ],
   "metadata": {
    "collapsed": false,
    "pycharm": {
     "name": "#%%\n"
    }
   }
  },
  {
   "cell_type": "code",
   "execution_count": null,
   "outputs": [],
   "source": [
    "def generate_file_dataframe(metric_list, json, language_extension):\n",
    "    df_columns = metric_list\n",
    "    df = pd.DataFrame(columns = df_columns)\n",
    "\n",
    "    for file in json:\n",
    "        try:\n",
    "            if file['language'] == language_extension:\n",
    "                for measure in file['measures']:\n",
    "                    df.at[file['path'], measure['metric']] = measure['value']\n",
    "        except:\n",
    "            pass\n",
    "\n",
    "    df.reset_index(inplace = True)\n",
    "    df.drop(['files'], axis=1)\n",
    "    df = df.rename({'index': 'path'}, axis=1)\n",
    "\n",
    "    return df"
   ],
   "metadata": {
    "collapsed": false,
    "pycharm": {
     "name": "#%%\n"
    }
   }
  },
  {
   "cell_type": "code",
   "execution_count": null,
   "outputs": [],
   "source": [
    "frontend_files_data = generate_file_dataframe(metrics_list, frontend_file_json, language_extension = 'js')\n",
    "backend_files_data = generate_file_dataframe(metrics_list, backend_file_json, language_extension = 'js')"
   ],
   "metadata": {
    "collapsed": false,
    "pycharm": {
     "name": "#%%\n"
    }
   }
  },
  {
   "cell_type": "code",
   "execution_count": null,
   "outputs": [],
   "source": [
    "# FRONTEND METRICS DATA PER FILE\n",
    "\n",
    "frontend_files_data"
   ],
   "metadata": {
    "collapsed": false,
    "pycharm": {
     "name": "#%%\n"
    }
   }
  },
  {
   "cell_type": "code",
   "execution_count": null,
   "outputs": [],
   "source": [
    "# BACKEND METRICS DATA PER FILE\n",
    "\n",
    "backend_files_data\n"
   ],
   "metadata": {
    "collapsed": false,
    "pycharm": {
     "name": "#%%\n"
    }
   }
  },
  {
   "cell_type": "code",
   "execution_count": null,
   "outputs": [],
   "source": [
    "#printing CC per file descriptive statistics\n",
    "backend_files_data['complexity'].astype(int).describe()"
   ],
   "metadata": {
    "collapsed": false,
    "pycharm": {
     "name": "#%%\n"
    }
   }
  },
  {
   "cell_type": "code",
   "execution_count": null,
   "outputs": [],
   "source": [
    "backend_files_data['complexity/functions']=backend_files_data['complexity'].astype(float)/backend_files_data['functions'].astype(float)\n",
    "\n",
    "#printing the average CC per function descriptive statistics\n",
    "backend_files_data['complexity/functions'].describe()"
   ],
   "metadata": {
    "collapsed": false,
    "pycharm": {
     "name": "#%%\n"
    }
   }
  },
  {
   "cell_type": "code",
   "execution_count": null,
   "outputs": [],
   "source": [
    "# Defining metrics for measure em1, where em1 = density of non-complex file\n",
    "m0 = np.median(backend_files_data['complexity/functions'])\n",
    "m1 = backend_files_data['complexity'].astype(float)\n",
    "m2 = backend_files_data['functions'].astype(float)\n",
    "m3 = len(backend_files_data)\n",
    "\n",
    "#  intervals for em1 interpretation\n",
    "x = np.array([0, m0])\n",
    "y = np.array([1, 0])\n",
    "\n",
    "# Defining intervals for em1 interpretation\n",
    "IF1 = np.interp(list(((m1/m2) < m0)[(m2 > 0)]),x, y)\n",
    "\n",
    "em1 = sum(IF1)/m3\n",
    "\n",
    "em1"
   ],
   "metadata": {
    "collapsed": false,
    "pycharm": {
     "name": "#%%\n"
    }
   }
  },
  {
   "cell_type": "code",
   "execution_count": null,
   "outputs": [],
   "source": [
    "# Defining metrics for measure em2, where em2 = density of commented files\n",
    "m4 = backend_files_data['comment_lines_density'].astype(float)\n",
    "\n",
    "#  intervals for em1 interpretation\n",
    "x = np.array([0.1, 0.3])\n",
    "y = np.array([1, 0])\n",
    "\n",
    "#(m4 >= 0.1 and m4 <= 0.3)\n",
    "\n",
    "# Defining intervals for em2 interpretation\n",
    "em2i = []\n",
    "for if2i in m4:\n",
    "    if 10 <= if2i <= 30:\n",
    "        em2i.append(np.interp(if2i/100,x, y))\n",
    "    else:\n",
    "        em2i.append(0)\n",
    "\n",
    "em2 = np.sum(em2i)/m3\n",
    "\n",
    "em2"
   ],
   "metadata": {
    "collapsed": false,
    "pycharm": {
     "name": "#%%\n"
    }
   }
  },
  {
   "cell_type": "code",
   "execution_count": null,
   "outputs": [],
   "source": [
    "# Defining metrics for measure ma3,where ma3 = absence of duplication on file (density)\n",
    "m5 = backend_files_data['duplicated_lines_density'].astype(float)\n",
    "\n",
    "#  intervals for em1 interpretation\n",
    "x = np.array([0.1, 0.2])\n",
    "y = np.array([1, 0])\n",
    "\n",
    "# Intervals for ma3 interpretation\n",
    "em3i = []\n",
    "for if3i in m5:\n",
    "    if 10 <= if3i <= 20:\n",
    "        em3i.append(np.interp(if3i/100,x, y))\n",
    "    else:\n",
    "        em3i.append(0)\n",
    "\n",
    "em3 = np.sum(em3i)/m3\n",
    "\n",
    "em3"
   ],
   "metadata": {
    "collapsed": false,
    "pycharm": {
     "name": "#%%\n"
    }
   }
  },
  {
   "cell_type": "code",
   "execution_count": null,
   "outputs": [],
   "source": [
    "# Defining  Modifiability quality sub-characteristic tensor.\n",
    "# wem1 = 33%\n",
    "# wem2 = 33%\n",
    "# wem3 = 33%\n",
    "\n",
    "wem1=wem2=wem3 = 0.3374\n",
    "\n",
    "SC_Modifiability_EM_Weights = np.array([wem1, wem2, wem3]).reshape(1,3,1)\n",
    "SC_Modifiability_EM = np.array([em1, em2, em3]).reshape(1,3,1)\n",
    "\n",
    "\n",
    "T_SC_Modifiability = ts.tensor(SC_Modifiability_EM)\n",
    "\n",
    "\n",
    "print(\"Modifiability Tensor\" + '\\n' + str(T_SC_Modifiability))\n",
    "print(T_SC_Modifiability.ndim)"
   ],
   "metadata": {
    "collapsed": false,
    "pycharm": {
     "name": "#%%\n"
    }
   }
  },
  {
   "cell_type": "code",
   "execution_count": null,
   "outputs": [],
   "source": [
    "# Weighting Modifiability tensor at measure level.\n",
    "\n",
    "for i in range(T_SC_Modifiability.ndim):\n",
    "     T_SC_Modifiability[::T_SC_Modifiability.ndim][0][i-1] = \\\n",
    "         ts.kron(T_SC_Modifiability[::T_SC_Modifiability.ndim][0][i-1] ,\n",
    "                 SC_Modifiability_EM_Weights[::T_SC_Modifiability.ndim][0][i-1])\n",
    "\n",
    "print(\"Weighted SC_Modifiability Tensor measures\" + '\\n' + str(T_SC_Modifiability))"
   ],
   "metadata": {
    "collapsed": false,
    "pycharm": {
     "name": "#%%\n"
    }
   }
  },
  {
   "cell_type": "code",
   "execution_count": null,
   "outputs": [],
   "source": [
    "# Weighting Modifiability tensor at sub-characteristic level.\n",
    "# wsc1 = 100%\n",
    "\n",
    "wsc1 = 1\n",
    "\n",
    "T_SC_Modifiability = ts.kron(T_SC_Modifiability,wsc1)\n",
    "\n",
    "print(\"Weighted SC_Modifiability Tensor\" + '\\n' + str(T_SC_Modifiability))"
   ],
   "metadata": {
    "collapsed": false,
    "pycharm": {
     "name": "#%%\n"
    }
   }
  },
  {
   "cell_type": "code",
   "execution_count": null,
   "outputs": [],
   "source": [
    "# Defining the maintainability quality characteristic tensor.\n",
    "\n",
    "T_C_Maintainability = np.array([])\n",
    "T_C_Maintainability = np.append(T_C_Maintainability,T_SC_Modifiability)\n",
    "\n",
    "# Weighting Maintainability tensor at characteristic level.\n",
    "# wc1 = 100%\n",
    "\n",
    "wc1 = 1\n",
    "\n",
    "T_C_Maintainability = ts.kron(T_C_Maintainability,wc1)\n",
    "\n",
    "# Weighted C_Maintainability Tensor\n",
    "print(str(T_C_Maintainability.reshape(1,3,1)))"
   ],
   "metadata": {
    "collapsed": false,
    "pycharm": {
     "name": "#%%\n"
    }
   }
  },
  {
   "cell_type": "code",
   "execution_count": null,
   "outputs": [],
   "source": [
    "# Aggregating C_Maintainability Tensor. The aggregation view is obtained from Frobenius norm of tensor.\n",
    "print(str(ts.norm(T_C_Maintainability)))"
   ],
   "metadata": {
    "collapsed": false,
    "pycharm": {
     "name": "#%%\n"
    }
   }
  },
  {
   "cell_type": "code",
   "execution_count": null,
   "outputs": [],
   "source": [
    "SQC_1 = np.array([])\n",
    "SQC_1 = np.append(SQC_1, T_C_Maintainability)\n",
    "\n",
    "# The overall quality at Release 1 in VC_Gestor product.\n",
    "# Github Repository: https://github.com/fga-eps-mds/2020.1-VC_Gestor-BackEnd\n",
    "print(str(ts.norm(SQC_1)))\n"
   ],
   "metadata": {
    "collapsed": false,
    "pycharm": {
     "name": "#%%\n"
    }
   }
  }
 ],
 "metadata": {
  "kernelspec": {
   "display_name": "Python 3",
   "language": "python",
   "name": "python3"
  },
  "language_info": {
   "codemirror_mode": {
    "name": "ipython",
    "version": 2
   },
   "file_extension": ".py",
   "mimetype": "text/x-python",
   "name": "python",
   "nbconvert_exporter": "python",
   "pygments_lexer": "ipython2",
   "version": "2.7.6"
  }
 },
 "nbformat": 4,
 "nbformat_minor": 0
}