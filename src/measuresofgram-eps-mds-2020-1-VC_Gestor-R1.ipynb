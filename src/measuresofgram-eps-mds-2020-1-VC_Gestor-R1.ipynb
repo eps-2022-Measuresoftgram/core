{
 "cells": [
  {
   "cell_type": "code",
   "execution_count": 1,
   "metadata": {
    "pycharm": {
     "name": "#%%\n"
    }
   },
   "outputs": [],
   "source": [
    "import pandas as pd\n",
    "import numpy as np\n",
    "import tensorly as ts\n",
    "import urllib3\n",
    "import json"
   ]
  },
  {
   "cell_type": "code",
   "execution_count": 2,
   "metadata": {
    "pycharm": {
     "name": "#%%\n"
    }
   },
   "outputs": [],
   "source": [
    "# Dataframe configs\n",
    "pd.set_option(\"display.max_rows\", None, \"display.max_columns\", None)"
   ]
  },
  {
   "cell_type": "code",
   "execution_count": 3,
   "metadata": {
    "pycharm": {
     "name": "#%%\n"
    }
   },
   "outputs": [],
   "source": [
    "# Setting SonarCloud.io project key\n",
    "#chave = 'fga-eps-mds_2020.1-VC_Gestor-BackEnd:packages&branch=master'\n",
    "\n",
    "frontend_key = 'Guilherme-Aguiar_2020.1-VC_Gestor-FrontEnd&branch=master'\n",
    "backend_key = 'Guilherme-Aguiar_2020.1-VC_Gestor-BackEnd&branch=master'\n",
    "\n",
    "#backend\n",
    "# https://sonarcloud.io/api/measures/component_tree?component=Guilherme-Aguiar_2020.1-VC_Gestor-BackEnd&branch=master&metricKeys=complexity,functions,files,comment_lines_density,duplicated_lines_density,coverage,sqale_rating,test_success_density,bugs,open_issues,reliability_rating,vulnerabilities,security_rating,ncloc,comment_lines\n",
    "# frontend\n",
    "# https://sonarcloud.io/api/measures/component_tree?component=Guilherme-Aguiar_2020.1-VC_Gestor-FrontEnd&branch=master&metricKeys=complexity,functions,files,comment_lines_density,duplicated_lines_density,coverage,sqale_rating,test_success_density,bugs,open_issues,reliability_rating,vulnerabilities,security_rating,ncloc,comment_lines"
   ]
  },
  {
   "cell_type": "code",
   "execution_count": 4,
   "metadata": {
    "pycharm": {
     "name": "#%%\n"
    }
   },
   "outputs": [],
   "source": [
    "# Defining the raw data extract from sonar cloud\n",
    "metrics_list = ['files',\n",
    "               'functions',\n",
    "               'complexity',\n",
    "               'ncloc',\n",
    "               'comment_lines',\n",
    "               'comment_lines_density',\n",
    "               'duplicated_lines_density',\n",
    "               'test_success_density',\n",
    "               'coverage',\n",
    "               'bugs',\n",
    "               'reliability_rating',\n",
    "               'vulnerabilities',\n",
    "               'security_rating',\n",
    "               'open_issues',\n",
    "               'sqale_rating']"
   ]
  },
  {
   "cell_type": "code",
   "execution_count": 5,
   "metadata": {
    "pycharm": {
     "name": "#%%\n"
    }
   },
   "outputs": [
    {
     "name": "stdout",
     "output_type": "stream",
     "text": [
      "15\n"
     ]
    }
   ],
   "source": [
    "print(len(metrics_list))"
   ]
  },
  {
   "cell_type": "code",
   "execution_count": 6,
   "metadata": {
    "pycharm": {
     "name": "#%%\n"
    }
   },
   "outputs": [],
   "source": [
    "# Assembling the metric list string and API request URLs\n",
    "\n",
    "def generate_metric_string(metric_list):\n",
    "    metric_str = ''\n",
    "\n",
    "    for metric in metric_list:\n",
    "        metric_str += metric + ','\n",
    "\n",
    "    return metric_str"
   ]
  },
  {
   "cell_type": "code",
   "execution_count": 7,
   "metadata": {
    "pycharm": {
     "name": "#%%\n"
    }
   },
   "outputs": [],
   "source": [
    "metric_str = generate_metric_string(metrics_list)"
   ]
  },
  {
   "cell_type": "code",
   "execution_count": 8,
   "metadata": {
    "pycharm": {
     "name": "#%%\n"
    }
   },
   "outputs": [],
   "source": [
    "# Defining URLs\n",
    "\n",
    "frontend_url = f\"https://sonarcloud.io/api/measures/component_tree?component={frontend_key}&metricKeys={metric_str}&ps=500\"\n",
    "backend_url = f\"https://sonarcloud.io/api/measures/component_tree?component={backend_key}&metricKeys={metric_str}&ps=500\""
   ]
  },
  {
   "cell_type": "code",
   "execution_count": 9,
   "metadata": {
    "pycharm": {
     "name": "#%%\n"
    }
   },
   "outputs": [],
   "source": [
    "# Starting connection\n",
    "http = urllib3.PoolManager()"
   ]
  },
  {
   "cell_type": "code",
   "execution_count": 10,
   "metadata": {
    "pycharm": {
     "name": "#%%\n"
    }
   },
   "outputs": [
    {
     "name": "stdout",
     "output_type": "stream",
     "text": [
      "200\n",
      "200\n"
     ]
    }
   ],
   "source": [
    "# Sonar Cloud API Request\n",
    "frontend_request = http.request('GET', frontend_url)\n",
    "print(frontend_request.status)\n",
    "\n",
    "backend_request = http.request('GET', backend_url)\n",
    "print(backend_request.status)"
   ]
  },
  {
   "cell_type": "code",
   "execution_count": 11,
   "metadata": {
    "pycharm": {
     "name": "#%%\n"
    }
   },
   "outputs": [],
   "source": [
    "# Decoding json files extracted from sonar\n",
    "frontend_json = json.loads(frontend_request.data.decode('utf-8'))\n",
    "backend_json = json.loads(backend_request.data.decode('utf-8'))"
   ]
  },
  {
   "cell_type": "code",
   "execution_count": 12,
   "metadata": {
    "pycharm": {
     "name": "#%%\n"
    }
   },
   "outputs": [],
   "source": [
    "'''\n",
    "# Saving json files locally\n",
    "file_name = 'fga-eps-mds_2020.1-VC_Gestor-BackEnd-R2.json'\n",
    "\n",
    "with open(file_name, 'w') as outfile:\n",
    "    json.dump(json_repository, outfile)\n",
    "'''\n",
    "\n",
    "def metric_per_file(json):\n",
    "    file_json = []\n",
    "\n",
    "    for component in json['components']:\n",
    "        if component['qualifier'] == 'FIL':\n",
    "            file_json.append(component)\n",
    "\n",
    "    return file_json"
   ]
  },
  {
   "cell_type": "code",
   "execution_count": 13,
   "metadata": {
    "pycharm": {
     "name": "#%%\n"
    }
   },
   "outputs": [],
   "source": [
    "frontend_file_json = metric_per_file(frontend_json)\n",
    "backend_file_json = metric_per_file(backend_json)"
   ]
  },
  {
   "cell_type": "code",
   "execution_count": 14,
   "metadata": {
    "pycharm": {
     "name": "#%%\n"
    }
   },
   "outputs": [],
   "source": [
    "def generate_file_dataframe(metric_list, json, language_extension):\n",
    "    df_columns = metric_list\n",
    "    df = pd.DataFrame(columns = df_columns)\n",
    "\n",
    "    for file in json:\n",
    "        try:\n",
    "            if file['language'] == language_extension:\n",
    "                for measure in file['measures']:\n",
    "                    df.at[file['path'], measure['metric']] = measure['value']\n",
    "        except:\n",
    "            pass\n",
    "\n",
    "    df.reset_index(inplace = True)\n",
    "    df.drop(['files'], axis=1)\n",
    "    df = df.rename({'index': 'path'}, axis=1)\n",
    "\n",
    "    return df"
   ]
  },
  {
   "cell_type": "code",
   "execution_count": 15,
   "metadata": {
    "pycharm": {
     "name": "#%%\n"
    }
   },
   "outputs": [],
   "source": [
    "frontend_files_data = generate_file_dataframe(metrics_list, frontend_file_json, language_extension = 'js')\n",
    "backend_files_data = generate_file_dataframe(metrics_list, backend_file_json, language_extension = 'js')"
   ]
  },
  {
   "cell_type": "code",
   "execution_count": 16,
   "metadata": {
    "pycharm": {
     "name": "#%%\n"
    }
   },
   "outputs": [
    {
     "data": {
      "text/plain": "                                               path files functions  \\\n0                               src/services/api.js     1         0   \n1                         src/components/app/App.js     1         1   \n2                    src/components/app/App.test.js     1         1   \n3           src/components/pages/BeneficiosCriar.js     1         1   \n4   src/components/component-name/component-name.js     1         0   \n5                src/components/components/Forms.js     1         4   \n6                  src/components/pages/Postagem.js     1         3   \n7         src/components/components/PostagemMenu.js     1        10   \n8              src/components/components/Sidebar.js     1         8   \n9                    src/components/pages/tabela.js     1         3   \n10              src/components/pages/TabelaPosts.js     1        34   \n\n   complexity ncloc comment_lines comment_lines_density  \\\n0           0     5             0                   0.0   \n1           1    25             0                   0.0   \n2           1     8             0                   0.0   \n3           1    20             0                   0.0   \n4           0     0             0                   NaN   \n5          10    99             0                   0.0   \n6           3    53             0                   0.0   \n7          13    62             0                   0.0   \n8          12   109             0                   0.0   \n9           3    66             5                   7.0   \n10         41   273             7                   2.5   \n\n   duplicated_lines_density test_success_density coverage bugs  \\\n0                       0.0                100.0      NaN    0   \n1                       0.0                100.0      NaN    0   \n2                       0.0                100.0      NaN    0   \n3                       0.0                100.0      NaN    0   \n4                       0.0                100.0      NaN    0   \n5                       0.0                100.0      NaN    0   \n6                       0.0                100.0      NaN    0   \n7                       0.0                100.0      NaN    0   \n8                       0.0                100.0      NaN    0   \n9                       0.0                100.0      NaN    0   \n10                      0.0                100.0      NaN    1   \n\n   reliability_rating vulnerabilities security_rating open_issues sqale_rating  \n0                 1.0               0             1.0           0          1.0  \n1                 1.0               0             1.0           0          1.0  \n2                 1.0               0             1.0           0          1.0  \n3                 1.0               0             1.0           1          1.0  \n4                 1.0               0             1.0           0          1.0  \n5                 1.0               0             1.0           3          1.0  \n6                 1.0               0             1.0           0          1.0  \n7                 1.0               0             1.0           0          1.0  \n8                 1.0               0             1.0           3          1.0  \n9                 1.0               0             1.0           0          1.0  \n10                3.0               0             1.0           3          1.0  ",
      "text/html": "<div>\n<style scoped>\n    .dataframe tbody tr th:only-of-type {\n        vertical-align: middle;\n    }\n\n    .dataframe tbody tr th {\n        vertical-align: top;\n    }\n\n    .dataframe thead th {\n        text-align: right;\n    }\n</style>\n<table border=\"1\" class=\"dataframe\">\n  <thead>\n    <tr style=\"text-align: right;\">\n      <th></th>\n      <th>path</th>\n      <th>files</th>\n      <th>functions</th>\n      <th>complexity</th>\n      <th>ncloc</th>\n      <th>comment_lines</th>\n      <th>comment_lines_density</th>\n      <th>duplicated_lines_density</th>\n      <th>test_success_density</th>\n      <th>coverage</th>\n      <th>bugs</th>\n      <th>reliability_rating</th>\n      <th>vulnerabilities</th>\n      <th>security_rating</th>\n      <th>open_issues</th>\n      <th>sqale_rating</th>\n    </tr>\n  </thead>\n  <tbody>\n    <tr>\n      <th>0</th>\n      <td>src/services/api.js</td>\n      <td>1</td>\n      <td>0</td>\n      <td>0</td>\n      <td>5</td>\n      <td>0</td>\n      <td>0.0</td>\n      <td>0.0</td>\n      <td>100.0</td>\n      <td>NaN</td>\n      <td>0</td>\n      <td>1.0</td>\n      <td>0</td>\n      <td>1.0</td>\n      <td>0</td>\n      <td>1.0</td>\n    </tr>\n    <tr>\n      <th>1</th>\n      <td>src/components/app/App.js</td>\n      <td>1</td>\n      <td>1</td>\n      <td>1</td>\n      <td>25</td>\n      <td>0</td>\n      <td>0.0</td>\n      <td>0.0</td>\n      <td>100.0</td>\n      <td>NaN</td>\n      <td>0</td>\n      <td>1.0</td>\n      <td>0</td>\n      <td>1.0</td>\n      <td>0</td>\n      <td>1.0</td>\n    </tr>\n    <tr>\n      <th>2</th>\n      <td>src/components/app/App.test.js</td>\n      <td>1</td>\n      <td>1</td>\n      <td>1</td>\n      <td>8</td>\n      <td>0</td>\n      <td>0.0</td>\n      <td>0.0</td>\n      <td>100.0</td>\n      <td>NaN</td>\n      <td>0</td>\n      <td>1.0</td>\n      <td>0</td>\n      <td>1.0</td>\n      <td>0</td>\n      <td>1.0</td>\n    </tr>\n    <tr>\n      <th>3</th>\n      <td>src/components/pages/BeneficiosCriar.js</td>\n      <td>1</td>\n      <td>1</td>\n      <td>1</td>\n      <td>20</td>\n      <td>0</td>\n      <td>0.0</td>\n      <td>0.0</td>\n      <td>100.0</td>\n      <td>NaN</td>\n      <td>0</td>\n      <td>1.0</td>\n      <td>0</td>\n      <td>1.0</td>\n      <td>1</td>\n      <td>1.0</td>\n    </tr>\n    <tr>\n      <th>4</th>\n      <td>src/components/component-name/component-name.js</td>\n      <td>1</td>\n      <td>0</td>\n      <td>0</td>\n      <td>0</td>\n      <td>0</td>\n      <td>NaN</td>\n      <td>0.0</td>\n      <td>100.0</td>\n      <td>NaN</td>\n      <td>0</td>\n      <td>1.0</td>\n      <td>0</td>\n      <td>1.0</td>\n      <td>0</td>\n      <td>1.0</td>\n    </tr>\n    <tr>\n      <th>5</th>\n      <td>src/components/components/Forms.js</td>\n      <td>1</td>\n      <td>4</td>\n      <td>10</td>\n      <td>99</td>\n      <td>0</td>\n      <td>0.0</td>\n      <td>0.0</td>\n      <td>100.0</td>\n      <td>NaN</td>\n      <td>0</td>\n      <td>1.0</td>\n      <td>0</td>\n      <td>1.0</td>\n      <td>3</td>\n      <td>1.0</td>\n    </tr>\n    <tr>\n      <th>6</th>\n      <td>src/components/pages/Postagem.js</td>\n      <td>1</td>\n      <td>3</td>\n      <td>3</td>\n      <td>53</td>\n      <td>0</td>\n      <td>0.0</td>\n      <td>0.0</td>\n      <td>100.0</td>\n      <td>NaN</td>\n      <td>0</td>\n      <td>1.0</td>\n      <td>0</td>\n      <td>1.0</td>\n      <td>0</td>\n      <td>1.0</td>\n    </tr>\n    <tr>\n      <th>7</th>\n      <td>src/components/components/PostagemMenu.js</td>\n      <td>1</td>\n      <td>10</td>\n      <td>13</td>\n      <td>62</td>\n      <td>0</td>\n      <td>0.0</td>\n      <td>0.0</td>\n      <td>100.0</td>\n      <td>NaN</td>\n      <td>0</td>\n      <td>1.0</td>\n      <td>0</td>\n      <td>1.0</td>\n      <td>0</td>\n      <td>1.0</td>\n    </tr>\n    <tr>\n      <th>8</th>\n      <td>src/components/components/Sidebar.js</td>\n      <td>1</td>\n      <td>8</td>\n      <td>12</td>\n      <td>109</td>\n      <td>0</td>\n      <td>0.0</td>\n      <td>0.0</td>\n      <td>100.0</td>\n      <td>NaN</td>\n      <td>0</td>\n      <td>1.0</td>\n      <td>0</td>\n      <td>1.0</td>\n      <td>3</td>\n      <td>1.0</td>\n    </tr>\n    <tr>\n      <th>9</th>\n      <td>src/components/pages/tabela.js</td>\n      <td>1</td>\n      <td>3</td>\n      <td>3</td>\n      <td>66</td>\n      <td>5</td>\n      <td>7.0</td>\n      <td>0.0</td>\n      <td>100.0</td>\n      <td>NaN</td>\n      <td>0</td>\n      <td>1.0</td>\n      <td>0</td>\n      <td>1.0</td>\n      <td>0</td>\n      <td>1.0</td>\n    </tr>\n    <tr>\n      <th>10</th>\n      <td>src/components/pages/TabelaPosts.js</td>\n      <td>1</td>\n      <td>34</td>\n      <td>41</td>\n      <td>273</td>\n      <td>7</td>\n      <td>2.5</td>\n      <td>0.0</td>\n      <td>100.0</td>\n      <td>NaN</td>\n      <td>1</td>\n      <td>3.0</td>\n      <td>0</td>\n      <td>1.0</td>\n      <td>3</td>\n      <td>1.0</td>\n    </tr>\n  </tbody>\n</table>\n</div>"
     },
     "execution_count": 16,
     "metadata": {},
     "output_type": "execute_result"
    }
   ],
   "source": [
    "# FRONTEND METRICS DATA PER FILE\n",
    "\n",
    "frontend_files_data"
   ]
  },
  {
   "cell_type": "code",
   "execution_count": 17,
   "metadata": {
    "pycharm": {
     "name": "#%%\n"
    }
   },
   "outputs": [
    {
     "data": {
      "text/plain": "                                                 path files functions  \\\n0             packages/benefits/src/models/benefit.js     1         0   \n1   packages/benefits/src/controller/BenefitContro...     1         7   \n2          packages/resolution/src/models/category.js     1         0   \n3   packages/resolution/src/test/controller/Contro...     1        12   \n4            packages/benefits/src/config/database.js     1         0   \n5          packages/resolution/src/config/database.js     1         0   \n6                              packages/user/index.js     1         1   \n7   packages/resolution/src/test/controller/ModelT...     1         7   \n8             packages/resolution/src/models/place.js     1         0   \n9              packages/resolution/src/models/post.js     1         1   \n10  packages/resolution/src/controller/PostControl...     1         3   \n11  packages/resolution/src/controller/postService.js     1         4   \n12             packages/resolution/src/models/user.js     1         0   \n13            packages/resolution/src/models/votes.js     1         0   \n\n   complexity ncloc comment_lines comment_lines_density  \\\n0           0    34             0                   0.0   \n1           7    69             1                   1.4   \n2           0    21             0                   0.0   \n3          14    90             2                   2.2   \n4           0    10             0                   0.0   \n5           0    10             0                   0.0   \n6           1    11             0                   0.0   \n7           7    40             0                   0.0   \n8           0    24             0                   0.0   \n9           1    83            11                  11.7   \n10          7    33             2                   5.7   \n11          4    39             0                   0.0   \n12          0    38             0                   0.0   \n13          0    61             0                   0.0   \n\n   duplicated_lines_density test_success_density coverage bugs  \\\n0                       0.0                100.0      NaN    0   \n1                       0.0                100.0      NaN    0   \n2                       0.0                100.0      NaN    0   \n3                       0.0                100.0      NaN    0   \n4                       0.0                100.0      NaN    0   \n5                       0.0                100.0      NaN    0   \n6                       0.0                100.0      NaN    0   \n7                       0.0                100.0      NaN    0   \n8                       0.0                100.0      NaN    0   \n9                       0.0                100.0      NaN    0   \n10                      0.0                100.0      NaN    0   \n11                      0.0                100.0      NaN    0   \n12                      0.0                100.0      NaN    0   \n13                      0.0                100.0      NaN    0   \n\n   reliability_rating vulnerabilities security_rating open_issues sqale_rating  \n0                 1.0               0             1.0           0          1.0  \n1                 1.0               0             1.0           0          1.0  \n2                 1.0               0             1.0           0          1.0  \n3                 1.0               0             1.0           0          1.0  \n4                 1.0               0             1.0           0          1.0  \n5                 1.0               0             1.0           0          1.0  \n6                 1.0               0             1.0           0          1.0  \n7                 1.0               0             1.0           0          1.0  \n8                 1.0               0             1.0           0          1.0  \n9                 1.0               0             1.0           0          1.0  \n10                1.0               0             1.0           0          1.0  \n11                1.0               0             1.0           1          1.0  \n12                1.0               0             1.0           0          1.0  \n13                1.0               0             1.0           0          1.0  ",
      "text/html": "<div>\n<style scoped>\n    .dataframe tbody tr th:only-of-type {\n        vertical-align: middle;\n    }\n\n    .dataframe tbody tr th {\n        vertical-align: top;\n    }\n\n    .dataframe thead th {\n        text-align: right;\n    }\n</style>\n<table border=\"1\" class=\"dataframe\">\n  <thead>\n    <tr style=\"text-align: right;\">\n      <th></th>\n      <th>path</th>\n      <th>files</th>\n      <th>functions</th>\n      <th>complexity</th>\n      <th>ncloc</th>\n      <th>comment_lines</th>\n      <th>comment_lines_density</th>\n      <th>duplicated_lines_density</th>\n      <th>test_success_density</th>\n      <th>coverage</th>\n      <th>bugs</th>\n      <th>reliability_rating</th>\n      <th>vulnerabilities</th>\n      <th>security_rating</th>\n      <th>open_issues</th>\n      <th>sqale_rating</th>\n    </tr>\n  </thead>\n  <tbody>\n    <tr>\n      <th>0</th>\n      <td>packages/benefits/src/models/benefit.js</td>\n      <td>1</td>\n      <td>0</td>\n      <td>0</td>\n      <td>34</td>\n      <td>0</td>\n      <td>0.0</td>\n      <td>0.0</td>\n      <td>100.0</td>\n      <td>NaN</td>\n      <td>0</td>\n      <td>1.0</td>\n      <td>0</td>\n      <td>1.0</td>\n      <td>0</td>\n      <td>1.0</td>\n    </tr>\n    <tr>\n      <th>1</th>\n      <td>packages/benefits/src/controller/BenefitContro...</td>\n      <td>1</td>\n      <td>7</td>\n      <td>7</td>\n      <td>69</td>\n      <td>1</td>\n      <td>1.4</td>\n      <td>0.0</td>\n      <td>100.0</td>\n      <td>NaN</td>\n      <td>0</td>\n      <td>1.0</td>\n      <td>0</td>\n      <td>1.0</td>\n      <td>0</td>\n      <td>1.0</td>\n    </tr>\n    <tr>\n      <th>2</th>\n      <td>packages/resolution/src/models/category.js</td>\n      <td>1</td>\n      <td>0</td>\n      <td>0</td>\n      <td>21</td>\n      <td>0</td>\n      <td>0.0</td>\n      <td>0.0</td>\n      <td>100.0</td>\n      <td>NaN</td>\n      <td>0</td>\n      <td>1.0</td>\n      <td>0</td>\n      <td>1.0</td>\n      <td>0</td>\n      <td>1.0</td>\n    </tr>\n    <tr>\n      <th>3</th>\n      <td>packages/resolution/src/test/controller/Contro...</td>\n      <td>1</td>\n      <td>12</td>\n      <td>14</td>\n      <td>90</td>\n      <td>2</td>\n      <td>2.2</td>\n      <td>0.0</td>\n      <td>100.0</td>\n      <td>NaN</td>\n      <td>0</td>\n      <td>1.0</td>\n      <td>0</td>\n      <td>1.0</td>\n      <td>0</td>\n      <td>1.0</td>\n    </tr>\n    <tr>\n      <th>4</th>\n      <td>packages/benefits/src/config/database.js</td>\n      <td>1</td>\n      <td>0</td>\n      <td>0</td>\n      <td>10</td>\n      <td>0</td>\n      <td>0.0</td>\n      <td>0.0</td>\n      <td>100.0</td>\n      <td>NaN</td>\n      <td>0</td>\n      <td>1.0</td>\n      <td>0</td>\n      <td>1.0</td>\n      <td>0</td>\n      <td>1.0</td>\n    </tr>\n    <tr>\n      <th>5</th>\n      <td>packages/resolution/src/config/database.js</td>\n      <td>1</td>\n      <td>0</td>\n      <td>0</td>\n      <td>10</td>\n      <td>0</td>\n      <td>0.0</td>\n      <td>0.0</td>\n      <td>100.0</td>\n      <td>NaN</td>\n      <td>0</td>\n      <td>1.0</td>\n      <td>0</td>\n      <td>1.0</td>\n      <td>0</td>\n      <td>1.0</td>\n    </tr>\n    <tr>\n      <th>6</th>\n      <td>packages/user/index.js</td>\n      <td>1</td>\n      <td>1</td>\n      <td>1</td>\n      <td>11</td>\n      <td>0</td>\n      <td>0.0</td>\n      <td>0.0</td>\n      <td>100.0</td>\n      <td>NaN</td>\n      <td>0</td>\n      <td>1.0</td>\n      <td>0</td>\n      <td>1.0</td>\n      <td>0</td>\n      <td>1.0</td>\n    </tr>\n    <tr>\n      <th>7</th>\n      <td>packages/resolution/src/test/controller/ModelT...</td>\n      <td>1</td>\n      <td>7</td>\n      <td>7</td>\n      <td>40</td>\n      <td>0</td>\n      <td>0.0</td>\n      <td>0.0</td>\n      <td>100.0</td>\n      <td>NaN</td>\n      <td>0</td>\n      <td>1.0</td>\n      <td>0</td>\n      <td>1.0</td>\n      <td>0</td>\n      <td>1.0</td>\n    </tr>\n    <tr>\n      <th>8</th>\n      <td>packages/resolution/src/models/place.js</td>\n      <td>1</td>\n      <td>0</td>\n      <td>0</td>\n      <td>24</td>\n      <td>0</td>\n      <td>0.0</td>\n      <td>0.0</td>\n      <td>100.0</td>\n      <td>NaN</td>\n      <td>0</td>\n      <td>1.0</td>\n      <td>0</td>\n      <td>1.0</td>\n      <td>0</td>\n      <td>1.0</td>\n    </tr>\n    <tr>\n      <th>9</th>\n      <td>packages/resolution/src/models/post.js</td>\n      <td>1</td>\n      <td>1</td>\n      <td>1</td>\n      <td>83</td>\n      <td>11</td>\n      <td>11.7</td>\n      <td>0.0</td>\n      <td>100.0</td>\n      <td>NaN</td>\n      <td>0</td>\n      <td>1.0</td>\n      <td>0</td>\n      <td>1.0</td>\n      <td>0</td>\n      <td>1.0</td>\n    </tr>\n    <tr>\n      <th>10</th>\n      <td>packages/resolution/src/controller/PostControl...</td>\n      <td>1</td>\n      <td>3</td>\n      <td>7</td>\n      <td>33</td>\n      <td>2</td>\n      <td>5.7</td>\n      <td>0.0</td>\n      <td>100.0</td>\n      <td>NaN</td>\n      <td>0</td>\n      <td>1.0</td>\n      <td>0</td>\n      <td>1.0</td>\n      <td>0</td>\n      <td>1.0</td>\n    </tr>\n    <tr>\n      <th>11</th>\n      <td>packages/resolution/src/controller/postService.js</td>\n      <td>1</td>\n      <td>4</td>\n      <td>4</td>\n      <td>39</td>\n      <td>0</td>\n      <td>0.0</td>\n      <td>0.0</td>\n      <td>100.0</td>\n      <td>NaN</td>\n      <td>0</td>\n      <td>1.0</td>\n      <td>0</td>\n      <td>1.0</td>\n      <td>1</td>\n      <td>1.0</td>\n    </tr>\n    <tr>\n      <th>12</th>\n      <td>packages/resolution/src/models/user.js</td>\n      <td>1</td>\n      <td>0</td>\n      <td>0</td>\n      <td>38</td>\n      <td>0</td>\n      <td>0.0</td>\n      <td>0.0</td>\n      <td>100.0</td>\n      <td>NaN</td>\n      <td>0</td>\n      <td>1.0</td>\n      <td>0</td>\n      <td>1.0</td>\n      <td>0</td>\n      <td>1.0</td>\n    </tr>\n    <tr>\n      <th>13</th>\n      <td>packages/resolution/src/models/votes.js</td>\n      <td>1</td>\n      <td>0</td>\n      <td>0</td>\n      <td>61</td>\n      <td>0</td>\n      <td>0.0</td>\n      <td>0.0</td>\n      <td>100.0</td>\n      <td>NaN</td>\n      <td>0</td>\n      <td>1.0</td>\n      <td>0</td>\n      <td>1.0</td>\n      <td>0</td>\n      <td>1.0</td>\n    </tr>\n  </tbody>\n</table>\n</div>"
     },
     "execution_count": 17,
     "metadata": {},
     "output_type": "execute_result"
    }
   ],
   "source": [
    "# BACKEND METRICS DATA PER FILE\n",
    "\n",
    "backend_files_data\n"
   ]
  },
  {
   "cell_type": "code",
   "execution_count": 18,
   "metadata": {
    "pycharm": {
     "name": "#%%\n"
    }
   },
   "outputs": [
    {
     "data": {
      "text/plain": "count    14.000000\nmean      2.928571\nstd       4.304993\nmin       0.000000\n25%       0.000000\n50%       0.500000\n75%       6.250000\nmax      14.000000\nName: complexity, dtype: float64"
     },
     "execution_count": 18,
     "metadata": {},
     "output_type": "execute_result"
    }
   ],
   "source": [
    "#printing CC per file descriptive statistics\n",
    "backend_files_data['complexity'].astype(int).describe()"
   ]
  },
  {
   "cell_type": "code",
   "execution_count": 19,
   "metadata": {
    "pycharm": {
     "name": "#%%\n"
    }
   },
   "outputs": [
    {
     "data": {
      "text/plain": "count    7.000000\nmean     1.214286\nstd      0.497347\nmin      1.000000\n25%      1.000000\n50%      1.000000\n75%      1.083333\nmax      2.333333\nName: complexity/functions, dtype: float64"
     },
     "execution_count": 19,
     "metadata": {},
     "output_type": "execute_result"
    }
   ],
   "source": [
    "backend_files_data['complexity/functions']=backend_files_data['complexity'].astype(float)/backend_files_data['functions'].astype(float)\n",
    "\n",
    "#printing the average CC per function descriptive statistics\n",
    "backend_files_data['complexity/functions'].describe()"
   ]
  },
  {
   "cell_type": "code",
   "execution_count": 20,
   "metadata": {
    "pycharm": {
     "name": "#%%\n"
    }
   },
   "outputs": [
    {
     "data": {
      "text/plain": "0.5"
     },
     "execution_count": 20,
     "metadata": {},
     "output_type": "execute_result"
    }
   ],
   "source": [
    "# Defining metrics for measure em1, where em1 = density of non-complex file\n",
    "m0 = np.median(backend_files_data['complexity/functions'])\n",
    "m1 = backend_files_data['complexity'].astype(float)\n",
    "m2 = backend_files_data['functions'].astype(float)\n",
    "m3 = len(backend_files_data)\n",
    "\n",
    "#  intervals for em1 interpretation\n",
    "x = np.array([0, m0])\n",
    "y = np.array([1, 0])\n",
    "\n",
    "# Defining intervals for em1 interpretation\n",
    "IF1 = np.interp(list(((m1/m2) < m0)[(m2 > 0)]),x, y)\n",
    "\n",
    "em1 = sum(IF1)/m3\n",
    "\n",
    "em1"
   ]
  },
  {
   "cell_type": "code",
   "execution_count": 21,
   "metadata": {
    "pycharm": {
     "name": "#%%\n"
    }
   },
   "outputs": [
    {
     "data": {
      "text/plain": "0.06535714285714286"
     },
     "execution_count": 21,
     "metadata": {},
     "output_type": "execute_result"
    }
   ],
   "source": [
    "# Defining metrics for measure em2, where em2 = density of commented files\n",
    "m4 = backend_files_data['comment_lines_density'].astype(float)\n",
    "\n",
    "#  intervals for em1 interpretation\n",
    "x = np.array([0.1, 0.3])\n",
    "y = np.array([1, 0])\n",
    "\n",
    "#(m4 >= 0.1 and m4 <= 0.3)\n",
    "\n",
    "# Defining intervals for em2 interpretation\n",
    "em2i = []\n",
    "for if2i in m4:\n",
    "    if 10 <= if2i <= 30:\n",
    "        em2i.append(np.interp(if2i/100,x, y))\n",
    "    else:\n",
    "        em2i.append(0)\n",
    "\n",
    "em2 = np.sum(em2i)/m3\n",
    "\n",
    "em2"
   ]
  },
  {
   "cell_type": "code",
   "execution_count": 22,
   "metadata": {
    "pycharm": {
     "name": "#%%\n"
    }
   },
   "outputs": [
    {
     "data": {
      "text/plain": "0.0"
     },
     "execution_count": 22,
     "metadata": {},
     "output_type": "execute_result"
    }
   ],
   "source": [
    "# Defining metrics for measure ma3,where ma3 = absence of duplication on file (density)\n",
    "m5 = backend_files_data['duplicated_lines_density'].astype(float)\n",
    "\n",
    "#  intervals for em1 interpretation\n",
    "x = np.array([0.1, 0.2])\n",
    "y = np.array([1, 0])\n",
    "\n",
    "# Intervals for ma3 interpretation\n",
    "em3i = []\n",
    "for if3i in m5:\n",
    "    if 10 <= if3i <= 20:\n",
    "        em3i.append(np.interp(if3i/100,x, y))\n",
    "    else:\n",
    "        em3i.append(0)\n",
    "\n",
    "em3 = np.sum(em3i)/m3\n",
    "\n",
    "em3"
   ]
  },
  {
   "cell_type": "code",
   "execution_count": 23,
   "metadata": {
    "pycharm": {
     "name": "#%%\n"
    }
   },
   "outputs": [
    {
     "name": "stdout",
     "output_type": "stream",
     "text": [
      "Modifiability Tensor\n",
      "[[[0.5       ]\n",
      "  [0.06535714]\n",
      "  [0.        ]]]\n",
      "3\n"
     ]
    }
   ],
   "source": [
    "# Defining  Modifiability quality sub-characteristic tensor.\n",
    "# wem1 = 33%\n",
    "# wem2 = 33%\n",
    "# wem3 = 33%\n",
    "\n",
    "wem1=wem2=wem3 = 0.3374\n",
    "\n",
    "SC_Modifiability_EM_Weights = np.array([wem1, wem2, wem3]).reshape(1,3,1)\n",
    "SC_Modifiability_EM = np.array([em1, em2, em3]).reshape(1,3,1)\n",
    "\n",
    "\n",
    "T_SC_Modifiability = ts.tensor(SC_Modifiability_EM)\n",
    "\n",
    "\n",
    "print(\"Modifiability Tensor\" + '\\n' + str(T_SC_Modifiability))\n",
    "print(T_SC_Modifiability.ndim)"
   ]
  },
  {
   "cell_type": "code",
   "execution_count": 24,
   "metadata": {
    "pycharm": {
     "name": "#%%\n"
    }
   },
   "outputs": [
    {
     "name": "stdout",
     "output_type": "stream",
     "text": [
      "Weighted SC_Modifiability Tensor measures\n",
      "[[[0.1687   ]\n",
      "  [0.0220515]\n",
      "  [0.       ]]]\n"
     ]
    }
   ],
   "source": [
    "# Weighting Modifiability tensor at measure level.\n",
    "\n",
    "for i in range(T_SC_Modifiability.ndim):\n",
    "     T_SC_Modifiability[::T_SC_Modifiability.ndim][0][i-1] = \\\n",
    "         ts.kron(T_SC_Modifiability[::T_SC_Modifiability.ndim][0][i-1] ,\n",
    "                 SC_Modifiability_EM_Weights[::T_SC_Modifiability.ndim][0][i-1])\n",
    "\n",
    "print(\"Weighted SC_Modifiability Tensor measures\" + '\\n' + str(T_SC_Modifiability))"
   ]
  },
  {
   "cell_type": "code",
   "execution_count": 25,
   "metadata": {
    "pycharm": {
     "name": "#%%\n"
    }
   },
   "outputs": [
    {
     "name": "stdout",
     "output_type": "stream",
     "text": [
      "Weighted SC_Modifiability Tensor\n",
      "[[[0.1687   ]\n",
      "  [0.0220515]\n",
      "  [0.       ]]]\n"
     ]
    }
   ],
   "source": [
    "# Weighting Modifiability tensor at sub-characteristic level.\n",
    "# wsc1 = 100%\n",
    "\n",
    "wsc1 = 1\n",
    "\n",
    "T_SC_Modifiability = ts.kron(T_SC_Modifiability,wsc1)\n",
    "\n",
    "print(\"Weighted SC_Modifiability Tensor\" + '\\n' + str(T_SC_Modifiability))"
   ]
  },
  {
   "cell_type": "code",
   "execution_count": 26,
   "metadata": {
    "pycharm": {
     "name": "#%%\n"
    }
   },
   "outputs": [
    {
     "name": "stdout",
     "output_type": "stream",
     "text": [
      "[[[0.1687   ]\n",
      "  [0.0220515]\n",
      "  [0.       ]]]\n"
     ]
    }
   ],
   "source": [
    "# Defining the maintainability quality characteristic tensor.\n",
    "\n",
    "T_C_Maintainability = np.array([])\n",
    "T_C_Maintainability = np.append(T_C_Maintainability,T_SC_Modifiability)\n",
    "\n",
    "# Weighting Maintainability tensor at characteristic level.\n",
    "# wc1 = 100%\n",
    "\n",
    "wc1 = 1\n",
    "\n",
    "T_C_Maintainability = ts.kron(T_C_Maintainability,wc1)\n",
    "\n",
    "# Weighted C_Maintainability Tensor\n",
    "print(str(T_C_Maintainability.reshape(1,3,1)))"
   ]
  },
  {
   "cell_type": "code",
   "execution_count": 27,
   "metadata": {
    "pycharm": {
     "name": "#%%\n"
    }
   },
   "outputs": [
    {
     "name": "stdout",
     "output_type": "stream",
     "text": [
      "0.1701351188092864\n"
     ]
    }
   ],
   "source": [
    "# Aggregating C_Maintainability Tensor. The aggregation view is obtained from Frobenius norm of tensor.\n",
    "print(str(ts.norm(T_C_Maintainability)))"
   ]
  },
  {
   "cell_type": "code",
   "execution_count": 28,
   "metadata": {
    "pycharm": {
     "name": "#%%\n"
    }
   },
   "outputs": [
    {
     "name": "stdout",
     "output_type": "stream",
     "text": [
      "0.1701351188092864\n"
     ]
    }
   ],
   "source": [
    "SQC_1 = np.array([])\n",
    "SQC_1 = np.append(SQC_1, T_C_Maintainability)\n",
    "\n",
    "# The overall quality of Release 1 of the VC_Gestor system.\n",
    "# Github Repository: https://github.com/\n",
    "print(str(ts.norm(SQC_1)))\n"
   ]
  }
 ],
 "metadata": {
  "kernelspec": {
   "display_name": "Python 3",
   "language": "python",
   "name": "python3"
  },
  "language_info": {
   "codemirror_mode": {
    "name": "ipython",
    "version": 3
   },
   "file_extension": ".py",
   "mimetype": "text/x-python",
   "name": "python",
   "nbconvert_exporter": "python",
   "pygments_lexer": "ipython3",
   "version": "3.8.5"
  }
 },
 "nbformat": 4,
 "nbformat_minor": 1
}