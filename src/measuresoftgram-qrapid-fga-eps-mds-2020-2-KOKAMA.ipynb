{
 "cells": [
  {
   "cell_type": "code",
   "execution_count": 252,
   "metadata": {
    "pycharm": {
     "name": "#%%\n"
    }
   },
   "outputs": [],
   "source": [
    "import os\n",
    "import json\n",
    "import numpy as np\n",
    "import pandas as pd\n",
    "from glob import glob\n",
    "import seaborn as sns\n",
    "import matplotlib.pyplot as plt\n",
    "import tensorly as ts\n",
    "from scipy import stats\n",
    "from scipy.spatial import distance"
   ]
  },
  {
   "cell_type": "code",
   "execution_count": 253,
   "metadata": {
    "pycharm": {
     "name": "#%%\n"
    }
   },
   "outputs": [],
   "source": [
    "# The manipulation and extraction procedures of the .json files obtained from Sonar output is copied from\n",
    "# https://github.com/fga-eps-mds/Analytics, developed by Gabriel Filipe Manso in context of teacher assistant activities\n",
    "# in EPS and MDS courses in 2020.2 academic period, under supervising by prof. Hilmer R. Neri in University of Brazilia,\n",
    "# Faculty of Gama- Software Engineering graduate course.\n",
    "# https://github.com/fga-eps-mds/A-Disciplina-MDS-EPS/blob/master/PlanosDeEnsino/EPS-cronograma-2020-2-hrn.md\n",
    "# https://github.com/fga-eps-mds/A-Disciplina-MDS-EPS/blob/master/PlanosDeEnsino/MDS-cronograma-hrn.md\n",
    "from scipy.stats import mannwhitneyu\n",
    "\n",
    "%config InlineBackend.figure_format ='retina'\n",
    "\n",
    "sns.set(font_scale=1.5)\n",
    "\n",
    "sns.set_style('darkgrid',\n",
    "              {'xtick.bottom' : True,\n",
    "               'ytick.left': True,\n",
    "               'grid.linestyle':'--',\n",
    "               'font.monospace': ['Computer Modern Typewriter'],\n",
    "               'axes.edgecolor' : 'white'})"
   ]
  },
  {
   "cell_type": "code",
   "execution_count": 254,
   "metadata": {
    "pycharm": {
     "name": "#%%\n"
    }
   },
   "outputs": [],
   "source": [
    "pd.set_option(\"display.max_rows\", None, \"display.max_columns\", None)"
   ]
  },
  {
   "cell_type": "code",
   "execution_count": 255,
   "metadata": {
    "pycharm": {
     "name": "#%%\n"
    }
   },
   "outputs": [],
   "source": [
    "repos = ['2020_2-Projeto-Kokama-Traducao',\n",
    "         '2020_2-Projeto-Kokama-Usuario',\n",
    "         '2020_2-Projeto-Kokama-Ensino',\n",
    "         '2020_2-Projeto-Kokama-Front-end']\n",
    "language = [['2020_2-Projeto-Kokama-Traducao', 'py'],\n",
    "            ['2020_2-Projeto-Kokama-Usuario', 'py'],\n",
    "            ['2020_2-Projeto-Kokama-Ensino', 'py'],\n",
    "            ['2020_2-Projeto-Kokama-Front-end', 'ts']]\n",
    "\n",
    "repos_lenguage = {}\n",
    "\n",
    "for item in language:\n",
    "    repos_lenguage[f\"{item[0]}\"] = item[1]\n"
   ]
  },
  {
   "cell_type": "code",
   "execution_count": 256,
   "metadata": {
    "pycharm": {
     "name": "#%%\n"
    }
   },
   "outputs": [],
   "source": [
    "# jsons = glob('siged-raw-data-08-05-2021/*.json')\n",
    "\n",
    "jsons = glob('data/fga-eps-mds-2020-2-data/kokama/analytics-raw-data/*.json')"
   ]
  },
  {
   "cell_type": "code",
   "execution_count": 257,
   "metadata": {
    "pycharm": {
     "name": "#%%\n"
    }
   },
   "outputs": [
    {
     "data": {
      "text/plain": [
       "['data/fga-eps-mds-2020-2-data/kokama/analytics-raw-data/fga-eps-mds-2020_2-Projeto-Kokama-Front-end-15-05-2021.json',\n",
       " 'data/fga-eps-mds-2020-2-data/kokama/analytics-raw-data/fga-eps-mds-2020_2-Projeto-Kokama-Traducao-24-05-2021.json',\n",
       " 'data/fga-eps-mds-2020-2-data/kokama/analytics-raw-data/fga-eps-mds-2020_2-Projeto-Kokama-Front-end-24-05-2021.json',\n",
       " 'data/fga-eps-mds-2020-2-data/kokama/analytics-raw-data/fga-eps-mds-2020_2-Projeto-Kokama-Ensino-14-05-2021.json',\n",
       " 'data/fga-eps-mds-2020-2-data/kokama/analytics-raw-data/fga-eps-mds-2020_2-Projeto-Kokama-Traducao-14-05-2021.json',\n",
       " 'data/fga-eps-mds-2020-2-data/kokama/analytics-raw-data/fga-eps-mds-2020_2-Projeto-Kokama-Usuario-17-04-2021.json',\n",
       " 'data/fga-eps-mds-2020-2-data/kokama/analytics-raw-data/fga-eps-mds-2020_2-Projeto-Kokama-Ensino-24-05-2021.json',\n",
       " 'data/fga-eps-mds-2020-2-data/kokama/analytics-raw-data/fga-eps-mds-2020_2-Projeto-Kokama-Ensino-15-05-2021.json',\n",
       " 'data/fga-eps-mds-2020-2-data/kokama/analytics-raw-data/fga-eps-mds-2020_2-Projeto-Kokama-Traducao-23-03-2021.json',\n",
       " 'data/fga-eps-mds-2020-2-data/kokama/analytics-raw-data/fga-eps-mds-2020_2-Projeto-Kokama-Front-end-22-05-2021.json',\n",
       " 'data/fga-eps-mds-2020-2-data/kokama/analytics-raw-data/fga-eps-mds-2020_2-Projeto-Kokama-Front-end-23-03-2021.json',\n",
       " 'data/fga-eps-mds-2020-2-data/kokama/analytics-raw-data/fga-eps-mds-2020_2-Projeto-Kokama-Usuario-16-05-2021.json',\n",
       " 'data/fga-eps-mds-2020-2-data/kokama/analytics-raw-data/fga-eps-mds-2020_2-Projeto-Kokama-Ensino-14-04-2021.json',\n",
       " 'data/fga-eps-mds-2020-2-data/kokama/analytics-raw-data/fga-eps-mds-2020_2-Projeto-Kokama-Traducao-06-04-2021.json',\n",
       " 'data/fga-eps-mds-2020-2-data/kokama/analytics-raw-data/fga-eps-mds-2020_2-Projeto-Kokama-Usuario-15-05-2021.json',\n",
       " 'data/fga-eps-mds-2020-2-data/kokama/analytics-raw-data/fga-eps-mds-2020_2-Projeto-Kokama-Usuario-24-05-2021.json',\n",
       " 'data/fga-eps-mds-2020-2-data/kokama/analytics-raw-data/fga-eps-mds-2020_2-Projeto-Kokama-Traducao-05-04-2021.json',\n",
       " 'data/fga-eps-mds-2020-2-data/kokama/analytics-raw-data/fga-eps-mds-2020_2-Projeto-Kokama-Usuario-14-05-2021.json',\n",
       " 'data/fga-eps-mds-2020-2-data/kokama/analytics-raw-data/fga-eps-mds-2020_2-Projeto-Kokama-Front-end-05-04-2021.json',\n",
       " 'data/fga-eps-mds-2020-2-data/kokama/analytics-raw-data/fga-eps-mds-2020_2-Projeto-Kokama-Front-end-11-05-2021.json',\n",
       " 'data/fga-eps-mds-2020-2-data/kokama/analytics-raw-data/fga-eps-mds-2020_2-Projeto-Kokama-Front-end-17-05-2021.json']"
      ]
     },
     "execution_count": 257,
     "metadata": {},
     "output_type": "execute_result"
    }
   ],
   "source": [
    "jsons"
   ]
  },
  {
   "cell_type": "code",
   "execution_count": 258,
   "metadata": {
    "pycharm": {
     "name": "#%%\n"
    }
   },
   "outputs": [],
   "source": [
    "def read_json(json_path):\n",
    "\n",
    "    with open(json_path) as json_file:\n",
    "        json_obj = json.load(json_file)\n",
    "\n",
    "    return json_obj"
   ]
  },
  {
   "cell_type": "code",
   "execution_count": 259,
   "metadata": {
    "pycharm": {
     "name": "#%%\n"
    }
   },
   "outputs": [],
   "source": [
    "def create_base_component_df(json_list):\n",
    "\n",
    "    df = pd.DataFrame()\n",
    "\n",
    "    for i in json_list:\n",
    "\n",
    "        base_component = read_json(i)\n",
    "\n",
    "        base_component_data = base_component['baseComponent']['measures']\n",
    "\n",
    "        base_component_df = pd.DataFrame(base_component_data)\n",
    "\n",
    "        base_component_df['filename'] = os.path.basename(i)\n",
    "\n",
    "        df = df.append(base_component_df, ignore_index=True)\n",
    "\n",
    "    aux_df = df['filename'].str.split(r\"fga-eps-mds-(.*?)-(\\d+-\\d+-\\d+).json\", expand=True)\n",
    "\n",
    "    df['repository'] = aux_df[1]\n",
    "\n",
    "    df['version'] = aux_df[2]\n",
    "\n",
    "    df = df.sort_values(by=['repository', 'version'])\n",
    "\n",
    "    return df"
   ]
  },
  {
   "cell_type": "code",
   "execution_count": 260,
   "metadata": {
    "pycharm": {
     "name": "#%%\n"
    }
   },
   "outputs": [],
   "source": [
    "base_component_df = create_base_component_df(jsons)"
   ]
  },
  {
   "cell_type": "code",
   "execution_count": 261,
   "metadata": {
    "pycharm": {
     "name": "#%%\n"
    }
   },
   "outputs": [
    {
     "data": {
      "text/html": [
       "<div>\n",
       "<style scoped>\n",
       "    .dataframe tbody tr th:only-of-type {\n",
       "        vertical-align: middle;\n",
       "    }\n",
       "\n",
       "    .dataframe tbody tr th {\n",
       "        vertical-align: top;\n",
       "    }\n",
       "\n",
       "    .dataframe thead th {\n",
       "        text-align: right;\n",
       "    }\n",
       "</style>\n",
       "<table border=\"1\" class=\"dataframe\">\n",
       "  <thead>\n",
       "    <tr style=\"text-align: right;\">\n",
       "      <th></th>\n",
       "      <th>metric</th>\n",
       "      <th>value</th>\n",
       "      <th>bestValue</th>\n",
       "      <th>filename</th>\n",
       "      <th>repository</th>\n",
       "      <th>version</th>\n",
       "    </tr>\n",
       "  </thead>\n",
       "  <tbody>\n",
       "    <tr>\n",
       "      <th>96</th>\n",
       "      <td>complexity</td>\n",
       "      <td>37</td>\n",
       "      <td>NaN</td>\n",
       "      <td>fga-eps-mds-2020_2-Projeto-Kokama-Ensino-14-04...</td>\n",
       "      <td>2020_2-Projeto-Kokama-Ensino</td>\n",
       "      <td>14-04-2021</td>\n",
       "    </tr>\n",
       "    <tr>\n",
       "      <th>97</th>\n",
       "      <td>duplicated_lines_density</td>\n",
       "      <td>0.0</td>\n",
       "      <td>True</td>\n",
       "      <td>fga-eps-mds-2020_2-Projeto-Kokama-Ensino-14-04...</td>\n",
       "      <td>2020_2-Projeto-Kokama-Ensino</td>\n",
       "      <td>14-04-2021</td>\n",
       "    </tr>\n",
       "    <tr>\n",
       "      <th>98</th>\n",
       "      <td>functions</td>\n",
       "      <td>15</td>\n",
       "      <td>NaN</td>\n",
       "      <td>fga-eps-mds-2020_2-Projeto-Kokama-Ensino-14-04...</td>\n",
       "      <td>2020_2-Projeto-Kokama-Ensino</td>\n",
       "      <td>14-04-2021</td>\n",
       "    </tr>\n",
       "    <tr>\n",
       "      <th>99</th>\n",
       "      <td>ncloc</td>\n",
       "      <td>726</td>\n",
       "      <td>NaN</td>\n",
       "      <td>fga-eps-mds-2020_2-Projeto-Kokama-Ensino-14-04...</td>\n",
       "      <td>2020_2-Projeto-Kokama-Ensino</td>\n",
       "      <td>14-04-2021</td>\n",
       "    </tr>\n",
       "    <tr>\n",
       "      <th>100</th>\n",
       "      <td>reliability_rating</td>\n",
       "      <td>1.0</td>\n",
       "      <td>True</td>\n",
       "      <td>fga-eps-mds-2020_2-Projeto-Kokama-Ensino-14-04...</td>\n",
       "      <td>2020_2-Projeto-Kokama-Ensino</td>\n",
       "      <td>14-04-2021</td>\n",
       "    </tr>\n",
       "    <tr>\n",
       "      <th>101</th>\n",
       "      <td>security_rating</td>\n",
       "      <td>1.0</td>\n",
       "      <td>True</td>\n",
       "      <td>fga-eps-mds-2020_2-Projeto-Kokama-Ensino-14-04...</td>\n",
       "      <td>2020_2-Projeto-Kokama-Ensino</td>\n",
       "      <td>14-04-2021</td>\n",
       "    </tr>\n",
       "    <tr>\n",
       "      <th>102</th>\n",
       "      <td>comment_lines_density</td>\n",
       "      <td>7.8</td>\n",
       "      <td>False</td>\n",
       "      <td>fga-eps-mds-2020_2-Projeto-Kokama-Ensino-14-04...</td>\n",
       "      <td>2020_2-Projeto-Kokama-Ensino</td>\n",
       "      <td>14-04-2021</td>\n",
       "    </tr>\n",
       "    <tr>\n",
       "      <th>103</th>\n",
       "      <td>files</td>\n",
       "      <td>30</td>\n",
       "      <td>NaN</td>\n",
       "      <td>fga-eps-mds-2020_2-Projeto-Kokama-Ensino-14-04...</td>\n",
       "      <td>2020_2-Projeto-Kokama-Ensino</td>\n",
       "      <td>14-04-2021</td>\n",
       "    </tr>\n",
       "    <tr>\n",
       "      <th>24</th>\n",
       "      <td>duplicated_lines_density</td>\n",
       "      <td>0.0</td>\n",
       "      <td>True</td>\n",
       "      <td>fga-eps-mds-2020_2-Projeto-Kokama-Ensino-14-05...</td>\n",
       "      <td>2020_2-Projeto-Kokama-Ensino</td>\n",
       "      <td>14-05-2021</td>\n",
       "    </tr>\n",
       "    <tr>\n",
       "      <th>25</th>\n",
       "      <td>functions</td>\n",
       "      <td>15</td>\n",
       "      <td>NaN</td>\n",
       "      <td>fga-eps-mds-2020_2-Projeto-Kokama-Ensino-14-05...</td>\n",
       "      <td>2020_2-Projeto-Kokama-Ensino</td>\n",
       "      <td>14-05-2021</td>\n",
       "    </tr>\n",
       "  </tbody>\n",
       "</table>\n",
       "</div>"
      ],
      "text/plain": [
       "                       metric value bestValue  \\\n",
       "96                 complexity    37       NaN   \n",
       "97   duplicated_lines_density   0.0      True   \n",
       "98                  functions    15       NaN   \n",
       "99                      ncloc   726       NaN   \n",
       "100        reliability_rating   1.0      True   \n",
       "101           security_rating   1.0      True   \n",
       "102     comment_lines_density   7.8     False   \n",
       "103                     files    30       NaN   \n",
       "24   duplicated_lines_density   0.0      True   \n",
       "25                  functions    15       NaN   \n",
       "\n",
       "                                              filename  \\\n",
       "96   fga-eps-mds-2020_2-Projeto-Kokama-Ensino-14-04...   \n",
       "97   fga-eps-mds-2020_2-Projeto-Kokama-Ensino-14-04...   \n",
       "98   fga-eps-mds-2020_2-Projeto-Kokama-Ensino-14-04...   \n",
       "99   fga-eps-mds-2020_2-Projeto-Kokama-Ensino-14-04...   \n",
       "100  fga-eps-mds-2020_2-Projeto-Kokama-Ensino-14-04...   \n",
       "101  fga-eps-mds-2020_2-Projeto-Kokama-Ensino-14-04...   \n",
       "102  fga-eps-mds-2020_2-Projeto-Kokama-Ensino-14-04...   \n",
       "103  fga-eps-mds-2020_2-Projeto-Kokama-Ensino-14-04...   \n",
       "24   fga-eps-mds-2020_2-Projeto-Kokama-Ensino-14-05...   \n",
       "25   fga-eps-mds-2020_2-Projeto-Kokama-Ensino-14-05...   \n",
       "\n",
       "                       repository     version  \n",
       "96   2020_2-Projeto-Kokama-Ensino  14-04-2021  \n",
       "97   2020_2-Projeto-Kokama-Ensino  14-04-2021  \n",
       "98   2020_2-Projeto-Kokama-Ensino  14-04-2021  \n",
       "99   2020_2-Projeto-Kokama-Ensino  14-04-2021  \n",
       "100  2020_2-Projeto-Kokama-Ensino  14-04-2021  \n",
       "101  2020_2-Projeto-Kokama-Ensino  14-04-2021  \n",
       "102  2020_2-Projeto-Kokama-Ensino  14-04-2021  \n",
       "103  2020_2-Projeto-Kokama-Ensino  14-04-2021  \n",
       "24   2020_2-Projeto-Kokama-Ensino  14-05-2021  \n",
       "25   2020_2-Projeto-Kokama-Ensino  14-05-2021  "
      ]
     },
     "execution_count": 261,
     "metadata": {},
     "output_type": "execute_result"
    }
   ],
   "source": [
    "base_component_df.head(10)"
   ]
  },
  {
   "cell_type": "code",
   "execution_count": 262,
   "metadata": {
    "pycharm": {
     "name": "#%%\n"
    }
   },
   "outputs": [
    {
     "data": {
      "text/plain": [
       "12"
      ]
     },
     "execution_count": 262,
     "metadata": {},
     "output_type": "execute_result"
    }
   ],
   "source": [
    "metric_list = ['files',\n",
    "               'functions',\n",
    "               'complexity',\n",
    "               'comment_lines_density',\n",
    "               'duplicated_lines_density',\n",
    "               'coverage',\n",
    "               'ncloc',\n",
    "               'security_rating',\n",
    "               'tests',\n",
    "               'test_success_density',\n",
    "               'test_execution_time',\n",
    "               'reliability_rating']\n",
    "\n",
    "len(metric_list)"
   ]
  },
  {
   "cell_type": "code",
   "execution_count": 263,
   "metadata": {
    "pycharm": {
     "name": "#%%\n"
    }
   },
   "outputs": [],
   "source": [
    "def metric_per_file(json):\n",
    "\n",
    "    file_json = []\n",
    "\n",
    "    for component in json['components']:\n",
    "        if component['qualifier'] == 'FIL':\n",
    "            file_json.append(component)\n",
    "\n",
    "    return file_json"
   ]
  },
  {
   "cell_type": "code",
   "execution_count": 264,
   "metadata": {
    "pycharm": {
     "name": "#%%\n"
    }
   },
   "outputs": [],
   "source": [
    "def generate_file_dataframe(metric_list, json, language_extension):\n",
    "\n",
    "    df_columns = metric_list\n",
    "    df = pd.DataFrame(columns = df_columns)\n",
    "\n",
    "    for file in json:\n",
    "        try:\n",
    "            if file['language'] == language_extension:\n",
    "                for measure in file['measures']:\n",
    "                    df.at[file['path'], measure['metric']] = measure['value']\n",
    "        except:\n",
    "            pass\n",
    "\n",
    "    df.reset_index(inplace = True)\n",
    "    df = df.rename({'index': 'path'}, axis=1).drop(['files'], axis=1)\n",
    "\n",
    "    return df"
   ]
  },
  {
   "cell_type": "code",
   "execution_count": 265,
   "metadata": {
    "pycharm": {
     "name": "#%%\n"
    }
   },
   "outputs": [],
   "source": [
    "def generate_file_dataframe_per_release(metric_list, json, language_extension):\n",
    "\n",
    "    df_columns = metric_list\n",
    "    df = pd.DataFrame(columns = df_columns)\n",
    "\n",
    "    for file in json:\n",
    "        try:\n",
    "            if file['language'] == language_extension:\n",
    "                for measure in file['measures']:\n",
    "                    df.at[file['path'], measure['metric']] = measure['value']\n",
    "        except:\n",
    "            pass\n",
    "\n",
    "    df.reset_index(inplace = True)\n",
    "    df = df.rename({'index': 'path'}, axis=1).drop(['files'], axis=1)\n",
    "\n",
    "    return df"
   ]
  },
  {
   "cell_type": "code",
   "execution_count": 266,
   "metadata": {
    "pycharm": {
     "name": "#%%\n"
    }
   },
   "outputs": [],
   "source": [
    "def create_file_df(json_list):\n",
    "\n",
    "    df = pd.DataFrame()\n",
    "\n",
    "    for i in json_list:\n",
    "\n",
    "        file_component = read_json(i)\n",
    "        file_component_data = metric_per_file(file_component)\n",
    "        file_name = os.path.basename(i)\n",
    "\n",
    "        file_repository = file_name[12:-16]\n",
    "        file_lenguage = repos_lenguage[f\"{file_repository}\"]\n",
    "\n",
    "        file_component_df = generate_file_dataframe_per_release(metric_list,\n",
    "                                                                file_component_data,\n",
    "                                                                language_extension = file_lenguage)\n",
    "        file_component_df['filename'] = file_name\n",
    "\n",
    "        df = df.append(file_component_df, ignore_index=True)\n",
    "\n",
    "    aux_df = df['filename'].str.split(r\"fga-eps-mds-(.*?)-(\\d+-\\d+-\\d+).json\", expand=True)\n",
    "\n",
    "    df['repository'] = aux_df[1]\n",
    "\n",
    "    df['version'] = pd.to_datetime(aux_df[2], format = '%d-%m-%Y')\n",
    "\n",
    "    df = df.sort_values(by=['repository', 'version'])\n",
    "\n",
    "    return df"
   ]
  },
  {
   "cell_type": "code",
   "execution_count": 267,
   "metadata": {
    "pycharm": {
     "name": "#%%\n"
    }
   },
   "outputs": [],
   "source": [
    "file_component_df = create_file_df(jsons)"
   ]
  },
  {
   "cell_type": "code",
   "execution_count": 268,
   "metadata": {
    "pycharm": {
     "name": "#%%\n"
    }
   },
   "outputs": [
    {
     "data": {
      "text/html": [
       "<div>\n",
       "<style scoped>\n",
       "    .dataframe tbody tr th:only-of-type {\n",
       "        vertical-align: middle;\n",
       "    }\n",
       "\n",
       "    .dataframe tbody tr th {\n",
       "        vertical-align: top;\n",
       "    }\n",
       "\n",
       "    .dataframe thead th {\n",
       "        text-align: right;\n",
       "    }\n",
       "</style>\n",
       "<table border=\"1\" class=\"dataframe\">\n",
       "  <thead>\n",
       "    <tr style=\"text-align: right;\">\n",
       "      <th></th>\n",
       "      <th>path</th>\n",
       "      <th>functions</th>\n",
       "      <th>complexity</th>\n",
       "      <th>comment_lines_density</th>\n",
       "      <th>duplicated_lines_density</th>\n",
       "      <th>coverage</th>\n",
       "      <th>ncloc</th>\n",
       "      <th>security_rating</th>\n",
       "      <th>tests</th>\n",
       "      <th>test_success_density</th>\n",
       "      <th>test_execution_time</th>\n",
       "      <th>reliability_rating</th>\n",
       "      <th>filename</th>\n",
       "      <th>repository</th>\n",
       "      <th>version</th>\n",
       "    </tr>\n",
       "  </thead>\n",
       "  <tbody>\n",
       "    <tr>\n",
       "      <th>253</th>\n",
       "      <td>exercise/__init__.py</td>\n",
       "      <td>0</td>\n",
       "      <td>0</td>\n",
       "      <td>NaN</td>\n",
       "      <td>0.0</td>\n",
       "      <td>NaN</td>\n",
       "      <td>0</td>\n",
       "      <td>1.0</td>\n",
       "      <td>NaN</td>\n",
       "      <td>100.0</td>\n",
       "      <td>NaN</td>\n",
       "      <td>1.0</td>\n",
       "      <td>fga-eps-mds-2020_2-Projeto-Kokama-Ensino-14-04...</td>\n",
       "      <td>2020_2-Projeto-Kokama-Ensino</td>\n",
       "      <td>2021-04-14</td>\n",
       "    </tr>\n",
       "    <tr>\n",
       "      <th>254</th>\n",
       "      <td>history/__init__.py</td>\n",
       "      <td>0</td>\n",
       "      <td>0</td>\n",
       "      <td>NaN</td>\n",
       "      <td>0.0</td>\n",
       "      <td>NaN</td>\n",
       "      <td>0</td>\n",
       "      <td>1.0</td>\n",
       "      <td>NaN</td>\n",
       "      <td>100.0</td>\n",
       "      <td>NaN</td>\n",
       "      <td>1.0</td>\n",
       "      <td>fga-eps-mds-2020_2-Projeto-Kokama-Ensino-14-04...</td>\n",
       "      <td>2020_2-Projeto-Kokama-Ensino</td>\n",
       "      <td>2021-04-14</td>\n",
       "    </tr>\n",
       "    <tr>\n",
       "      <th>255</th>\n",
       "      <td>tests/__init__.py</td>\n",
       "      <td>0</td>\n",
       "      <td>0</td>\n",
       "      <td>NaN</td>\n",
       "      <td>0.0</td>\n",
       "      <td>NaN</td>\n",
       "      <td>0</td>\n",
       "      <td>1.0</td>\n",
       "      <td>NaN</td>\n",
       "      <td>100.0</td>\n",
       "      <td>NaN</td>\n",
       "      <td>1.0</td>\n",
       "      <td>fga-eps-mds-2020_2-Projeto-Kokama-Ensino-14-04...</td>\n",
       "      <td>2020_2-Projeto-Kokama-Ensino</td>\n",
       "      <td>2021-04-14</td>\n",
       "    </tr>\n",
       "    <tr>\n",
       "      <th>256</th>\n",
       "      <td>tests/history/__init__.py</td>\n",
       "      <td>0</td>\n",
       "      <td>0</td>\n",
       "      <td>0.0</td>\n",
       "      <td>0.0</td>\n",
       "      <td>NaN</td>\n",
       "      <td>1</td>\n",
       "      <td>1.0</td>\n",
       "      <td>NaN</td>\n",
       "      <td>100.0</td>\n",
       "      <td>NaN</td>\n",
       "      <td>1.0</td>\n",
       "      <td>fga-eps-mds-2020_2-Projeto-Kokama-Ensino-14-04...</td>\n",
       "      <td>2020_2-Projeto-Kokama-Ensino</td>\n",
       "      <td>2021-04-14</td>\n",
       "    </tr>\n",
       "    <tr>\n",
       "      <th>257</th>\n",
       "      <td>exercise/admin.py</td>\n",
       "      <td>0</td>\n",
       "      <td>0</td>\n",
       "      <td>0.0</td>\n",
       "      <td>0.0</td>\n",
       "      <td>NaN</td>\n",
       "      <td>5</td>\n",
       "      <td>1.0</td>\n",
       "      <td>NaN</td>\n",
       "      <td>100.0</td>\n",
       "      <td>NaN</td>\n",
       "      <td>1.0</td>\n",
       "      <td>fga-eps-mds-2020_2-Projeto-Kokama-Ensino-14-04...</td>\n",
       "      <td>2020_2-Projeto-Kokama-Ensino</td>\n",
       "      <td>2021-04-14</td>\n",
       "    </tr>\n",
       "    <tr>\n",
       "      <th>258</th>\n",
       "      <td>history/admin.py</td>\n",
       "      <td>0</td>\n",
       "      <td>0</td>\n",
       "      <td>0.0</td>\n",
       "      <td>0.0</td>\n",
       "      <td>NaN</td>\n",
       "      <td>3</td>\n",
       "      <td>1.0</td>\n",
       "      <td>NaN</td>\n",
       "      <td>100.0</td>\n",
       "      <td>NaN</td>\n",
       "      <td>1.0</td>\n",
       "      <td>fga-eps-mds-2020_2-Projeto-Kokama-Ensino-14-04...</td>\n",
       "      <td>2020_2-Projeto-Kokama-Ensino</td>\n",
       "      <td>2021-04-14</td>\n",
       "    </tr>\n",
       "    <tr>\n",
       "      <th>259</th>\n",
       "      <td>exercise/apps.py</td>\n",
       "      <td>0</td>\n",
       "      <td>0</td>\n",
       "      <td>0.0</td>\n",
       "      <td>0.0</td>\n",
       "      <td>NaN</td>\n",
       "      <td>3</td>\n",
       "      <td>1.0</td>\n",
       "      <td>NaN</td>\n",
       "      <td>100.0</td>\n",
       "      <td>NaN</td>\n",
       "      <td>1.0</td>\n",
       "      <td>fga-eps-mds-2020_2-Projeto-Kokama-Ensino-14-04...</td>\n",
       "      <td>2020_2-Projeto-Kokama-Ensino</td>\n",
       "      <td>2021-04-14</td>\n",
       "    </tr>\n",
       "    <tr>\n",
       "      <th>260</th>\n",
       "      <td>history/apps.py</td>\n",
       "      <td>0</td>\n",
       "      <td>0</td>\n",
       "      <td>0.0</td>\n",
       "      <td>0.0</td>\n",
       "      <td>NaN</td>\n",
       "      <td>3</td>\n",
       "      <td>1.0</td>\n",
       "      <td>NaN</td>\n",
       "      <td>100.0</td>\n",
       "      <td>NaN</td>\n",
       "      <td>1.0</td>\n",
       "      <td>fga-eps-mds-2020_2-Projeto-Kokama-Ensino-14-04...</td>\n",
       "      <td>2020_2-Projeto-Kokama-Ensino</td>\n",
       "      <td>2021-04-14</td>\n",
       "    </tr>\n",
       "    <tr>\n",
       "      <th>261</th>\n",
       "      <td>learn/asgi.py</td>\n",
       "      <td>0</td>\n",
       "      <td>0</td>\n",
       "      <td>66.7</td>\n",
       "      <td>0.0</td>\n",
       "      <td>NaN</td>\n",
       "      <td>4</td>\n",
       "      <td>1.0</td>\n",
       "      <td>NaN</td>\n",
       "      <td>100.0</td>\n",
       "      <td>NaN</td>\n",
       "      <td>1.0</td>\n",
       "      <td>fga-eps-mds-2020_2-Projeto-Kokama-Ensino-14-04...</td>\n",
       "      <td>2020_2-Projeto-Kokama-Ensino</td>\n",
       "      <td>2021-04-14</td>\n",
       "    </tr>\n",
       "    <tr>\n",
       "      <th>262</th>\n",
       "      <td>history/forms.py</td>\n",
       "      <td>0</td>\n",
       "      <td>0</td>\n",
       "      <td>0.0</td>\n",
       "      <td>0.0</td>\n",
       "      <td>NaN</td>\n",
       "      <td>13</td>\n",
       "      <td>1.0</td>\n",
       "      <td>NaN</td>\n",
       "      <td>100.0</td>\n",
       "      <td>NaN</td>\n",
       "      <td>1.0</td>\n",
       "      <td>fga-eps-mds-2020_2-Projeto-Kokama-Ensino-14-04...</td>\n",
       "      <td>2020_2-Projeto-Kokama-Ensino</td>\n",
       "      <td>2021-04-14</td>\n",
       "    </tr>\n",
       "  </tbody>\n",
       "</table>\n",
       "</div>"
      ],
      "text/plain": [
       "                          path functions complexity comment_lines_density  \\\n",
       "253       exercise/__init__.py         0          0                   NaN   \n",
       "254        history/__init__.py         0          0                   NaN   \n",
       "255          tests/__init__.py         0          0                   NaN   \n",
       "256  tests/history/__init__.py         0          0                   0.0   \n",
       "257          exercise/admin.py         0          0                   0.0   \n",
       "258           history/admin.py         0          0                   0.0   \n",
       "259           exercise/apps.py         0          0                   0.0   \n",
       "260            history/apps.py         0          0                   0.0   \n",
       "261              learn/asgi.py         0          0                  66.7   \n",
       "262           history/forms.py         0          0                   0.0   \n",
       "\n",
       "    duplicated_lines_density coverage ncloc security_rating tests  \\\n",
       "253                      0.0      NaN     0             1.0   NaN   \n",
       "254                      0.0      NaN     0             1.0   NaN   \n",
       "255                      0.0      NaN     0             1.0   NaN   \n",
       "256                      0.0      NaN     1             1.0   NaN   \n",
       "257                      0.0      NaN     5             1.0   NaN   \n",
       "258                      0.0      NaN     3             1.0   NaN   \n",
       "259                      0.0      NaN     3             1.0   NaN   \n",
       "260                      0.0      NaN     3             1.0   NaN   \n",
       "261                      0.0      NaN     4             1.0   NaN   \n",
       "262                      0.0      NaN    13             1.0   NaN   \n",
       "\n",
       "    test_success_density test_execution_time reliability_rating  \\\n",
       "253                100.0                 NaN                1.0   \n",
       "254                100.0                 NaN                1.0   \n",
       "255                100.0                 NaN                1.0   \n",
       "256                100.0                 NaN                1.0   \n",
       "257                100.0                 NaN                1.0   \n",
       "258                100.0                 NaN                1.0   \n",
       "259                100.0                 NaN                1.0   \n",
       "260                100.0                 NaN                1.0   \n",
       "261                100.0                 NaN                1.0   \n",
       "262                100.0                 NaN                1.0   \n",
       "\n",
       "                                              filename  \\\n",
       "253  fga-eps-mds-2020_2-Projeto-Kokama-Ensino-14-04...   \n",
       "254  fga-eps-mds-2020_2-Projeto-Kokama-Ensino-14-04...   \n",
       "255  fga-eps-mds-2020_2-Projeto-Kokama-Ensino-14-04...   \n",
       "256  fga-eps-mds-2020_2-Projeto-Kokama-Ensino-14-04...   \n",
       "257  fga-eps-mds-2020_2-Projeto-Kokama-Ensino-14-04...   \n",
       "258  fga-eps-mds-2020_2-Projeto-Kokama-Ensino-14-04...   \n",
       "259  fga-eps-mds-2020_2-Projeto-Kokama-Ensino-14-04...   \n",
       "260  fga-eps-mds-2020_2-Projeto-Kokama-Ensino-14-04...   \n",
       "261  fga-eps-mds-2020_2-Projeto-Kokama-Ensino-14-04...   \n",
       "262  fga-eps-mds-2020_2-Projeto-Kokama-Ensino-14-04...   \n",
       "\n",
       "                       repository    version  \n",
       "253  2020_2-Projeto-Kokama-Ensino 2021-04-14  \n",
       "254  2020_2-Projeto-Kokama-Ensino 2021-04-14  \n",
       "255  2020_2-Projeto-Kokama-Ensino 2021-04-14  \n",
       "256  2020_2-Projeto-Kokama-Ensino 2021-04-14  \n",
       "257  2020_2-Projeto-Kokama-Ensino 2021-04-14  \n",
       "258  2020_2-Projeto-Kokama-Ensino 2021-04-14  \n",
       "259  2020_2-Projeto-Kokama-Ensino 2021-04-14  \n",
       "260  2020_2-Projeto-Kokama-Ensino 2021-04-14  \n",
       "261  2020_2-Projeto-Kokama-Ensino 2021-04-14  \n",
       "262  2020_2-Projeto-Kokama-Ensino 2021-04-14  "
      ]
     },
     "execution_count": 268,
     "metadata": {},
     "output_type": "execute_result"
    }
   ],
   "source": [
    "file_component_df.head(10)"
   ]
  },
  {
   "cell_type": "code",
   "execution_count": 269,
   "metadata": {
    "pycharm": {
     "name": "#%%\n"
    }
   },
   "outputs": [
    {
     "data": {
      "text/plain": [
       "dict_keys(['2020_2-Projeto-Kokama-Traducao', '2020_2-Projeto-Kokama-Usuario', '2020_2-Projeto-Kokama-Ensino', '2020_2-Projeto-Kokama-Front-end'])"
      ]
     },
     "execution_count": 269,
     "metadata": {},
     "output_type": "execute_result"
    }
   ],
   "source": [
    "# Create dataframe per repository\n",
    "\n",
    "repository_dataframes = {}\n",
    "\n",
    "for repository in repos:\n",
    "    df = file_component_df[file_component_df['repository'] == f\"{repository}\"]\n",
    "    df.name = f\"{repository}\"\n",
    "    repository_dataframes[f\"{repository}\"] = df\n",
    "\n",
    "repository_dataframes.keys()"
   ]
  },
  {
   "cell_type": "code",
   "execution_count": 270,
   "metadata": {
    "pycharm": {
     "name": "#%%\n"
    }
   },
   "outputs": [],
   "source": [
    "clients_df = file_component_df[file_component_df['repository'] == 'Clients']\n",
    "demands_df = file_component_df[file_component_df['repository'] == 'Demands']\n",
    "frontend_df = file_component_df[file_component_df['repository'] == 'Frontend']\n",
    "sectors_df = file_component_df[file_component_df['repository'] == 'Sectors']\n",
    "users_df = file_component_df[file_component_df['repository'] == 'Users']"
   ]
  },
  {
   "cell_type": "code",
   "execution_count": 271,
   "metadata": {
    "pycharm": {
     "name": "#%%\n"
    }
   },
   "outputs": [],
   "source": [
    "# Defining measure em1 calculation, where em1 = density of non-complex file\n",
    "def em1(df):\n",
    "    m0 = np.median(df['complexity'].astype(float)/df['functions'].astype(float))\n",
    "    m1 = df['complexity'].astype(float)\n",
    "    m2 = df['functions'].astype(float)\n",
    "    m3 = len(df) # total files\n",
    "\n",
    "    #  intervals for em1 thresholds\n",
    "    x = np.array([0, m0])\n",
    "    y = np.array([1, 0])\n",
    "\n",
    "    # Defining intervals for em1 interpretation(numeric interpolation). It indicates quality score\n",
    "    IF1 = np.interp(list(((m1/m2) <= m0)[(m2 > 0)]),x, y)\n",
    "\n",
    "    em1 = sum(IF1)/m3\n",
    "\n",
    "    return em1"
   ]
  },
  {
   "cell_type": "code",
   "execution_count": 272,
   "metadata": {
    "pycharm": {
     "name": "#%%\n"
    }
   },
   "outputs": [],
   "source": [
    "def em2(df):\n",
    "\n",
    "    # Defining metrics for measure em2, where em2 = density of commented files\n",
    "    m3 = len(df) # total files\n",
    "    m4 = df['comment_lines_density'].astype(float)\n",
    "\n",
    "    #  intervals for em1 thresholds\n",
    "    x = np.array([0.1, 0.3])\n",
    "    y = np.array([1, 0])\n",
    "\n",
    "    # Defining intervals for em2 interpretation(numeric interpolation). It indicates quality score\n",
    "    em2i = []\n",
    "    for if2i in m4:\n",
    "        if 10 <= if2i <= 30:\n",
    "            em2i.append(np.interp(if2i/100,x, y))\n",
    "        else:\n",
    "            em2i.append(0)\n",
    "\n",
    "    em2 = np.sum(em2i)/m3\n",
    "\n",
    "    return em2"
   ]
  },
  {
   "cell_type": "code",
   "execution_count": 273,
   "metadata": {
    "pycharm": {
     "name": "#%%\n"
    }
   },
   "outputs": [],
   "source": [
    "def em3(df):\n",
    "\n",
    "    # Defining metrics for measure em3,where ma3 = absence of duplication on file (density)\n",
    "    m3 = len(df) # total files\n",
    "    m5 = df['duplicated_lines_density'].astype(float)\n",
    "\n",
    "    #  intervals for em1 thresholds\n",
    "    x = np.array([0, 0.05])\n",
    "    y = np.array([1, 0])\n",
    "\n",
    "    # Intervals for ma3 interpretation\n",
    "    em3i = []\n",
    "    for if3i in m5:\n",
    "        if  if3i < 5:\n",
    "            em3i.append(np.interp(if3i/100,x, y))\n",
    "        else:\n",
    "            em3i.append(0)\n",
    "\n",
    "    em3 = np.sum(em3i)/m3\n",
    "\n",
    "    return em3"
   ]
  },
  {
   "cell_type": "code",
   "execution_count": 274,
   "metadata": {
    "pycharm": {
     "name": "#%%\n"
    }
   },
   "outputs": [],
   "source": [
    "def create_metrics_df(df):\n",
    "\n",
    "    version_vec = df['version'].unique()\n",
    "\n",
    "    em1_list = []\n",
    "    em2_list = []\n",
    "    em3_list = []\n",
    "    repository_list = []\n",
    "    version_list = []\n",
    "\n",
    "    metrics_df = pd.DataFrame()\n",
    "\n",
    "    for version in version_vec:\n",
    "\n",
    "        version_df = df[df['version'] == version]\n",
    "\n",
    "        em1_list.append(em1(version_df))\n",
    "        em2_list.append(em2(version_df))\n",
    "        em3_list.append(em3(version_df))\n",
    "        repository_list.append(version_df['repository'].iloc[0])\n",
    "        version_list.append(version)\n",
    "\n",
    "    metrics_df = pd.DataFrame({'em1': em1_list,\n",
    "                               'em2': em2_list,\n",
    "                               'em3': em3_list,\n",
    "                               'repository': repository_list,\n",
    "                               'version': version_list})\n",
    "\n",
    "    return metrics_df"
   ]
  },
  {
   "cell_type": "code",
   "execution_count": 275,
   "metadata": {
    "pycharm": {
     "name": "#%%\n"
    }
   },
   "outputs": [],
   "source": [
    "repository_metrics = {}\n",
    "\n",
    "for repository, repo_df in repository_dataframes.items():\n",
    "    metrics_df = create_metrics_df(repo_df)\n",
    "    metrics_df.name = f\"{repository}\"\n",
    "    repository_metrics[f\"{repository}\"] = metrics_df"
   ]
  },
  {
   "cell_type": "code",
   "execution_count": 276,
   "metadata": {
    "pycharm": {
     "name": "#%%\n"
    }
   },
   "outputs": [
    {
     "data": {
      "text/html": [
       "<div>\n",
       "<style scoped>\n",
       "    .dataframe tbody tr th:only-of-type {\n",
       "        vertical-align: middle;\n",
       "    }\n",
       "\n",
       "    .dataframe tbody tr th {\n",
       "        vertical-align: top;\n",
       "    }\n",
       "\n",
       "    .dataframe thead th {\n",
       "        text-align: right;\n",
       "    }\n",
       "</style>\n",
       "<table border=\"1\" class=\"dataframe\">\n",
       "  <thead>\n",
       "    <tr style=\"text-align: right;\">\n",
       "      <th></th>\n",
       "      <th>path</th>\n",
       "      <th>functions</th>\n",
       "      <th>complexity</th>\n",
       "      <th>comment_lines_density</th>\n",
       "      <th>duplicated_lines_density</th>\n",
       "      <th>coverage</th>\n",
       "      <th>ncloc</th>\n",
       "      <th>security_rating</th>\n",
       "      <th>tests</th>\n",
       "      <th>test_success_density</th>\n",
       "      <th>test_execution_time</th>\n",
       "      <th>reliability_rating</th>\n",
       "      <th>filename</th>\n",
       "      <th>repository</th>\n",
       "      <th>version</th>\n",
       "    </tr>\n",
       "  </thead>\n",
       "  <tbody>\n",
       "    <tr>\n",
       "      <th>224</th>\n",
       "      <td>projeto-kokama/App.tsx</td>\n",
       "      <td>1</td>\n",
       "      <td>1</td>\n",
       "      <td>0.0</td>\n",
       "      <td>0.0</td>\n",
       "      <td>NaN</td>\n",
       "      <td>8</td>\n",
       "      <td>1.0</td>\n",
       "      <td>NaN</td>\n",
       "      <td>100.0</td>\n",
       "      <td>NaN</td>\n",
       "      <td>1.0</td>\n",
       "      <td>fga-eps-mds-2020_2-Projeto-Kokama-Front-end-23...</td>\n",
       "      <td>2020_2-Projeto-Kokama-Front-end</td>\n",
       "      <td>2021-03-23</td>\n",
       "    </tr>\n",
       "    <tr>\n",
       "      <th>225</th>\n",
       "      <td>projeto-kokama/src/config/constants.ts</td>\n",
       "      <td>0</td>\n",
       "      <td>0</td>\n",
       "      <td>0.0</td>\n",
       "      <td>0.0</td>\n",
       "      <td>NaN</td>\n",
       "      <td>2</td>\n",
       "      <td>1.0</td>\n",
       "      <td>NaN</td>\n",
       "      <td>100.0</td>\n",
       "      <td>NaN</td>\n",
       "      <td>1.0</td>\n",
       "      <td>fga-eps-mds-2020_2-Projeto-Kokama-Front-end-23...</td>\n",
       "      <td>2020_2-Projeto-Kokama-Front-end</td>\n",
       "      <td>2021-03-23</td>\n",
       "    </tr>\n",
       "    <tr>\n",
       "      <th>226</th>\n",
       "      <td>projeto-kokama/src/index.tsx</td>\n",
       "      <td>1</td>\n",
       "      <td>1</td>\n",
       "      <td>0.0</td>\n",
       "      <td>0.0</td>\n",
       "      <td>NaN</td>\n",
       "      <td>8</td>\n",
       "      <td>1.0</td>\n",
       "      <td>NaN</td>\n",
       "      <td>100.0</td>\n",
       "      <td>NaN</td>\n",
       "      <td>1.0</td>\n",
       "      <td>fga-eps-mds-2020_2-Projeto-Kokama-Front-end-23...</td>\n",
       "      <td>2020_2-Projeto-Kokama-Front-end</td>\n",
       "      <td>2021-03-23</td>\n",
       "    </tr>\n",
       "    <tr>\n",
       "      <th>227</th>\n",
       "      <td>projeto-kokama/src/screens/Translation/index.tsx</td>\n",
       "      <td>18</td>\n",
       "      <td>37</td>\n",
       "      <td>3.4</td>\n",
       "      <td>0.0</td>\n",
       "      <td>NaN</td>\n",
       "      <td>225</td>\n",
       "      <td>1.0</td>\n",
       "      <td>NaN</td>\n",
       "      <td>100.0</td>\n",
       "      <td>NaN</td>\n",
       "      <td>1.0</td>\n",
       "      <td>fga-eps-mds-2020_2-Projeto-Kokama-Front-end-23...</td>\n",
       "      <td>2020_2-Projeto-Kokama-Front-end</td>\n",
       "      <td>2021-03-23</td>\n",
       "    </tr>\n",
       "    <tr>\n",
       "      <th>228</th>\n",
       "      <td>projeto-kokama/src/screens/Translation/interfa...</td>\n",
       "      <td>0</td>\n",
       "      <td>0</td>\n",
       "      <td>0.0</td>\n",
       "      <td>0.0</td>\n",
       "      <td>NaN</td>\n",
       "      <td>10</td>\n",
       "      <td>1.0</td>\n",
       "      <td>NaN</td>\n",
       "      <td>100.0</td>\n",
       "      <td>NaN</td>\n",
       "      <td>1.0</td>\n",
       "      <td>fga-eps-mds-2020_2-Projeto-Kokama-Front-end-23...</td>\n",
       "      <td>2020_2-Projeto-Kokama-Front-end</td>\n",
       "      <td>2021-03-23</td>\n",
       "    </tr>\n",
       "    <tr>\n",
       "      <th>229</th>\n",
       "      <td>projeto-kokama/src/screens/Translation/styles.ts</td>\n",
       "      <td>0</td>\n",
       "      <td>1</td>\n",
       "      <td>0.6</td>\n",
       "      <td>0.0</td>\n",
       "      <td>NaN</td>\n",
       "      <td>176</td>\n",
       "      <td>1.0</td>\n",
       "      <td>NaN</td>\n",
       "      <td>100.0</td>\n",
       "      <td>NaN</td>\n",
       "      <td>1.0</td>\n",
       "      <td>fga-eps-mds-2020_2-Projeto-Kokama-Front-end-23...</td>\n",
       "      <td>2020_2-Projeto-Kokama-Front-end</td>\n",
       "      <td>2021-03-23</td>\n",
       "    </tr>\n",
       "    <tr>\n",
       "      <th>388</th>\n",
       "      <td>projeto-kokama/src/api/Api.ts</td>\n",
       "      <td>0</td>\n",
       "      <td>0</td>\n",
       "      <td>0.0</td>\n",
       "      <td>0.0</td>\n",
       "      <td>NaN</td>\n",
       "      <td>5</td>\n",
       "      <td>1.0</td>\n",
       "      <td>NaN</td>\n",
       "      <td>100.0</td>\n",
       "      <td>NaN</td>\n",
       "      <td>1.0</td>\n",
       "      <td>fga-eps-mds-2020_2-Projeto-Kokama-Front-end-05...</td>\n",
       "      <td>2020_2-Projeto-Kokama-Front-end</td>\n",
       "      <td>2021-04-05</td>\n",
       "    </tr>\n",
       "    <tr>\n",
       "      <th>389</th>\n",
       "      <td>projeto-kokama/App.tsx</td>\n",
       "      <td>9</td>\n",
       "      <td>9</td>\n",
       "      <td>4.9</td>\n",
       "      <td>0.0</td>\n",
       "      <td>NaN</td>\n",
       "      <td>98</td>\n",
       "      <td>1.0</td>\n",
       "      <td>NaN</td>\n",
       "      <td>100.0</td>\n",
       "      <td>NaN</td>\n",
       "      <td>1.0</td>\n",
       "      <td>fga-eps-mds-2020_2-Projeto-Kokama-Front-end-05...</td>\n",
       "      <td>2020_2-Projeto-Kokama-Front-end</td>\n",
       "      <td>2021-04-05</td>\n",
       "    </tr>\n",
       "    <tr>\n",
       "      <th>390</th>\n",
       "      <td>projeto-kokama/src/assets/Colors.ts</td>\n",
       "      <td>0</td>\n",
       "      <td>0</td>\n",
       "      <td>0.0</td>\n",
       "      <td>0.0</td>\n",
       "      <td>NaN</td>\n",
       "      <td>11</td>\n",
       "      <td>1.0</td>\n",
       "      <td>NaN</td>\n",
       "      <td>100.0</td>\n",
       "      <td>NaN</td>\n",
       "      <td>1.0</td>\n",
       "      <td>fga-eps-mds-2020_2-Projeto-Kokama-Front-end-05...</td>\n",
       "      <td>2020_2-Projeto-Kokama-Front-end</td>\n",
       "      <td>2021-04-05</td>\n",
       "    </tr>\n",
       "    <tr>\n",
       "      <th>391</th>\n",
       "      <td>projeto-kokama/src/config/constants.ts</td>\n",
       "      <td>0</td>\n",
       "      <td>0</td>\n",
       "      <td>0.0</td>\n",
       "      <td>0.0</td>\n",
       "      <td>NaN</td>\n",
       "      <td>3</td>\n",
       "      <td>1.0</td>\n",
       "      <td>NaN</td>\n",
       "      <td>100.0</td>\n",
       "      <td>NaN</td>\n",
       "      <td>1.0</td>\n",
       "      <td>fga-eps-mds-2020_2-Projeto-Kokama-Front-end-05...</td>\n",
       "      <td>2020_2-Projeto-Kokama-Front-end</td>\n",
       "      <td>2021-04-05</td>\n",
       "    </tr>\n",
       "  </tbody>\n",
       "</table>\n",
       "</div>"
      ],
      "text/plain": [
       "                                                  path functions complexity  \\\n",
       "224                             projeto-kokama/App.tsx         1          1   \n",
       "225             projeto-kokama/src/config/constants.ts         0          0   \n",
       "226                       projeto-kokama/src/index.tsx         1          1   \n",
       "227   projeto-kokama/src/screens/Translation/index.tsx        18         37   \n",
       "228  projeto-kokama/src/screens/Translation/interfa...         0          0   \n",
       "229   projeto-kokama/src/screens/Translation/styles.ts         0          1   \n",
       "388                      projeto-kokama/src/api/Api.ts         0          0   \n",
       "389                             projeto-kokama/App.tsx         9          9   \n",
       "390                projeto-kokama/src/assets/Colors.ts         0          0   \n",
       "391             projeto-kokama/src/config/constants.ts         0          0   \n",
       "\n",
       "    comment_lines_density duplicated_lines_density coverage ncloc  \\\n",
       "224                   0.0                      0.0      NaN     8   \n",
       "225                   0.0                      0.0      NaN     2   \n",
       "226                   0.0                      0.0      NaN     8   \n",
       "227                   3.4                      0.0      NaN   225   \n",
       "228                   0.0                      0.0      NaN    10   \n",
       "229                   0.6                      0.0      NaN   176   \n",
       "388                   0.0                      0.0      NaN     5   \n",
       "389                   4.9                      0.0      NaN    98   \n",
       "390                   0.0                      0.0      NaN    11   \n",
       "391                   0.0                      0.0      NaN     3   \n",
       "\n",
       "    security_rating tests test_success_density test_execution_time  \\\n",
       "224             1.0   NaN                100.0                 NaN   \n",
       "225             1.0   NaN                100.0                 NaN   \n",
       "226             1.0   NaN                100.0                 NaN   \n",
       "227             1.0   NaN                100.0                 NaN   \n",
       "228             1.0   NaN                100.0                 NaN   \n",
       "229             1.0   NaN                100.0                 NaN   \n",
       "388             1.0   NaN                100.0                 NaN   \n",
       "389             1.0   NaN                100.0                 NaN   \n",
       "390             1.0   NaN                100.0                 NaN   \n",
       "391             1.0   NaN                100.0                 NaN   \n",
       "\n",
       "    reliability_rating                                           filename  \\\n",
       "224                1.0  fga-eps-mds-2020_2-Projeto-Kokama-Front-end-23...   \n",
       "225                1.0  fga-eps-mds-2020_2-Projeto-Kokama-Front-end-23...   \n",
       "226                1.0  fga-eps-mds-2020_2-Projeto-Kokama-Front-end-23...   \n",
       "227                1.0  fga-eps-mds-2020_2-Projeto-Kokama-Front-end-23...   \n",
       "228                1.0  fga-eps-mds-2020_2-Projeto-Kokama-Front-end-23...   \n",
       "229                1.0  fga-eps-mds-2020_2-Projeto-Kokama-Front-end-23...   \n",
       "388                1.0  fga-eps-mds-2020_2-Projeto-Kokama-Front-end-05...   \n",
       "389                1.0  fga-eps-mds-2020_2-Projeto-Kokama-Front-end-05...   \n",
       "390                1.0  fga-eps-mds-2020_2-Projeto-Kokama-Front-end-05...   \n",
       "391                1.0  fga-eps-mds-2020_2-Projeto-Kokama-Front-end-05...   \n",
       "\n",
       "                          repository    version  \n",
       "224  2020_2-Projeto-Kokama-Front-end 2021-03-23  \n",
       "225  2020_2-Projeto-Kokama-Front-end 2021-03-23  \n",
       "226  2020_2-Projeto-Kokama-Front-end 2021-03-23  \n",
       "227  2020_2-Projeto-Kokama-Front-end 2021-03-23  \n",
       "228  2020_2-Projeto-Kokama-Front-end 2021-03-23  \n",
       "229  2020_2-Projeto-Kokama-Front-end 2021-03-23  \n",
       "388  2020_2-Projeto-Kokama-Front-end 2021-04-05  \n",
       "389  2020_2-Projeto-Kokama-Front-end 2021-04-05  \n",
       "390  2020_2-Projeto-Kokama-Front-end 2021-04-05  \n",
       "391  2020_2-Projeto-Kokama-Front-end 2021-04-05  "
      ]
     },
     "execution_count": 276,
     "metadata": {},
     "output_type": "execute_result"
    }
   ],
   "source": [
    "repository_dataframes[\"2020_2-Projeto-Kokama-Front-end\"].head(10)"
   ]
  },
  {
   "cell_type": "code",
   "execution_count": 277,
   "metadata": {
    "pycharm": {
     "name": "#%%\n"
    }
   },
   "outputs": [
    {
     "data": {
      "text/html": [
       "<div>\n",
       "<style scoped>\n",
       "    .dataframe tbody tr th:only-of-type {\n",
       "        vertical-align: middle;\n",
       "    }\n",
       "\n",
       "    .dataframe tbody tr th {\n",
       "        vertical-align: top;\n",
       "    }\n",
       "\n",
       "    .dataframe thead th {\n",
       "        text-align: right;\n",
       "    }\n",
       "</style>\n",
       "<table border=\"1\" class=\"dataframe\">\n",
       "  <thead>\n",
       "    <tr style=\"text-align: right;\">\n",
       "      <th></th>\n",
       "      <th>em1</th>\n",
       "      <th>em2</th>\n",
       "      <th>em3</th>\n",
       "      <th>repository</th>\n",
       "      <th>version</th>\n",
       "    </tr>\n",
       "  </thead>\n",
       "  <tbody>\n",
       "    <tr>\n",
       "      <th>0</th>\n",
       "      <td>0.500000</td>\n",
       "      <td>0.000000</td>\n",
       "      <td>1.0</td>\n",
       "      <td>2020_2-Projeto-Kokama-Front-end</td>\n",
       "      <td>2021-03-23</td>\n",
       "    </tr>\n",
       "    <tr>\n",
       "      <th>1</th>\n",
       "      <td>0.545455</td>\n",
       "      <td>0.045227</td>\n",
       "      <td>1.0</td>\n",
       "      <td>2020_2-Projeto-Kokama-Front-end</td>\n",
       "      <td>2021-04-05</td>\n",
       "    </tr>\n",
       "    <tr>\n",
       "      <th>2</th>\n",
       "      <td>0.515152</td>\n",
       "      <td>0.030152</td>\n",
       "      <td>1.0</td>\n",
       "      <td>2020_2-Projeto-Kokama-Front-end</td>\n",
       "      <td>2021-05-11</td>\n",
       "    </tr>\n",
       "    <tr>\n",
       "      <th>3</th>\n",
       "      <td>0.515152</td>\n",
       "      <td>0.000000</td>\n",
       "      <td>1.0</td>\n",
       "      <td>2020_2-Projeto-Kokama-Front-end</td>\n",
       "      <td>2021-05-15</td>\n",
       "    </tr>\n",
       "    <tr>\n",
       "      <th>4</th>\n",
       "      <td>0.529412</td>\n",
       "      <td>0.000000</td>\n",
       "      <td>1.0</td>\n",
       "      <td>2020_2-Projeto-Kokama-Front-end</td>\n",
       "      <td>2021-05-17</td>\n",
       "    </tr>\n",
       "    <tr>\n",
       "      <th>5</th>\n",
       "      <td>0.558824</td>\n",
       "      <td>0.000000</td>\n",
       "      <td>1.0</td>\n",
       "      <td>2020_2-Projeto-Kokama-Front-end</td>\n",
       "      <td>2021-05-22</td>\n",
       "    </tr>\n",
       "    <tr>\n",
       "      <th>6</th>\n",
       "      <td>0.642857</td>\n",
       "      <td>0.000000</td>\n",
       "      <td>1.0</td>\n",
       "      <td>2020_2-Projeto-Kokama-Front-end</td>\n",
       "      <td>2021-05-24</td>\n",
       "    </tr>\n",
       "  </tbody>\n",
       "</table>\n",
       "</div>"
      ],
      "text/plain": [
       "        em1       em2  em3                       repository    version\n",
       "0  0.500000  0.000000  1.0  2020_2-Projeto-Kokama-Front-end 2021-03-23\n",
       "1  0.545455  0.045227  1.0  2020_2-Projeto-Kokama-Front-end 2021-04-05\n",
       "2  0.515152  0.030152  1.0  2020_2-Projeto-Kokama-Front-end 2021-05-11\n",
       "3  0.515152  0.000000  1.0  2020_2-Projeto-Kokama-Front-end 2021-05-15\n",
       "4  0.529412  0.000000  1.0  2020_2-Projeto-Kokama-Front-end 2021-05-17\n",
       "5  0.558824  0.000000  1.0  2020_2-Projeto-Kokama-Front-end 2021-05-22\n",
       "6  0.642857  0.000000  1.0  2020_2-Projeto-Kokama-Front-end 2021-05-24"
      ]
     },
     "execution_count": 277,
     "metadata": {},
     "output_type": "execute_result"
    }
   ],
   "source": [
    "repository_metrics[\"2020_2-Projeto-Kokama-Front-end\"]"
   ]
  },
  {
   "cell_type": "code",
   "execution_count": 278,
   "metadata": {
    "pycharm": {
     "name": "#%%\n"
    }
   },
   "outputs": [
    {
     "data": {
      "text/html": [
       "<div>\n",
       "<style scoped>\n",
       "    .dataframe tbody tr th:only-of-type {\n",
       "        vertical-align: middle;\n",
       "    }\n",
       "\n",
       "    .dataframe tbody tr th {\n",
       "        vertical-align: top;\n",
       "    }\n",
       "\n",
       "    .dataframe thead th {\n",
       "        text-align: right;\n",
       "    }\n",
       "</style>\n",
       "<table border=\"1\" class=\"dataframe\">\n",
       "  <thead>\n",
       "    <tr style=\"text-align: right;\">\n",
       "      <th></th>\n",
       "      <th>em1</th>\n",
       "      <th>em2</th>\n",
       "      <th>em3</th>\n",
       "      <th>repository</th>\n",
       "      <th>version</th>\n",
       "    </tr>\n",
       "  </thead>\n",
       "  <tbody>\n",
       "    <tr>\n",
       "      <th>0</th>\n",
       "      <td>0.173913</td>\n",
       "      <td>0.042826</td>\n",
       "      <td>1.0</td>\n",
       "      <td>2020_2-Projeto-Kokama-Traducao</td>\n",
       "      <td>2021-03-23</td>\n",
       "    </tr>\n",
       "    <tr>\n",
       "      <th>1</th>\n",
       "      <td>0.190476</td>\n",
       "      <td>0.058095</td>\n",
       "      <td>1.0</td>\n",
       "      <td>2020_2-Projeto-Kokama-Traducao</td>\n",
       "      <td>2021-04-05</td>\n",
       "    </tr>\n",
       "    <tr>\n",
       "      <th>2</th>\n",
       "      <td>0.285714</td>\n",
       "      <td>0.088929</td>\n",
       "      <td>1.0</td>\n",
       "      <td>2020_2-Projeto-Kokama-Traducao</td>\n",
       "      <td>2021-04-06</td>\n",
       "    </tr>\n",
       "    <tr>\n",
       "      <th>3</th>\n",
       "      <td>0.285714</td>\n",
       "      <td>0.088929</td>\n",
       "      <td>1.0</td>\n",
       "      <td>2020_2-Projeto-Kokama-Traducao</td>\n",
       "      <td>2021-05-14</td>\n",
       "    </tr>\n",
       "    <tr>\n",
       "      <th>4</th>\n",
       "      <td>0.307692</td>\n",
       "      <td>0.095769</td>\n",
       "      <td>1.0</td>\n",
       "      <td>2020_2-Projeto-Kokama-Traducao</td>\n",
       "      <td>2021-05-24</td>\n",
       "    </tr>\n",
       "  </tbody>\n",
       "</table>\n",
       "</div>"
      ],
      "text/plain": [
       "        em1       em2  em3                      repository    version\n",
       "0  0.173913  0.042826  1.0  2020_2-Projeto-Kokama-Traducao 2021-03-23\n",
       "1  0.190476  0.058095  1.0  2020_2-Projeto-Kokama-Traducao 2021-04-05\n",
       "2  0.285714  0.088929  1.0  2020_2-Projeto-Kokama-Traducao 2021-04-06\n",
       "3  0.285714  0.088929  1.0  2020_2-Projeto-Kokama-Traducao 2021-05-14\n",
       "4  0.307692  0.095769  1.0  2020_2-Projeto-Kokama-Traducao 2021-05-24"
      ]
     },
     "execution_count": 278,
     "metadata": {},
     "output_type": "execute_result"
    }
   ],
   "source": [
    "repository_metrics[\"2020_2-Projeto-Kokama-Traducao\"]"
   ]
  },
  {
   "cell_type": "code",
   "execution_count": 279,
   "metadata": {
    "pycharm": {
     "name": "#%%\n"
    }
   },
   "outputs": [
    {
     "data": {
      "text/html": [
       "<div>\n",
       "<style scoped>\n",
       "    .dataframe tbody tr th:only-of-type {\n",
       "        vertical-align: middle;\n",
       "    }\n",
       "\n",
       "    .dataframe tbody tr th {\n",
       "        vertical-align: top;\n",
       "    }\n",
       "\n",
       "    .dataframe thead th {\n",
       "        text-align: right;\n",
       "    }\n",
       "</style>\n",
       "<table border=\"1\" class=\"dataframe\">\n",
       "  <thead>\n",
       "    <tr style=\"text-align: right;\">\n",
       "      <th></th>\n",
       "      <th>em1</th>\n",
       "      <th>em2</th>\n",
       "      <th>em3</th>\n",
       "      <th>repository</th>\n",
       "      <th>version</th>\n",
       "    </tr>\n",
       "  </thead>\n",
       "  <tbody>\n",
       "    <tr>\n",
       "      <th>0</th>\n",
       "      <td>0.000000</td>\n",
       "      <td>0.000000</td>\n",
       "      <td>1.0</td>\n",
       "      <td>2020_2-Projeto-Kokama-Usuario</td>\n",
       "      <td>2021-04-17</td>\n",
       "    </tr>\n",
       "    <tr>\n",
       "      <th>1</th>\n",
       "      <td>0.200000</td>\n",
       "      <td>0.043800</td>\n",
       "      <td>1.0</td>\n",
       "      <td>2020_2-Projeto-Kokama-Usuario</td>\n",
       "      <td>2021-05-14</td>\n",
       "    </tr>\n",
       "    <tr>\n",
       "      <th>2</th>\n",
       "      <td>0.200000</td>\n",
       "      <td>0.043800</td>\n",
       "      <td>1.0</td>\n",
       "      <td>2020_2-Projeto-Kokama-Usuario</td>\n",
       "      <td>2021-05-15</td>\n",
       "    </tr>\n",
       "    <tr>\n",
       "      <th>3</th>\n",
       "      <td>0.304348</td>\n",
       "      <td>0.088043</td>\n",
       "      <td>1.0</td>\n",
       "      <td>2020_2-Projeto-Kokama-Usuario</td>\n",
       "      <td>2021-05-16</td>\n",
       "    </tr>\n",
       "    <tr>\n",
       "      <th>4</th>\n",
       "      <td>0.333333</td>\n",
       "      <td>0.122917</td>\n",
       "      <td>1.0</td>\n",
       "      <td>2020_2-Projeto-Kokama-Usuario</td>\n",
       "      <td>2021-05-24</td>\n",
       "    </tr>\n",
       "  </tbody>\n",
       "</table>\n",
       "</div>"
      ],
      "text/plain": [
       "        em1       em2  em3                     repository    version\n",
       "0  0.000000  0.000000  1.0  2020_2-Projeto-Kokama-Usuario 2021-04-17\n",
       "1  0.200000  0.043800  1.0  2020_2-Projeto-Kokama-Usuario 2021-05-14\n",
       "2  0.200000  0.043800  1.0  2020_2-Projeto-Kokama-Usuario 2021-05-15\n",
       "3  0.304348  0.088043  1.0  2020_2-Projeto-Kokama-Usuario 2021-05-16\n",
       "4  0.333333  0.122917  1.0  2020_2-Projeto-Kokama-Usuario 2021-05-24"
      ]
     },
     "execution_count": 279,
     "metadata": {},
     "output_type": "execute_result"
    }
   ],
   "source": [
    "repository_metrics[\"2020_2-Projeto-Kokama-Usuario\"]"
   ]
  },
  {
   "cell_type": "code",
   "execution_count": 280,
   "metadata": {
    "pycharm": {
     "name": "#%%\n"
    }
   },
   "outputs": [
    {
     "data": {
      "text/html": [
       "<div>\n",
       "<style scoped>\n",
       "    .dataframe tbody tr th:only-of-type {\n",
       "        vertical-align: middle;\n",
       "    }\n",
       "\n",
       "    .dataframe tbody tr th {\n",
       "        vertical-align: top;\n",
       "    }\n",
       "\n",
       "    .dataframe thead th {\n",
       "        text-align: right;\n",
       "    }\n",
       "</style>\n",
       "<table border=\"1\" class=\"dataframe\">\n",
       "  <thead>\n",
       "    <tr style=\"text-align: right;\">\n",
       "      <th></th>\n",
       "      <th>em1</th>\n",
       "      <th>em2</th>\n",
       "      <th>em3</th>\n",
       "      <th>repository</th>\n",
       "      <th>version</th>\n",
       "    </tr>\n",
       "  </thead>\n",
       "  <tbody>\n",
       "    <tr>\n",
       "      <th>0</th>\n",
       "      <td>0.230769</td>\n",
       "      <td>0.046346</td>\n",
       "      <td>1.0</td>\n",
       "      <td>2020_2-Projeto-Kokama-Ensino</td>\n",
       "      <td>2021-04-14</td>\n",
       "    </tr>\n",
       "    <tr>\n",
       "      <th>1</th>\n",
       "      <td>0.318182</td>\n",
       "      <td>0.049773</td>\n",
       "      <td>1.0</td>\n",
       "      <td>2020_2-Projeto-Kokama-Ensino</td>\n",
       "      <td>2021-05-14</td>\n",
       "    </tr>\n",
       "    <tr>\n",
       "      <th>2</th>\n",
       "      <td>0.318182</td>\n",
       "      <td>0.049773</td>\n",
       "      <td>1.0</td>\n",
       "      <td>2020_2-Projeto-Kokama-Ensino</td>\n",
       "      <td>2021-05-15</td>\n",
       "    </tr>\n",
       "    <tr>\n",
       "      <th>3</th>\n",
       "      <td>0.350000</td>\n",
       "      <td>0.054750</td>\n",
       "      <td>1.0</td>\n",
       "      <td>2020_2-Projeto-Kokama-Ensino</td>\n",
       "      <td>2021-05-24</td>\n",
       "    </tr>\n",
       "  </tbody>\n",
       "</table>\n",
       "</div>"
      ],
      "text/plain": [
       "        em1       em2  em3                    repository    version\n",
       "0  0.230769  0.046346  1.0  2020_2-Projeto-Kokama-Ensino 2021-04-14\n",
       "1  0.318182  0.049773  1.0  2020_2-Projeto-Kokama-Ensino 2021-05-14\n",
       "2  0.318182  0.049773  1.0  2020_2-Projeto-Kokama-Ensino 2021-05-15\n",
       "3  0.350000  0.054750  1.0  2020_2-Projeto-Kokama-Ensino 2021-05-24"
      ]
     },
     "execution_count": 280,
     "metadata": {},
     "output_type": "execute_result"
    }
   ],
   "source": [
    "repository_metrics[\"2020_2-Projeto-Kokama-Ensino\"]"
   ]
  },
  {
   "cell_type": "code",
   "execution_count": 281,
   "metadata": {
    "pycharm": {
     "name": "#%%\n"
    }
   },
   "outputs": [
    {
     "data": {
      "text/html": [
       "<div>\n",
       "<style scoped>\n",
       "    .dataframe tbody tr th:only-of-type {\n",
       "        vertical-align: middle;\n",
       "    }\n",
       "\n",
       "    .dataframe tbody tr th {\n",
       "        vertical-align: top;\n",
       "    }\n",
       "\n",
       "    .dataframe thead th {\n",
       "        text-align: right;\n",
       "    }\n",
       "</style>\n",
       "<table border=\"1\" class=\"dataframe\">\n",
       "  <thead>\n",
       "    <tr style=\"text-align: right;\">\n",
       "      <th></th>\n",
       "      <th>em1</th>\n",
       "      <th>em2</th>\n",
       "      <th>em3</th>\n",
       "      <th>repository</th>\n",
       "      <th>version</th>\n",
       "    </tr>\n",
       "  </thead>\n",
       "  <tbody>\n",
       "    <tr>\n",
       "      <th>0</th>\n",
       "      <td>0.500000</td>\n",
       "      <td>0.000000</td>\n",
       "      <td>1.0</td>\n",
       "      <td>2020_2-Projeto-Kokama-Front-end</td>\n",
       "      <td>2021-03-23</td>\n",
       "    </tr>\n",
       "    <tr>\n",
       "      <th>1</th>\n",
       "      <td>0.545455</td>\n",
       "      <td>0.045227</td>\n",
       "      <td>1.0</td>\n",
       "      <td>2020_2-Projeto-Kokama-Front-end</td>\n",
       "      <td>2021-04-05</td>\n",
       "    </tr>\n",
       "    <tr>\n",
       "      <th>2</th>\n",
       "      <td>0.515152</td>\n",
       "      <td>0.030152</td>\n",
       "      <td>1.0</td>\n",
       "      <td>2020_2-Projeto-Kokama-Front-end</td>\n",
       "      <td>2021-05-11</td>\n",
       "    </tr>\n",
       "    <tr>\n",
       "      <th>3</th>\n",
       "      <td>0.515152</td>\n",
       "      <td>0.000000</td>\n",
       "      <td>1.0</td>\n",
       "      <td>2020_2-Projeto-Kokama-Front-end</td>\n",
       "      <td>2021-05-15</td>\n",
       "    </tr>\n",
       "    <tr>\n",
       "      <th>4</th>\n",
       "      <td>0.529412</td>\n",
       "      <td>0.000000</td>\n",
       "      <td>1.0</td>\n",
       "      <td>2020_2-Projeto-Kokama-Front-end</td>\n",
       "      <td>2021-05-17</td>\n",
       "    </tr>\n",
       "    <tr>\n",
       "      <th>5</th>\n",
       "      <td>0.558824</td>\n",
       "      <td>0.000000</td>\n",
       "      <td>1.0</td>\n",
       "      <td>2020_2-Projeto-Kokama-Front-end</td>\n",
       "      <td>2021-05-22</td>\n",
       "    </tr>\n",
       "    <tr>\n",
       "      <th>6</th>\n",
       "      <td>0.642857</td>\n",
       "      <td>0.000000</td>\n",
       "      <td>1.0</td>\n",
       "      <td>2020_2-Projeto-Kokama-Front-end</td>\n",
       "      <td>2021-05-24</td>\n",
       "    </tr>\n",
       "  </tbody>\n",
       "</table>\n",
       "</div>"
      ],
      "text/plain": [
       "        em1       em2  em3                       repository    version\n",
       "0  0.500000  0.000000  1.0  2020_2-Projeto-Kokama-Front-end 2021-03-23\n",
       "1  0.545455  0.045227  1.0  2020_2-Projeto-Kokama-Front-end 2021-04-05\n",
       "2  0.515152  0.030152  1.0  2020_2-Projeto-Kokama-Front-end 2021-05-11\n",
       "3  0.515152  0.000000  1.0  2020_2-Projeto-Kokama-Front-end 2021-05-15\n",
       "4  0.529412  0.000000  1.0  2020_2-Projeto-Kokama-Front-end 2021-05-17\n",
       "5  0.558824  0.000000  1.0  2020_2-Projeto-Kokama-Front-end 2021-05-22\n",
       "6  0.642857  0.000000  1.0  2020_2-Projeto-Kokama-Front-end 2021-05-24"
      ]
     },
     "execution_count": 281,
     "metadata": {},
     "output_type": "execute_result"
    }
   ],
   "source": [
    "repos_metrics_list = []\n",
    "\n",
    "repos_metrics_list.append(repository_metrics[\"2020_2-Projeto-Kokama-Front-end\"])\n",
    "repos_metrics_list.append(repository_metrics[\"2020_2-Projeto-Kokama-Traducao\"])\n",
    "repos_metrics_list.append(repository_metrics[\"2020_2-Projeto-Kokama-Usuario\"])\n",
    "repos_metrics_list.append(repository_metrics[\"2020_2-Projeto-Kokama-Ensino\"])\n",
    "\n",
    "#Printing frontend_metrics\n",
    "#frontend_metrics\n",
    "\n",
    "\n",
    "repos_metrics_list[0]"
   ]
  },
  {
   "cell_type": "markdown",
   "metadata": {},
   "source": [
    "## Plotting em1, em2 and em3 in frontend repository\n",
    "\n",
    "### em1"
   ]
  },
  {
   "cell_type": "code",
   "execution_count": 282,
   "metadata": {
    "pycharm": {
     "name": "#%%\n"
    }
   },
   "outputs": [
    {
     "data": {
      "text/plain": [
       "(0.625, 0.7)"
      ]
     },
     "execution_count": 282,
     "metadata": {},
     "output_type": "execute_result"
    },
    {
     "data": {
      "image/png": "[encoded data removed]",
      "text/plain": [
       "<Figure size 1440x720 with 1 Axes>"
      ]
     },
     "metadata": {
      "image/png": {
       "height": 589,
       "width": 1172
      }
     },
     "output_type": "display_data"
    }
   ],
   "source": [
    "fig = plt.figure(figsize=(20, 10))\n",
    "\n",
    "#plt.plot(repos_metrics_list[0]['em1'], linewidth=3, marker='o', markersize=10)\n",
    "plt.plot(repos_metrics_list[0]['em1'], linewidth=3, marker='o', markersize=10)\n",
    "\n",
    "# Background color\n",
    "plt.axhspan(.625,.7, color=\"#c9f9ff\", alpha=0.3)\n",
    "\n",
    "plt.ylim(.625,.7)"
   ]
  },
  {
   "cell_type": "markdown",
   "metadata": {},
   "source": [
    "### em2"
   ]
  },
  {
   "cell_type": "code",
   "execution_count": 283,
   "metadata": {
    "pycharm": {
     "name": "#%%\n"
    }
   },
   "outputs": [
    {
     "data": {
      "text/plain": [
       "(-0.001, 0.016)"
      ]
     },
     "execution_count": 283,
     "metadata": {},
     "output_type": "execute_result"
    },
    {
     "data": {
      "image/png": "[encoded data removed]",
      "text/plain": [
       "<Figure size 1440x720 with 1 Axes>"
      ]
     },
     "metadata": {
      "image/png": {
       "height": 589,
       "width": 1181
      }
     },
     "output_type": "display_data"
    }
   ],
   "source": [
    "fig = plt.figure(figsize=(20, 10))\n",
    "\n",
    "plt.plot(repos_metrics_list[0]['em2'], linewidth=3, marker='o', markersize=10)\n",
    "\n",
    "\n",
    "# Background color\n",
    "plt.axhspan(-.001,.016, color=\"#c9f9ff\", alpha=0.3)\n",
    "\n",
    "plt.ylim(-.001,.016)"
   ]
  },
  {
   "cell_type": "markdown",
   "metadata": {},
   "source": [
    "### em3"
   ]
  },
  {
   "cell_type": "code",
   "execution_count": 284,
   "metadata": {
    "pycharm": {
     "name": "#%%\n"
    }
   },
   "outputs": [
    {
     "data": {
      "text/plain": [
       "(0.95, 1.01)"
      ]
     },
     "execution_count": 284,
     "metadata": {},
     "output_type": "execute_result"
    },
    {
     "data": {
      "image/png": "[encoded data removed]",
      "text/plain": [
       "<Figure size 1440x720 with 1 Axes>"
      ]
     },
     "metadata": {
      "image/png": {
       "height": 589,
       "width": 1172
      }
     },
     "output_type": "display_data"
    }
   ],
   "source": [
    "fig = plt.figure(figsize=(20, 10))\n",
    "\n",
    "plt.plot(repos_metrics_list[0]['em3'], linewidth=3, marker='o', markersize=10)\n",
    "\n",
    "# Background color\n",
    "plt.axhspan(.95,1.01, color=\"#c9f9ff\", alpha=0.3)\n",
    "\n",
    "plt.ylim(.95,1.01)"
   ]
  },
  {
   "cell_type": "markdown",
   "metadata": {},
   "source": [
    "### All metrics"
   ]
  },
  {
   "cell_type": "code",
   "execution_count": 285,
   "metadata": {
    "pycharm": {
     "name": "#%%\n"
    }
   },
   "outputs": [
    {
     "data": {
      "text/plain": [
       "(-0.02, 1.02)"
      ]
     },
     "execution_count": 285,
     "metadata": {},
     "output_type": "execute_result"
    },
    {
     "data": {
      "image/png": "[encoded data removed]",
      "text/plain": [
       "<Figure size 1440x720 with 1 Axes>"
      ]
     },
     "metadata": {
      "image/png": {
       "height": 583,
       "width": 1162
      }
     },
     "output_type": "display_data"
    }
   ],
   "source": [
    "fig = plt.figure(figsize=(20, 10))\n",
    "\n",
    "plt.plot(repos_metrics_list[0]['em1'], linewidth=3, marker='o', markersize=10)\n",
    "plt.plot(repos_metrics_list[0]['em2'], linewidth=3, marker='o', markersize=10)\n",
    "plt.plot(repos_metrics_list[0]['em3'], linewidth=3, marker='o', markersize=10)\n",
    "\n",
    "# Background color\n",
    "plt.axhspan(-.02,1.02, color=\"#c9f9ff\", alpha=0.3)\n",
    "\n",
    "plt.ylim(-.02,1.02)"
   ]
  },
  {
   "cell_type": "markdown",
   "metadata": {},
   "source": [
    "### Setting measures weighs"
   ]
  },
  {
   "cell_type": "code",
   "execution_count": 286,
   "metadata": {
    "pycharm": {
     "name": "#%%\n"
    }
   },
   "outputs": [],
   "source": [
    "# wem1 = 33%\n",
    "# wem2 = 33%\n",
    "# wem3 = 33%\n",
    "\n",
    "wem1=wem2=wem3 = 0.3374\n",
    "SC_Modifiability_EM_Weights = np.array([wem1, wem2, wem3])"
   ]
  },
  {
   "cell_type": "markdown",
   "metadata": {},
   "source": [
    "## Defining Modifiability quality sub-characteristic tensors per microservice."
   ]
  },
  {
   "cell_type": "code",
   "execution_count": 287,
   "metadata": {
    "pycharm": {
     "name": "#%%\n"
    }
   },
   "outputs": [
    {
     "name": "stdout",
     "output_type": "stream",
     "text": [
      "Modifiability Tensor dimensions = 3\n"
     ]
    },
    {
     "data": {
      "text/plain": [
       "array([[[0.5       ],\n",
       "        [0.54545455],\n",
       "        [0.51515152],\n",
       "        [0.51515152],\n",
       "        [0.52941176],\n",
       "        [0.55882353],\n",
       "        [0.64285714]],\n",
       "\n",
       "       [[0.        ],\n",
       "        [0.04522727],\n",
       "        [0.03015152],\n",
       "        [0.        ],\n",
       "        [0.        ],\n",
       "        [0.        ],\n",
       "        [0.        ]],\n",
       "\n",
       "       [[1.        ],\n",
       "        [1.        ],\n",
       "        [1.        ],\n",
       "        [1.        ],\n",
       "        [1.        ],\n",
       "        [1.        ],\n",
       "        [1.        ]]])"
      ]
     },
     "execution_count": 287,
     "metadata": {},
     "output_type": "execute_result"
    }
   ],
   "source": [
    "def create_sc_tensor(measures_list, size_z):\n",
    "\n",
    "    tensor_sc_measures = ts.tensor(measures_list).reshape((measures_list.shape[0],measures_list.shape[1],size_z))\n",
    "\n",
    "    return tensor_sc_measures\n",
    "\n",
    "repos_sc_measures_list = []\n",
    "\n",
    "for repo_measures in repos_metrics_list:\n",
    "    repos_sc_measures_list.append(np.array([repo_measures['em1'].astype(float),\n",
    "                                            repo_measures['em2'].astype(float),\n",
    "                                            repo_measures['em3'].astype(float)]))\n",
    "\n",
    "t_sc_modifiability_tensor_list = []\n",
    "\n",
    "t_sc_modifiability_tensor_list.append(create_sc_tensor(repos_sc_measures_list[0], 1))\n",
    "t_sc_modifiability_tensor_list.append(create_sc_tensor(repos_sc_measures_list[1], 1))\n",
    "t_sc_modifiability_tensor_list.append(create_sc_tensor(repos_sc_measures_list[2], 1))\n",
    "t_sc_modifiability_tensor_list.append(create_sc_tensor(repos_sc_measures_list[3], 1))\n",
    "\n",
    "print(\"Modifiability Tensor dimensions = \" + str(t_sc_modifiability_tensor_list[0].ndim))\n",
    "\n",
    "t_sc_modifiability_tensor_list[0]"
   ]
  },
  {
   "cell_type": "markdown",
   "metadata": {},
   "source": [
    "# Weighting tensor of the Modifiability Sub-Characteristic at measure level."
   ]
  },
  {
   "cell_type": "code",
   "execution_count": 288,
   "metadata": {
    "pycharm": {
     "name": "#%%\n"
    }
   },
   "outputs": [
    {
     "data": {
      "text/plain": [
       "array([[[0.1687    ],\n",
       "        [0.18403636],\n",
       "        [0.17381212],\n",
       "        [0.17381212],\n",
       "        [0.17862353],\n",
       "        [0.18854706],\n",
       "        [0.2169    ]],\n",
       "\n",
       "       [[0.        ],\n",
       "        [0.01525968],\n",
       "        [0.01017312],\n",
       "        [0.        ],\n",
       "        [0.        ],\n",
       "        [0.        ],\n",
       "        [0.        ]],\n",
       "\n",
       "       [[0.3374    ],\n",
       "        [0.3374    ],\n",
       "        [0.3374    ],\n",
       "        [0.3374    ],\n",
       "        [0.3374    ],\n",
       "        [0.3374    ],\n",
       "        [0.3374    ]]])"
      ]
     },
     "execution_count": 288,
     "metadata": {},
     "output_type": "execute_result"
    }
   ],
   "source": [
    "t_sc_modifiability_weighted_list = []\n",
    "\n",
    "for i in range(len(t_sc_modifiability_tensor_list)):\n",
    "\n",
    "    t_sc_modifiability_weighted = np.empty(t_sc_modifiability_tensor_list[i].shape)\n",
    "\n",
    "    # t_sc_modifiability_frontend[:, :, 0][j] = Slice in a specific dimension and multiply by respective weight\n",
    "    for j in range(t_sc_modifiability_tensor_list[i].ndim):\n",
    "        t_sc_modifiability_weighted[:, :, 0][j] = np.tensordot(t_sc_modifiability_tensor_list[i][:,:,0][j],\n",
    "                                                               SC_Modifiability_EM_Weights[j], 0)\n",
    "    t_sc_modifiability_weighted_list.append(t_sc_modifiability_weighted)\n",
    "\n",
    "t_sc_modifiability_weighted_list[0]\n"
   ]
  },
  {
   "cell_type": "markdown",
   "metadata": {},
   "source": [
    "# Aggregating and weighting SC_Modifiability quality characteristic tensor"
   ]
  },
  {
   "cell_type": "code",
   "execution_count": 289,
   "metadata": {
    "pycharm": {
     "name": "#%%\n"
    }
   },
   "outputs": [
    {
     "data": {
      "text/plain": [
       "array([0.37722467, 0.38463099, 0.37967474, 0.37953842, 0.3817658 ,\n",
       "       0.38650841, 0.40110394])"
      ]
     },
     "execution_count": 289,
     "metadata": {},
     "output_type": "execute_result"
    }
   ],
   "source": [
    "wsc1 = 1\n",
    "\n",
    "t_sc_modifiability_agregated_list = []\n",
    "\n",
    "for i in range(len(t_sc_modifiability_weighted_list)):\n",
    "\n",
    "    #t_sc_modifiability_agregated = np.empty(t_sc_modifiability_weighted_list[i].shape)\n",
    "    t_sc_modifiability_agregated = np.empty([t_sc_modifiability_weighted_list[i].shape[1]])\n",
    "\n",
    "    for j in range(t_sc_modifiability_weighted_list[i].shape[1]):\n",
    "        t_sc_modifiability_agregated[j] = np.linalg.norm(t_sc_modifiability_weighted_list[i][:,:,0][:,j])\n",
    "\n",
    "    t_sc_modifiability_agregated_list.append(np.tensordot(t_sc_modifiability_agregated, wsc1, 0))\n",
    "\n",
    "t_sc_modifiability_agregated_list[0]"
   ]
  },
  {
   "cell_type": "markdown",
   "metadata": {},
   "source": [
    "# Agregating and Weighting Maintainability quality characteristic tensor"
   ]
  },
  {
   "cell_type": "code",
   "execution_count": 290,
   "metadata": {
    "pycharm": {
     "name": "#%%\n"
    }
   },
   "outputs": [
    {
     "data": {
      "text/plain": [
       "array([0.37722467, 0.38463099, 0.37967474, 0.37953842, 0.3817658 ,\n",
       "       0.38650841, 0.40110394])"
      ]
     },
     "execution_count": 290,
     "metadata": {},
     "output_type": "execute_result"
    }
   ],
   "source": [
    "wc1 = 1\n",
    "\n",
    "t_c_maintainability_agregated_list = []\n",
    "\n",
    "for i in range(len(t_sc_modifiability_agregated_list)):\n",
    "\n",
    "    t_c_maintainability_agregated = np.empty([t_sc_modifiability_agregated_list[i].shape[0]])\n",
    "\n",
    "    for j in range(t_sc_modifiability_agregated_list[i].shape[0]):\n",
    "        t_c_maintainability_agregated[j] = np.linalg.norm(t_sc_modifiability_weighted_list[i][:,:,0][:,j])\n",
    "\n",
    "    t_c_maintainability_agregated_list.append(np.tensordot(t_c_maintainability_agregated, wc1, 0))\n",
    "\n",
    "t_c_maintainability_agregated_list[0]\n"
   ]
  },
  {
   "cell_type": "markdown",
   "metadata": {},
   "source": [
    "# Comparison of the product quality of two Releases. This comparison is obtained from cosine similarity between tensors."
   ]
  },
  {
   "cell_type": "code",
   "execution_count": 291,
   "metadata": {
    "pycharm": {
     "name": "#%%\n"
    }
   },
   "outputs": [
    {
     "data": {
      "text/plain": [
       "2.220446049250313e-16"
      ]
     },
     "execution_count": 291,
     "metadata": {},
     "output_type": "execute_result"
    }
   ],
   "source": [
    "SQC_1 = t_c_maintainability_agregated_list[0][0] # first_release from frontend repository\n",
    "SQC_2 = t_c_maintainability_agregated_list[0][6] # last_release from frontend repository\n",
    "\n",
    "distance.cosine(SQC_1, SQC_2)"
   ]
  },
  {
   "cell_type": "markdown",
   "metadata": {},
   "source": [
    "# Intensity of difference between releases comparison"
   ]
  },
  {
   "cell_type": "code",
   "execution_count": 292,
   "metadata": {
    "pycharm": {
     "name": "#%%\n"
    }
   },
   "outputs": [
    {
     "data": {
      "text/plain": [
       "0.023879271343732522"
      ]
     },
     "execution_count": 292,
     "metadata": {},
     "output_type": "execute_result"
    }
   ],
   "source": [
    "intensity_difference = SQC_2 - SQC_1\n",
    "\n",
    "intensity_difference"
   ]
  },
  {
   "cell_type": "code",
   "execution_count": 357,
   "metadata": {
    "pycharm": {
     "name": "#%%\n"
    }
   },
   "outputs": [
    {
     "data": {
      "text/html": [
       "<div>\n",
       "<style scoped>\n",
       "    .dataframe tbody tr th:only-of-type {\n",
       "        vertical-align: middle;\n",
       "    }\n",
       "\n",
       "    .dataframe tbody tr th {\n",
       "        vertical-align: top;\n",
       "    }\n",
       "\n",
       "    .dataframe thead th {\n",
       "        text-align: right;\n",
       "    }\n",
       "</style>\n",
       "<table border=\"1\" class=\"dataframe\">\n",
       "  <thead>\n",
       "    <tr style=\"text-align: right;\">\n",
       "      <th></th>\n",
       "      <th>em1</th>\n",
       "      <th>em2</th>\n",
       "      <th>em3</th>\n",
       "      <th>Modifiability</th>\n",
       "      <th>Maintainability</th>\n",
       "      <th>SQC</th>\n",
       "      <th>repository</th>\n",
       "      <th>version</th>\n",
       "    </tr>\n",
       "  </thead>\n",
       "  <tbody>\n",
       "    <tr>\n",
       "      <th>0</th>\n",
       "      <td>0.500000</td>\n",
       "      <td>0.000000</td>\n",
       "      <td>1.0</td>\n",
       "      <td>0.377225</td>\n",
       "      <td>0.377225</td>\n",
       "      <td>0.377225</td>\n",
       "      <td>2020_2-Projeto-Kokama-Front-end</td>\n",
       "      <td>2021-03-23</td>\n",
       "    </tr>\n",
       "    <tr>\n",
       "      <th>1</th>\n",
       "      <td>0.545455</td>\n",
       "      <td>0.045227</td>\n",
       "      <td>1.0</td>\n",
       "      <td>0.384631</td>\n",
       "      <td>0.384631</td>\n",
       "      <td>0.384631</td>\n",
       "      <td>2020_2-Projeto-Kokama-Front-end</td>\n",
       "      <td>2021-04-05</td>\n",
       "    </tr>\n",
       "    <tr>\n",
       "      <th>2</th>\n",
       "      <td>0.515152</td>\n",
       "      <td>0.030152</td>\n",
       "      <td>1.0</td>\n",
       "      <td>0.379675</td>\n",
       "      <td>0.379675</td>\n",
       "      <td>0.379675</td>\n",
       "      <td>2020_2-Projeto-Kokama-Front-end</td>\n",
       "      <td>2021-05-11</td>\n",
       "    </tr>\n",
       "    <tr>\n",
       "      <th>3</th>\n",
       "      <td>0.515152</td>\n",
       "      <td>0.000000</td>\n",
       "      <td>1.0</td>\n",
       "      <td>0.379538</td>\n",
       "      <td>0.379538</td>\n",
       "      <td>0.379538</td>\n",
       "      <td>2020_2-Projeto-Kokama-Front-end</td>\n",
       "      <td>2021-05-15</td>\n",
       "    </tr>\n",
       "    <tr>\n",
       "      <th>4</th>\n",
       "      <td>0.529412</td>\n",
       "      <td>0.000000</td>\n",
       "      <td>1.0</td>\n",
       "      <td>0.381766</td>\n",
       "      <td>0.381766</td>\n",
       "      <td>0.381766</td>\n",
       "      <td>2020_2-Projeto-Kokama-Front-end</td>\n",
       "      <td>2021-05-17</td>\n",
       "    </tr>\n",
       "    <tr>\n",
       "      <th>5</th>\n",
       "      <td>0.558824</td>\n",
       "      <td>0.000000</td>\n",
       "      <td>1.0</td>\n",
       "      <td>0.386508</td>\n",
       "      <td>0.386508</td>\n",
       "      <td>0.386508</td>\n",
       "      <td>2020_2-Projeto-Kokama-Front-end</td>\n",
       "      <td>2021-05-22</td>\n",
       "    </tr>\n",
       "    <tr>\n",
       "      <th>6</th>\n",
       "      <td>0.642857</td>\n",
       "      <td>0.000000</td>\n",
       "      <td>1.0</td>\n",
       "      <td>0.401104</td>\n",
       "      <td>0.401104</td>\n",
       "      <td>0.401104</td>\n",
       "      <td>2020_2-Projeto-Kokama-Front-end</td>\n",
       "      <td>2021-05-24</td>\n",
       "    </tr>\n",
       "  </tbody>\n",
       "</table>\n",
       "</div>"
      ],
      "text/plain": [
       "        em1       em2  em3  Modifiability  Maintainability       SQC  \\\n",
       "0  0.500000  0.000000  1.0       0.377225         0.377225  0.377225   \n",
       "1  0.545455  0.045227  1.0       0.384631         0.384631  0.384631   \n",
       "2  0.515152  0.030152  1.0       0.379675         0.379675  0.379675   \n",
       "3  0.515152  0.000000  1.0       0.379538         0.379538  0.379538   \n",
       "4  0.529412  0.000000  1.0       0.381766         0.381766  0.381766   \n",
       "5  0.558824  0.000000  1.0       0.386508         0.386508  0.386508   \n",
       "6  0.642857  0.000000  1.0       0.401104         0.401104  0.401104   \n",
       "\n",
       "                        repository    version  \n",
       "0  2020_2-Projeto-Kokama-Front-end 2021-03-23  \n",
       "1  2020_2-Projeto-Kokama-Front-end 2021-04-05  \n",
       "2  2020_2-Projeto-Kokama-Front-end 2021-05-11  \n",
       "3  2020_2-Projeto-Kokama-Front-end 2021-05-15  \n",
       "4  2020_2-Projeto-Kokama-Front-end 2021-05-17  \n",
       "5  2020_2-Projeto-Kokama-Front-end 2021-05-22  \n",
       "6  2020_2-Projeto-Kokama-Front-end 2021-05-24  "
      ]
     },
     "execution_count": 357,
     "metadata": {},
     "output_type": "execute_result"
    }
   ],
   "source": [
    "for i in range(len(repos_metrics_list)):\n",
    "    repos_metrics_list[i]['Modifiability'] = t_c_maintainability_agregated_list[i].tolist()\n",
    "    repos_metrics_list[i]['Maintainability'] = t_c_maintainability_agregated_list[i].tolist()\n",
    "    repos_metrics_list[i]['SQC'] = t_c_maintainability_agregated_list[i].tolist()\n",
    "\n",
    "\n",
    "column_names = [\"em1\", \"em2\", \"em3\", \"repository\", \"version\", \"Modifiability\", \"Maintainability\", \"SQC\" ]\n",
    "\n",
    "#for i in range(len(repos_metrics_list)):\n",
    "#    repos_metrics_list[i] = repos_metrics_list[i].reindex(columns=column_names)\n",
    "\n",
    "#repos_metrics_list.reindex(columns=column_names)\n",
    "\n",
    "repos_metrics_list[0]"
   ]
  },
  {
   "cell_type": "markdown",
   "metadata": {},
   "source": [
    "# Plotting the total quality(SQC) from SiGed frontend microservice"
   ]
  },
  {
   "cell_type": "code",
   "execution_count": null,
   "metadata": {
    "pycharm": {
     "name": "#%%\n"
    }
   },
   "outputs": [],
   "source": [
    "fig = plt.figure(figsize=(20, 10))\n",
    "\n",
    "plt.plot(repository_metrics[\"2020_2-Projeto-Kokama-Front-end\"]['SQC'], linewidth=3, marker='o', markersize=10)\n",
    "\n",
    "# Background color\n",
    "plt.axhspan(.32,.44, color=\"#c9f9ff\", alpha=0.3)\n",
    "\n",
    "plt.ylim(.32,.44)"
   ]
  },
  {
   "cell_type": "markdown",
   "metadata": {},
   "source": [
    "# Plotting the total quality(SQC) from all SiGed microservices"
   ]
  },
  {
   "cell_type": "code",
   "execution_count": null,
   "metadata": {
    "pycharm": {
     "name": "#%%\n"
    }
   },
   "outputs": [],
   "source": [
    "fig = plt.figure(figsize=(20, 10))\n",
    "\n",
    "plt.plot(repository_metrics[\"2020_2-Projeto-Kokama-Usuario\"]['SQC'], linewidth=3, marker='o', markersize=5)\n",
    "plt.plot(repository_metrics[\"2020_2-Projeto-Kokama-Front-end\"]['SQC'], linewidth=3, marker='o', markersize=5)\n",
    "plt.plot(repository_metrics[\"2020_2-Projeto-Kokama-Ensino\"]['SQC'], linewidth=3, marker='o', markersize=5)\n",
    "plt.plot(repository_metrics[\"2020_2-Projeto-Kokama-Traducao\"]['SQC'], linewidth=3, marker='o', markersize=5)\n",
    "\n",
    "# Background color\n",
    "plt.axhspan(.34,.44, color=\"#c9f9ff\", alpha=0.3)\n",
    "\n",
    "plt.ylim(.32,.45)"
   ]
  },
  {
   "cell_type": "markdown",
   "metadata": {},
   "source": [
    "# Plotting the dataset with MeasureSoftGram's calculations"
   ]
  },
  {
   "cell_type": "code",
   "execution_count": 358,
   "metadata": {
    "pycharm": {
     "name": "#%%\n"
    }
   },
   "outputs": [
    {
     "data": {
      "text/html": [
       "<div>\n",
       "<style scoped>\n",
       "    .dataframe tbody tr th:only-of-type {\n",
       "        vertical-align: middle;\n",
       "    }\n",
       "\n",
       "    .dataframe tbody tr th {\n",
       "        vertical-align: top;\n",
       "    }\n",
       "\n",
       "    .dataframe thead th {\n",
       "        text-align: right;\n",
       "    }\n",
       "</style>\n",
       "<table border=\"1\" class=\"dataframe\">\n",
       "  <thead>\n",
       "    <tr style=\"text-align: right;\">\n",
       "      <th></th>\n",
       "      <th>em1</th>\n",
       "      <th>em2</th>\n",
       "      <th>em3</th>\n",
       "      <th>repository</th>\n",
       "      <th>version</th>\n",
       "      <th>Modifiability</th>\n",
       "      <th>Maintainability</th>\n",
       "      <th>SQC</th>\n",
       "    </tr>\n",
       "  </thead>\n",
       "  <tbody>\n",
       "    <tr>\n",
       "      <th>0</th>\n",
       "      <td>0.000000</td>\n",
       "      <td>0.000000</td>\n",
       "      <td>1.0</td>\n",
       "      <td>2020_2-Projeto-Kokama-Usuario</td>\n",
       "      <td>2021-04-17</td>\n",
       "      <td>0.337400</td>\n",
       "      <td>0.337400</td>\n",
       "      <td>0.337400</td>\n",
       "    </tr>\n",
       "    <tr>\n",
       "      <th>1</th>\n",
       "      <td>0.200000</td>\n",
       "      <td>0.043800</td>\n",
       "      <td>1.0</td>\n",
       "      <td>2020_2-Projeto-Kokama-Usuario</td>\n",
       "      <td>2021-05-14</td>\n",
       "      <td>0.344399</td>\n",
       "      <td>0.344399</td>\n",
       "      <td>0.344399</td>\n",
       "    </tr>\n",
       "    <tr>\n",
       "      <th>2</th>\n",
       "      <td>0.200000</td>\n",
       "      <td>0.043800</td>\n",
       "      <td>1.0</td>\n",
       "      <td>2020_2-Projeto-Kokama-Usuario</td>\n",
       "      <td>2021-05-15</td>\n",
       "      <td>0.344399</td>\n",
       "      <td>0.344399</td>\n",
       "      <td>0.344399</td>\n",
       "    </tr>\n",
       "    <tr>\n",
       "      <th>3</th>\n",
       "      <td>0.304348</td>\n",
       "      <td>0.088043</td>\n",
       "      <td>1.0</td>\n",
       "      <td>2020_2-Projeto-Kokama-Usuario</td>\n",
       "      <td>2021-05-16</td>\n",
       "      <td>0.353929</td>\n",
       "      <td>0.353929</td>\n",
       "      <td>0.353929</td>\n",
       "    </tr>\n",
       "    <tr>\n",
       "      <th>4</th>\n",
       "      <td>0.333333</td>\n",
       "      <td>0.122917</td>\n",
       "      <td>1.0</td>\n",
       "      <td>2020_2-Projeto-Kokama-Usuario</td>\n",
       "      <td>2021-05-24</td>\n",
       "      <td>0.358061</td>\n",
       "      <td>0.358061</td>\n",
       "      <td>0.358061</td>\n",
       "    </tr>\n",
       "    <tr>\n",
       "      <th>5</th>\n",
       "      <td>0.173913</td>\n",
       "      <td>0.042826</td>\n",
       "      <td>1.0</td>\n",
       "      <td>2020_2-Projeto-Kokama-Traducao</td>\n",
       "      <td>2021-03-23</td>\n",
       "      <td>0.342769</td>\n",
       "      <td>0.342769</td>\n",
       "      <td>0.342769</td>\n",
       "    </tr>\n",
       "    <tr>\n",
       "      <th>6</th>\n",
       "      <td>0.190476</td>\n",
       "      <td>0.058095</td>\n",
       "      <td>1.0</td>\n",
       "      <td>2020_2-Projeto-Kokama-Traducao</td>\n",
       "      <td>2021-04-05</td>\n",
       "      <td>0.344025</td>\n",
       "      <td>0.344025</td>\n",
       "      <td>0.344025</td>\n",
       "    </tr>\n",
       "    <tr>\n",
       "      <th>7</th>\n",
       "      <td>0.285714</td>\n",
       "      <td>0.088929</td>\n",
       "      <td>1.0</td>\n",
       "      <td>2020_2-Projeto-Kokama-Traducao</td>\n",
       "      <td>2021-04-06</td>\n",
       "      <td>0.352182</td>\n",
       "      <td>0.352182</td>\n",
       "      <td>0.352182</td>\n",
       "    </tr>\n",
       "    <tr>\n",
       "      <th>8</th>\n",
       "      <td>0.285714</td>\n",
       "      <td>0.088929</td>\n",
       "      <td>1.0</td>\n",
       "      <td>2020_2-Projeto-Kokama-Traducao</td>\n",
       "      <td>2021-05-14</td>\n",
       "      <td>0.352182</td>\n",
       "      <td>0.352182</td>\n",
       "      <td>0.352182</td>\n",
       "    </tr>\n",
       "    <tr>\n",
       "      <th>9</th>\n",
       "      <td>0.307692</td>\n",
       "      <td>0.095769</td>\n",
       "      <td>1.0</td>\n",
       "      <td>2020_2-Projeto-Kokama-Traducao</td>\n",
       "      <td>2021-05-24</td>\n",
       "      <td>0.354486</td>\n",
       "      <td>0.354486</td>\n",
       "      <td>0.354486</td>\n",
       "    </tr>\n",
       "    <tr>\n",
       "      <th>10</th>\n",
       "      <td>0.500000</td>\n",
       "      <td>0.000000</td>\n",
       "      <td>1.0</td>\n",
       "      <td>2020_2-Projeto-Kokama-Front-end</td>\n",
       "      <td>2021-03-23</td>\n",
       "      <td>0.377225</td>\n",
       "      <td>0.377225</td>\n",
       "      <td>0.377225</td>\n",
       "    </tr>\n",
       "    <tr>\n",
       "      <th>11</th>\n",
       "      <td>0.545455</td>\n",
       "      <td>0.045227</td>\n",
       "      <td>1.0</td>\n",
       "      <td>2020_2-Projeto-Kokama-Front-end</td>\n",
       "      <td>2021-04-05</td>\n",
       "      <td>0.384631</td>\n",
       "      <td>0.384631</td>\n",
       "      <td>0.384631</td>\n",
       "    </tr>\n",
       "    <tr>\n",
       "      <th>12</th>\n",
       "      <td>0.515152</td>\n",
       "      <td>0.030152</td>\n",
       "      <td>1.0</td>\n",
       "      <td>2020_2-Projeto-Kokama-Front-end</td>\n",
       "      <td>2021-05-11</td>\n",
       "      <td>0.379675</td>\n",
       "      <td>0.379675</td>\n",
       "      <td>0.379675</td>\n",
       "    </tr>\n",
       "    <tr>\n",
       "      <th>13</th>\n",
       "      <td>0.515152</td>\n",
       "      <td>0.000000</td>\n",
       "      <td>1.0</td>\n",
       "      <td>2020_2-Projeto-Kokama-Front-end</td>\n",
       "      <td>2021-05-15</td>\n",
       "      <td>0.379538</td>\n",
       "      <td>0.379538</td>\n",
       "      <td>0.379538</td>\n",
       "    </tr>\n",
       "    <tr>\n",
       "      <th>14</th>\n",
       "      <td>0.529412</td>\n",
       "      <td>0.000000</td>\n",
       "      <td>1.0</td>\n",
       "      <td>2020_2-Projeto-Kokama-Front-end</td>\n",
       "      <td>2021-05-17</td>\n",
       "      <td>0.381766</td>\n",
       "      <td>0.381766</td>\n",
       "      <td>0.381766</td>\n",
       "    </tr>\n",
       "    <tr>\n",
       "      <th>15</th>\n",
       "      <td>0.558824</td>\n",
       "      <td>0.000000</td>\n",
       "      <td>1.0</td>\n",
       "      <td>2020_2-Projeto-Kokama-Front-end</td>\n",
       "      <td>2021-05-22</td>\n",
       "      <td>0.386508</td>\n",
       "      <td>0.386508</td>\n",
       "      <td>0.386508</td>\n",
       "    </tr>\n",
       "    <tr>\n",
       "      <th>16</th>\n",
       "      <td>0.642857</td>\n",
       "      <td>0.000000</td>\n",
       "      <td>1.0</td>\n",
       "      <td>2020_2-Projeto-Kokama-Front-end</td>\n",
       "      <td>2021-05-24</td>\n",
       "      <td>0.401104</td>\n",
       "      <td>0.401104</td>\n",
       "      <td>0.401104</td>\n",
       "    </tr>\n",
       "    <tr>\n",
       "      <th>17</th>\n",
       "      <td>0.230769</td>\n",
       "      <td>0.046346</td>\n",
       "      <td>1.0</td>\n",
       "      <td>2020_2-Projeto-Kokama-Ensino</td>\n",
       "      <td>2021-04-14</td>\n",
       "      <td>0.346620</td>\n",
       "      <td>0.346620</td>\n",
       "      <td>0.346620</td>\n",
       "    </tr>\n",
       "    <tr>\n",
       "      <th>18</th>\n",
       "      <td>0.318182</td>\n",
       "      <td>0.049773</td>\n",
       "      <td>1.0</td>\n",
       "      <td>2020_2-Projeto-Kokama-Ensino</td>\n",
       "      <td>2021-05-14</td>\n",
       "      <td>0.354465</td>\n",
       "      <td>0.354465</td>\n",
       "      <td>0.354465</td>\n",
       "    </tr>\n",
       "    <tr>\n",
       "      <th>19</th>\n",
       "      <td>0.318182</td>\n",
       "      <td>0.049773</td>\n",
       "      <td>1.0</td>\n",
       "      <td>2020_2-Projeto-Kokama-Ensino</td>\n",
       "      <td>2021-05-15</td>\n",
       "      <td>0.354465</td>\n",
       "      <td>0.354465</td>\n",
       "      <td>0.354465</td>\n",
       "    </tr>\n",
       "    <tr>\n",
       "      <th>20</th>\n",
       "      <td>0.350000</td>\n",
       "      <td>0.054750</td>\n",
       "      <td>1.0</td>\n",
       "      <td>2020_2-Projeto-Kokama-Ensino</td>\n",
       "      <td>2021-05-24</td>\n",
       "      <td>0.357946</td>\n",
       "      <td>0.357946</td>\n",
       "      <td>0.357946</td>\n",
       "    </tr>\n",
       "  </tbody>\n",
       "</table>\n",
       "</div>"
      ],
      "text/plain": [
       "         em1       em2  em3                       repository    version  \\\n",
       "0   0.000000  0.000000  1.0    2020_2-Projeto-Kokama-Usuario 2021-04-17   \n",
       "1   0.200000  0.043800  1.0    2020_2-Projeto-Kokama-Usuario 2021-05-14   \n",
       "2   0.200000  0.043800  1.0    2020_2-Projeto-Kokama-Usuario 2021-05-15   \n",
       "3   0.304348  0.088043  1.0    2020_2-Projeto-Kokama-Usuario 2021-05-16   \n",
       "4   0.333333  0.122917  1.0    2020_2-Projeto-Kokama-Usuario 2021-05-24   \n",
       "5   0.173913  0.042826  1.0   2020_2-Projeto-Kokama-Traducao 2021-03-23   \n",
       "6   0.190476  0.058095  1.0   2020_2-Projeto-Kokama-Traducao 2021-04-05   \n",
       "7   0.285714  0.088929  1.0   2020_2-Projeto-Kokama-Traducao 2021-04-06   \n",
       "8   0.285714  0.088929  1.0   2020_2-Projeto-Kokama-Traducao 2021-05-14   \n",
       "9   0.307692  0.095769  1.0   2020_2-Projeto-Kokama-Traducao 2021-05-24   \n",
       "10  0.500000  0.000000  1.0  2020_2-Projeto-Kokama-Front-end 2021-03-23   \n",
       "11  0.545455  0.045227  1.0  2020_2-Projeto-Kokama-Front-end 2021-04-05   \n",
       "12  0.515152  0.030152  1.0  2020_2-Projeto-Kokama-Front-end 2021-05-11   \n",
       "13  0.515152  0.000000  1.0  2020_2-Projeto-Kokama-Front-end 2021-05-15   \n",
       "14  0.529412  0.000000  1.0  2020_2-Projeto-Kokama-Front-end 2021-05-17   \n",
       "15  0.558824  0.000000  1.0  2020_2-Projeto-Kokama-Front-end 2021-05-22   \n",
       "16  0.642857  0.000000  1.0  2020_2-Projeto-Kokama-Front-end 2021-05-24   \n",
       "17  0.230769  0.046346  1.0     2020_2-Projeto-Kokama-Ensino 2021-04-14   \n",
       "18  0.318182  0.049773  1.0     2020_2-Projeto-Kokama-Ensino 2021-05-14   \n",
       "19  0.318182  0.049773  1.0     2020_2-Projeto-Kokama-Ensino 2021-05-15   \n",
       "20  0.350000  0.054750  1.0     2020_2-Projeto-Kokama-Ensino 2021-05-24   \n",
       "\n",
       "    Modifiability  Maintainability       SQC  \n",
       "0        0.337400         0.337400  0.337400  \n",
       "1        0.344399         0.344399  0.344399  \n",
       "2        0.344399         0.344399  0.344399  \n",
       "3        0.353929         0.353929  0.353929  \n",
       "4        0.358061         0.358061  0.358061  \n",
       "5        0.342769         0.342769  0.342769  \n",
       "6        0.344025         0.344025  0.344025  \n",
       "7        0.352182         0.352182  0.352182  \n",
       "8        0.352182         0.352182  0.352182  \n",
       "9        0.354486         0.354486  0.354486  \n",
       "10       0.377225         0.377225  0.377225  \n",
       "11       0.384631         0.384631  0.384631  \n",
       "12       0.379675         0.379675  0.379675  \n",
       "13       0.379538         0.379538  0.379538  \n",
       "14       0.381766         0.381766  0.381766  \n",
       "15       0.386508         0.386508  0.386508  \n",
       "16       0.401104         0.401104  0.401104  \n",
       "17       0.346620         0.346620  0.346620  \n",
       "18       0.354465         0.354465  0.354465  \n",
       "19       0.354465         0.354465  0.354465  \n",
       "20       0.357946         0.357946  0.357946  "
      ]
     },
     "execution_count": 358,
     "metadata": {},
     "output_type": "execute_result"
    }
   ],
   "source": [
    "metrics_df = pd.concat([repository_metrics[\"2020_2-Projeto-Kokama-Usuario\"], repository_metrics[\"2020_2-Projeto-Kokama-Traducao\"], repository_metrics[\"2020_2-Projeto-Kokama-Front-end\"],\n",
    "                        repository_metrics[\"2020_2-Projeto-Kokama-Ensino\"]], ignore_index=True)\n",
    "\n",
    "metrics_df"
   ]
  },
  {
   "cell_type": "markdown",
   "metadata": {},
   "source": [
    "# Generating dataset in .CSV format"
   ]
  },
  {
   "cell_type": "code",
   "execution_count": 359,
   "metadata": {
    "pycharm": {
     "name": "#%%\n"
    }
   },
   "outputs": [],
   "source": [
    "metrics_df.to_excel('data/fga-eps-mds-2020-2-data/kokama/measuresoftgram-kokama-dataset-23-03-2021-24-05-2021-excel.xlsx', header=False, index = False)\n",
    "metrics_df.to_csv('data/fga-eps-mds-2020-2-data/kokama/measuresoftgram-kokama-dataset-23-03-2021-24-05-2021-csv.csv', header=False, index = False)\n",
    "#metrics_df.to_json('data/metrics_df_json.json', index = False)\n"
   ]
  },
  {
   "cell_type": "markdown",
   "metadata": {},
   "source": [
    "# Reading MeasureSoftGram and Q-Rapids dataset .CSV"
   ]
  },
  {
   "cell_type": "code",
   "execution_count": 360,
   "metadata": {
    "pycharm": {
     "name": "#%%\n"
    }
   },
   "outputs": [
    {
     "data": {
      "text/html": [
       "<div>\n",
       "<style scoped>\n",
       "    .dataframe tbody tr th:only-of-type {\n",
       "        vertical-align: middle;\n",
       "    }\n",
       "\n",
       "    .dataframe tbody tr th {\n",
       "        vertical-align: top;\n",
       "    }\n",
       "\n",
       "    .dataframe thead th {\n",
       "        text-align: right;\n",
       "    }\n",
       "</style>\n",
       "<table border=\"1\" class=\"dataframe\">\n",
       "  <thead>\n",
       "    <tr style=\"text-align: right;\">\n",
       "      <th></th>\n",
       "      <th>m1</th>\n",
       "      <th>m2</th>\n",
       "      <th>m3</th>\n",
       "      <th>repository</th>\n",
       "      <th>version</th>\n",
       "      <th>asc1</th>\n",
       "      <th>ac1</th>\n",
       "      <th>total</th>\n",
       "    </tr>\n",
       "  </thead>\n",
       "  <tbody>\n",
       "    <tr>\n",
       "      <th>0</th>\n",
       "      <td>0.0</td>\n",
       "      <td>0.0</td>\n",
       "      <td>1.0</td>\n",
       "      <td>2020_2-Projeto-Kokama-Usuario</td>\n",
       "      <td>2021-04-17</td>\n",
       "      <td>0.33</td>\n",
       "      <td>0.33</td>\n",
       "      <td>0.33</td>\n",
       "    </tr>\n",
       "    <tr>\n",
       "      <th>1</th>\n",
       "      <td>0.2</td>\n",
       "      <td>0.08</td>\n",
       "      <td>1.0</td>\n",
       "      <td>2020_2-Projeto-Kokama-Usuario</td>\n",
       "      <td>2021-05-14</td>\n",
       "      <td>0.4224</td>\n",
       "      <td>0.4224</td>\n",
       "      <td>0.4224</td>\n",
       "    </tr>\n",
       "    <tr>\n",
       "      <th>2</th>\n",
       "      <td>0.2</td>\n",
       "      <td>0.08</td>\n",
       "      <td>1.0</td>\n",
       "      <td>2020_2-Projeto-Kokama-Usuario</td>\n",
       "      <td>2021-05-15</td>\n",
       "      <td>0.4224</td>\n",
       "      <td>0.4224</td>\n",
       "      <td>0.4224</td>\n",
       "    </tr>\n",
       "    <tr>\n",
       "      <th>3</th>\n",
       "      <td>0.30434782608695654</td>\n",
       "      <td>0.13043478260869565</td>\n",
       "      <td>1.0</td>\n",
       "      <td>2020_2-Projeto-Kokama-Usuario</td>\n",
       "      <td>2021-05-16</td>\n",
       "      <td>0.47347826086956524</td>\n",
       "      <td>0.47347826086956524</td>\n",
       "      <td>0.47347826086956524</td>\n",
       "    </tr>\n",
       "    <tr>\n",
       "      <th>4</th>\n",
       "      <td>0.3333333333333333</td>\n",
       "      <td>0.16666666666666666</td>\n",
       "      <td>1.0</td>\n",
       "      <td>2020_2-Projeto-Kokama-Usuario</td>\n",
       "      <td>2021-05-24</td>\n",
       "      <td>0.495</td>\n",
       "      <td>0.495</td>\n",
       "      <td>0.495</td>\n",
       "    </tr>\n",
       "    <tr>\n",
       "      <th>5</th>\n",
       "      <td>0.5</td>\n",
       "      <td>0.0</td>\n",
       "      <td>1.0</td>\n",
       "      <td>2020_2-Projeto-Kokama-Front-end</td>\n",
       "      <td>2021-03-23</td>\n",
       "      <td>0.495</td>\n",
       "      <td>0.495</td>\n",
       "      <td>0.495</td>\n",
       "    </tr>\n",
       "    <tr>\n",
       "      <th>6</th>\n",
       "      <td>0.5454545454545454</td>\n",
       "      <td>0.045454545454545456</td>\n",
       "      <td>1.0</td>\n",
       "      <td>2020_2-Projeto-Kokama-Front-end</td>\n",
       "      <td>2021-04-05</td>\n",
       "      <td>0.525</td>\n",
       "      <td>0.525</td>\n",
       "      <td>0.525</td>\n",
       "    </tr>\n",
       "    <tr>\n",
       "      <th>7</th>\n",
       "      <td>0.5151515151515151</td>\n",
       "      <td>0.030303030303030304</td>\n",
       "      <td>1.0</td>\n",
       "      <td>2020_2-Projeto-Kokama-Front-end</td>\n",
       "      <td>2021-05-11</td>\n",
       "      <td>0.51</td>\n",
       "      <td>0.51</td>\n",
       "      <td>0.51</td>\n",
       "    </tr>\n",
       "    <tr>\n",
       "      <th>8</th>\n",
       "      <td>0.5151515151515151</td>\n",
       "      <td>0.0</td>\n",
       "      <td>1.0</td>\n",
       "      <td>2020_2-Projeto-Kokama-Front-end</td>\n",
       "      <td>2021-05-15</td>\n",
       "      <td>0.5</td>\n",
       "      <td>0.5</td>\n",
       "      <td>0.5</td>\n",
       "    </tr>\n",
       "    <tr>\n",
       "      <th>9</th>\n",
       "      <td>0.5294117647058824</td>\n",
       "      <td>0.0</td>\n",
       "      <td>1.0</td>\n",
       "      <td>2020_2-Projeto-Kokama-Front-end</td>\n",
       "      <td>2021-05-17</td>\n",
       "      <td>0.5047058823529412</td>\n",
       "      <td>0.5047058823529412</td>\n",
       "      <td>0.5047058823529412</td>\n",
       "    </tr>\n",
       "    <tr>\n",
       "      <th>10</th>\n",
       "      <td>0.5294117647058824</td>\n",
       "      <td>0.0</td>\n",
       "      <td>1.0</td>\n",
       "      <td>2020_2-Projeto-Kokama-Front-end</td>\n",
       "      <td>2021-05-22</td>\n",
       "      <td>0.5047058823529412</td>\n",
       "      <td>0.5047058823529412</td>\n",
       "      <td>0.5047058823529412</td>\n",
       "    </tr>\n",
       "    <tr>\n",
       "      <th>11</th>\n",
       "      <td>0.6190476190476191</td>\n",
       "      <td>0.0</td>\n",
       "      <td>1.0</td>\n",
       "      <td>2020_2-Projeto-Kokama-Front-end</td>\n",
       "      <td>2021-05-24</td>\n",
       "      <td>0.5342857142857143</td>\n",
       "      <td>0.5342857142857143</td>\n",
       "      <td>0.5342857142857143</td>\n",
       "    </tr>\n",
       "    <tr>\n",
       "      <th>12</th>\n",
       "      <td>0.23076923076923078</td>\n",
       "      <td>0.07692307692307693</td>\n",
       "      <td>1.0</td>\n",
       "      <td>2020_2-Projeto-Kokama-Ensino</td>\n",
       "      <td>2021-04-14</td>\n",
       "      <td>0.43153846153846154</td>\n",
       "      <td>0.43153846153846154</td>\n",
       "      <td>0.43153846153846154</td>\n",
       "    </tr>\n",
       "    <tr>\n",
       "      <th>13</th>\n",
       "      <td>0.3181818181818182</td>\n",
       "      <td>0.09090909090909091</td>\n",
       "      <td>1.0</td>\n",
       "      <td>2020_2-Projeto-Kokama-Ensino</td>\n",
       "      <td>2021-05-14</td>\n",
       "      <td>0.465</td>\n",
       "      <td>0.465</td>\n",
       "      <td>0.465</td>\n",
       "    </tr>\n",
       "    <tr>\n",
       "      <th>14</th>\n",
       "      <td>0.3181818181818182</td>\n",
       "      <td>0.09090909090909091</td>\n",
       "      <td>1.0</td>\n",
       "      <td>2020_2-Projeto-Kokama-Ensino</td>\n",
       "      <td>2021-05-15</td>\n",
       "      <td>0.465</td>\n",
       "      <td>0.465</td>\n",
       "      <td>0.465</td>\n",
       "    </tr>\n",
       "    <tr>\n",
       "      <th>15</th>\n",
       "      <td>0.35</td>\n",
       "      <td>0.1</td>\n",
       "      <td>1.0</td>\n",
       "      <td>2020_2-Projeto-Kokama-Ensino</td>\n",
       "      <td>2021-05-24</td>\n",
       "      <td>0.47850000000000004</td>\n",
       "      <td>0.47850000000000004</td>\n",
       "      <td>0.47850000000000004</td>\n",
       "    </tr>\n",
       "    <tr>\n",
       "      <th>16</th>\n",
       "      <td>0.17391304347826086</td>\n",
       "      <td>0.08695652173913043</td>\n",
       "      <td>1.0</td>\n",
       "      <td>2020_2-Projeto-Kokama-Traducao</td>\n",
       "      <td>2021-03-23</td>\n",
       "      <td>0.41608695652173916</td>\n",
       "      <td>0.41608695652173916</td>\n",
       "      <td>0.41608695652173916</td>\n",
       "    </tr>\n",
       "    <tr>\n",
       "      <th>17</th>\n",
       "      <td>0.19047619047619047</td>\n",
       "      <td>0.09523809523809523</td>\n",
       "      <td>1.0</td>\n",
       "      <td>2020_2-Projeto-Kokama-Traducao</td>\n",
       "      <td>2021-04-05</td>\n",
       "      <td>0.4242857142857143</td>\n",
       "      <td>0.4242857142857143</td>\n",
       "      <td>0.4242857142857143</td>\n",
       "    </tr>\n",
       "    <tr>\n",
       "      <th>18</th>\n",
       "      <td>0.2857142857142857</td>\n",
       "      <td>0.14285714285714285</td>\n",
       "      <td>1.0</td>\n",
       "      <td>2020_2-Projeto-Kokama-Traducao</td>\n",
       "      <td>2021-04-06</td>\n",
       "      <td>0.4714285714285714</td>\n",
       "      <td>0.4714285714285714</td>\n",
       "      <td>0.4714285714285714</td>\n",
       "    </tr>\n",
       "    <tr>\n",
       "      <th>19</th>\n",
       "      <td>0.2857142857142857</td>\n",
       "      <td>0.14285714285714285</td>\n",
       "      <td>1.0</td>\n",
       "      <td>2020_2-Projeto-Kokama-Traducao</td>\n",
       "      <td>2021-05-14</td>\n",
       "      <td>0.4714285714285714</td>\n",
       "      <td>0.4714285714285714</td>\n",
       "      <td>0.4714285714285714</td>\n",
       "    </tr>\n",
       "    <tr>\n",
       "      <th>20</th>\n",
       "      <td>0.3076923076923077</td>\n",
       "      <td>0.15384615384615385</td>\n",
       "      <td>1.0</td>\n",
       "      <td>2020_2-Projeto-Kokama-Traducao</td>\n",
       "      <td>2021-05-24</td>\n",
       "      <td>0.4823076923076923</td>\n",
       "      <td>0.4823076923076923</td>\n",
       "      <td>0.4823076923076923</td>\n",
       "    </tr>\n",
       "  </tbody>\n",
       "</table>\n",
       "</div>"
      ],
      "text/plain": [
       "                     m1                    m2   m3  \\\n",
       "0                   0.0                   0.0  1.0   \n",
       "1                   0.2                  0.08  1.0   \n",
       "2                   0.2                  0.08  1.0   \n",
       "3   0.30434782608695654   0.13043478260869565  1.0   \n",
       "4    0.3333333333333333   0.16666666666666666  1.0   \n",
       "5                   0.5                   0.0  1.0   \n",
       "6    0.5454545454545454  0.045454545454545456  1.0   \n",
       "7    0.5151515151515151  0.030303030303030304  1.0   \n",
       "8    0.5151515151515151                   0.0  1.0   \n",
       "9    0.5294117647058824                   0.0  1.0   \n",
       "10   0.5294117647058824                   0.0  1.0   \n",
       "11   0.6190476190476191                   0.0  1.0   \n",
       "12  0.23076923076923078   0.07692307692307693  1.0   \n",
       "13   0.3181818181818182   0.09090909090909091  1.0   \n",
       "14   0.3181818181818182   0.09090909090909091  1.0   \n",
       "15                 0.35                   0.1  1.0   \n",
       "16  0.17391304347826086   0.08695652173913043  1.0   \n",
       "17  0.19047619047619047   0.09523809523809523  1.0   \n",
       "18   0.2857142857142857   0.14285714285714285  1.0   \n",
       "19   0.2857142857142857   0.14285714285714285  1.0   \n",
       "20   0.3076923076923077   0.15384615384615385  1.0   \n",
       "\n",
       "                         repository     version                 asc1  \\\n",
       "0     2020_2-Projeto-Kokama-Usuario  2021-04-17                 0.33   \n",
       "1     2020_2-Projeto-Kokama-Usuario  2021-05-14               0.4224   \n",
       "2     2020_2-Projeto-Kokama-Usuario  2021-05-15               0.4224   \n",
       "3     2020_2-Projeto-Kokama-Usuario  2021-05-16  0.47347826086956524   \n",
       "4     2020_2-Projeto-Kokama-Usuario  2021-05-24                0.495   \n",
       "5   2020_2-Projeto-Kokama-Front-end  2021-03-23                0.495   \n",
       "6   2020_2-Projeto-Kokama-Front-end  2021-04-05                0.525   \n",
       "7   2020_2-Projeto-Kokama-Front-end  2021-05-11                 0.51   \n",
       "8   2020_2-Projeto-Kokama-Front-end  2021-05-15                  0.5   \n",
       "9   2020_2-Projeto-Kokama-Front-end  2021-05-17   0.5047058823529412   \n",
       "10  2020_2-Projeto-Kokama-Front-end  2021-05-22   0.5047058823529412   \n",
       "11  2020_2-Projeto-Kokama-Front-end  2021-05-24   0.5342857142857143   \n",
       "12     2020_2-Projeto-Kokama-Ensino  2021-04-14  0.43153846153846154   \n",
       "13     2020_2-Projeto-Kokama-Ensino  2021-05-14                0.465   \n",
       "14     2020_2-Projeto-Kokama-Ensino  2021-05-15                0.465   \n",
       "15     2020_2-Projeto-Kokama-Ensino  2021-05-24  0.47850000000000004   \n",
       "16   2020_2-Projeto-Kokama-Traducao  2021-03-23  0.41608695652173916   \n",
       "17   2020_2-Projeto-Kokama-Traducao  2021-04-05   0.4242857142857143   \n",
       "18   2020_2-Projeto-Kokama-Traducao  2021-04-06   0.4714285714285714   \n",
       "19   2020_2-Projeto-Kokama-Traducao  2021-05-14   0.4714285714285714   \n",
       "20   2020_2-Projeto-Kokama-Traducao  2021-05-24   0.4823076923076923   \n",
       "\n",
       "                    ac1                total  \n",
       "0                  0.33                 0.33  \n",
       "1                0.4224               0.4224  \n",
       "2                0.4224               0.4224  \n",
       "3   0.47347826086956524  0.47347826086956524  \n",
       "4                 0.495                0.495  \n",
       "5                 0.495                0.495  \n",
       "6                 0.525                0.525  \n",
       "7                  0.51                 0.51  \n",
       "8                   0.5                  0.5  \n",
       "9    0.5047058823529412   0.5047058823529412  \n",
       "10   0.5047058823529412   0.5047058823529412  \n",
       "11   0.5342857142857143   0.5342857142857143  \n",
       "12  0.43153846153846154  0.43153846153846154  \n",
       "13                0.465                0.465  \n",
       "14                0.465                0.465  \n",
       "15  0.47850000000000004  0.47850000000000004  \n",
       "16  0.41608695652173916  0.41608695652173916  \n",
       "17   0.4242857142857143   0.4242857142857143  \n",
       "18   0.4714285714285714   0.4714285714285714  \n",
       "19   0.4714285714285714   0.4714285714285714  \n",
       "20   0.4823076923076923   0.4823076923076923  "
      ]
     },
     "execution_count": 360,
     "metadata": {},
     "output_type": "execute_result"
    }
   ],
   "source": [
    "qrapids_df = pd.read_csv('data/fga-eps-mds-2020-2-data/kokama/qrapids-kokama-dataset-23-03-2021-24-05-2021-csv.csv', sep=',', header=None,\n",
    "                              names=['m1', 'm2', 'm3', 'repository', 'version', 'asc1', 'ac1','total'], dtype='a')\n",
    "\n",
    "qrapids_df"
   ]
  },
  {
   "cell_type": "code",
   "execution_count": 361,
   "metadata": {
    "pycharm": {
     "name": "#%%\n"
    }
   },
   "outputs": [
    {
     "data": {
      "text/html": [
       "<div>\n",
       "<style scoped>\n",
       "    .dataframe tbody tr th:only-of-type {\n",
       "        vertical-align: middle;\n",
       "    }\n",
       "\n",
       "    .dataframe tbody tr th {\n",
       "        vertical-align: top;\n",
       "    }\n",
       "\n",
       "    .dataframe thead th {\n",
       "        text-align: right;\n",
       "    }\n",
       "</style>\n",
       "<table border=\"1\" class=\"dataframe\">\n",
       "  <thead>\n",
       "    <tr style=\"text-align: right;\">\n",
       "      <th></th>\n",
       "      <th>em1</th>\n",
       "      <th>em2</th>\n",
       "      <th>em3</th>\n",
       "      <th>repository</th>\n",
       "      <th>version</th>\n",
       "      <th>Modifiability</th>\n",
       "      <th>Maintainability</th>\n",
       "      <th>SQC</th>\n",
       "    </tr>\n",
       "  </thead>\n",
       "  <tbody>\n",
       "    <tr>\n",
       "      <th>0</th>\n",
       "      <td>0.0</td>\n",
       "      <td>0.0</td>\n",
       "      <td>1.0</td>\n",
       "      <td>2020_2-Projeto-Kokama-Usuario</td>\n",
       "      <td>2021-04-17</td>\n",
       "      <td>0.3374</td>\n",
       "      <td>0.3374</td>\n",
       "      <td>0.3374</td>\n",
       "    </tr>\n",
       "    <tr>\n",
       "      <th>1</th>\n",
       "      <td>0.2</td>\n",
       "      <td>0.043800000000000006</td>\n",
       "      <td>1.0</td>\n",
       "      <td>2020_2-Projeto-Kokama-Usuario</td>\n",
       "      <td>2021-05-14</td>\n",
       "      <td>0.3443990465009077</td>\n",
       "      <td>0.3443990465009077</td>\n",
       "      <td>0.3443990465009077</td>\n",
       "    </tr>\n",
       "    <tr>\n",
       "      <th>2</th>\n",
       "      <td>0.2</td>\n",
       "      <td>0.043800000000000006</td>\n",
       "      <td>1.0</td>\n",
       "      <td>2020_2-Projeto-Kokama-Usuario</td>\n",
       "      <td>2021-05-15</td>\n",
       "      <td>0.3443990465009077</td>\n",
       "      <td>0.3443990465009077</td>\n",
       "      <td>0.3443990465009077</td>\n",
       "    </tr>\n",
       "    <tr>\n",
       "      <th>3</th>\n",
       "      <td>0.30434782608695654</td>\n",
       "      <td>0.08804347826086958</td>\n",
       "      <td>1.0</td>\n",
       "      <td>2020_2-Projeto-Kokama-Usuario</td>\n",
       "      <td>2021-05-16</td>\n",
       "      <td>0.3539291026834657</td>\n",
       "      <td>0.3539291026834657</td>\n",
       "      <td>0.3539291026834657</td>\n",
       "    </tr>\n",
       "    <tr>\n",
       "      <th>4</th>\n",
       "      <td>0.3333333333333333</td>\n",
       "      <td>0.12291666666666667</td>\n",
       "      <td>1.0</td>\n",
       "      <td>2020_2-Projeto-Kokama-Usuario</td>\n",
       "      <td>2021-05-24</td>\n",
       "      <td>0.35806067196373026</td>\n",
       "      <td>0.35806067196373026</td>\n",
       "      <td>0.35806067196373026</td>\n",
       "    </tr>\n",
       "    <tr>\n",
       "      <th>5</th>\n",
       "      <td>0.17391304347826086</td>\n",
       "      <td>0.04282608695652174</td>\n",
       "      <td>1.0</td>\n",
       "      <td>2020_2-Projeto-Kokama-Traducao</td>\n",
       "      <td>2021-03-23</td>\n",
       "      <td>0.34276914531090213</td>\n",
       "      <td>0.34276914531090213</td>\n",
       "      <td>0.34276914531090213</td>\n",
       "    </tr>\n",
       "    <tr>\n",
       "      <th>6</th>\n",
       "      <td>0.19047619047619047</td>\n",
       "      <td>0.058095238095238096</td>\n",
       "      <td>1.0</td>\n",
       "      <td>2020_2-Projeto-Kokama-Traducao</td>\n",
       "      <td>2021-04-05</td>\n",
       "      <td>0.34402496524654846</td>\n",
       "      <td>0.34402496524654846</td>\n",
       "      <td>0.34402496524654846</td>\n",
       "    </tr>\n",
       "    <tr>\n",
       "      <th>7</th>\n",
       "      <td>0.2857142857142857</td>\n",
       "      <td>0.08892857142857144</td>\n",
       "      <td>1.0</td>\n",
       "      <td>2020_2-Projeto-Kokama-Traducao</td>\n",
       "      <td>2021-04-06</td>\n",
       "      <td>0.35218175708041716</td>\n",
       "      <td>0.35218175708041716</td>\n",
       "      <td>0.35218175708041716</td>\n",
       "    </tr>\n",
       "    <tr>\n",
       "      <th>8</th>\n",
       "      <td>0.2857142857142857</td>\n",
       "      <td>0.08892857142857144</td>\n",
       "      <td>1.0</td>\n",
       "      <td>2020_2-Projeto-Kokama-Traducao</td>\n",
       "      <td>2021-05-14</td>\n",
       "      <td>0.35218175708041716</td>\n",
       "      <td>0.35218175708041716</td>\n",
       "      <td>0.35218175708041716</td>\n",
       "    </tr>\n",
       "    <tr>\n",
       "      <th>9</th>\n",
       "      <td>0.3076923076923077</td>\n",
       "      <td>0.09576923076923077</td>\n",
       "      <td>1.0</td>\n",
       "      <td>2020_2-Projeto-Kokama-Traducao</td>\n",
       "      <td>2021-05-24</td>\n",
       "      <td>0.3544862398241554</td>\n",
       "      <td>0.3544862398241554</td>\n",
       "      <td>0.3544862398241554</td>\n",
       "    </tr>\n",
       "    <tr>\n",
       "      <th>10</th>\n",
       "      <td>0.5</td>\n",
       "      <td>0.0</td>\n",
       "      <td>1.0</td>\n",
       "      <td>2020_2-Projeto-Kokama-Front-end</td>\n",
       "      <td>2021-03-23</td>\n",
       "      <td>0.3772246678042145</td>\n",
       "      <td>0.3772246678042145</td>\n",
       "      <td>0.3772246678042145</td>\n",
       "    </tr>\n",
       "    <tr>\n",
       "      <th>11</th>\n",
       "      <td>0.5454545454545454</td>\n",
       "      <td>0.045227272727272734</td>\n",
       "      <td>1.0</td>\n",
       "      <td>2020_2-Projeto-Kokama-Front-end</td>\n",
       "      <td>2021-04-05</td>\n",
       "      <td>0.38463099332956513</td>\n",
       "      <td>0.38463099332956513</td>\n",
       "      <td>0.38463099332956513</td>\n",
       "    </tr>\n",
       "    <tr>\n",
       "      <th>12</th>\n",
       "      <td>0.5151515151515151</td>\n",
       "      <td>0.030151515151515155</td>\n",
       "      <td>1.0</td>\n",
       "      <td>2020_2-Projeto-Kokama-Front-end</td>\n",
       "      <td>2021-05-11</td>\n",
       "      <td>0.3796747369465785</td>\n",
       "      <td>0.3796747369465785</td>\n",
       "      <td>0.3796747369465785</td>\n",
       "    </tr>\n",
       "    <tr>\n",
       "      <th>13</th>\n",
       "      <td>0.5151515151515151</td>\n",
       "      <td>0.0</td>\n",
       "      <td>1.0</td>\n",
       "      <td>2020_2-Projeto-Kokama-Front-end</td>\n",
       "      <td>2021-05-15</td>\n",
       "      <td>0.3795384216126967</td>\n",
       "      <td>0.3795384216126967</td>\n",
       "      <td>0.3795384216126967</td>\n",
       "    </tr>\n",
       "    <tr>\n",
       "      <th>14</th>\n",
       "      <td>0.5294117647058824</td>\n",
       "      <td>0.0</td>\n",
       "      <td>1.0</td>\n",
       "      <td>2020_2-Projeto-Kokama-Front-end</td>\n",
       "      <td>2021-05-17</td>\n",
       "      <td>0.38176579896517127</td>\n",
       "      <td>0.38176579896517127</td>\n",
       "      <td>0.38176579896517127</td>\n",
       "    </tr>\n",
       "    <tr>\n",
       "      <th>15</th>\n",
       "      <td>0.5588235294117647</td>\n",
       "      <td>0.0</td>\n",
       "      <td>1.0</td>\n",
       "      <td>2020_2-Projeto-Kokama-Front-end</td>\n",
       "      <td>2021-05-22</td>\n",
       "      <td>0.38650841309213885</td>\n",
       "      <td>0.38650841309213885</td>\n",
       "      <td>0.38650841309213885</td>\n",
       "    </tr>\n",
       "    <tr>\n",
       "      <th>16</th>\n",
       "      <td>0.6428571428571429</td>\n",
       "      <td>0.0</td>\n",
       "      <td>1.0</td>\n",
       "      <td>2020_2-Projeto-Kokama-Front-end</td>\n",
       "      <td>2021-05-24</td>\n",
       "      <td>0.401103939147947</td>\n",
       "      <td>0.401103939147947</td>\n",
       "      <td>0.401103939147947</td>\n",
       "    </tr>\n",
       "    <tr>\n",
       "      <th>17</th>\n",
       "      <td>0.23076923076923078</td>\n",
       "      <td>0.04634615384615385</td>\n",
       "      <td>1.0</td>\n",
       "      <td>2020_2-Projeto-Kokama-Ensino</td>\n",
       "      <td>2021-04-14</td>\n",
       "      <td>0.3466203989306823</td>\n",
       "      <td>0.3466203989306823</td>\n",
       "      <td>0.3466203989306823</td>\n",
       "    </tr>\n",
       "    <tr>\n",
       "      <th>18</th>\n",
       "      <td>0.3181818181818182</td>\n",
       "      <td>0.04977272727272728</td>\n",
       "      <td>1.0</td>\n",
       "      <td>2020_2-Projeto-Kokama-Ensino</td>\n",
       "      <td>2021-05-14</td>\n",
       "      <td>0.35446547640822207</td>\n",
       "      <td>0.35446547640822207</td>\n",
       "      <td>0.35446547640822207</td>\n",
       "    </tr>\n",
       "    <tr>\n",
       "      <th>19</th>\n",
       "      <td>0.3181818181818182</td>\n",
       "      <td>0.04977272727272728</td>\n",
       "      <td>1.0</td>\n",
       "      <td>2020_2-Projeto-Kokama-Ensino</td>\n",
       "      <td>2021-05-15</td>\n",
       "      <td>0.35446547640822207</td>\n",
       "      <td>0.35446547640822207</td>\n",
       "      <td>0.35446547640822207</td>\n",
       "    </tr>\n",
       "    <tr>\n",
       "      <th>20</th>\n",
       "      <td>0.35</td>\n",
       "      <td>0.05475000000000001</td>\n",
       "      <td>1.0</td>\n",
       "      <td>2020_2-Projeto-Kokama-Ensino</td>\n",
       "      <td>2021-05-24</td>\n",
       "      <td>0.3579458714638604</td>\n",
       "      <td>0.3579458714638604</td>\n",
       "      <td>0.3579458714638604</td>\n",
       "    </tr>\n",
       "  </tbody>\n",
       "</table>\n",
       "</div>"
      ],
      "text/plain": [
       "                    em1                   em2  em3  \\\n",
       "0                   0.0                   0.0  1.0   \n",
       "1                   0.2  0.043800000000000006  1.0   \n",
       "2                   0.2  0.043800000000000006  1.0   \n",
       "3   0.30434782608695654   0.08804347826086958  1.0   \n",
       "4    0.3333333333333333   0.12291666666666667  1.0   \n",
       "5   0.17391304347826086   0.04282608695652174  1.0   \n",
       "6   0.19047619047619047  0.058095238095238096  1.0   \n",
       "7    0.2857142857142857   0.08892857142857144  1.0   \n",
       "8    0.2857142857142857   0.08892857142857144  1.0   \n",
       "9    0.3076923076923077   0.09576923076923077  1.0   \n",
       "10                  0.5                   0.0  1.0   \n",
       "11   0.5454545454545454  0.045227272727272734  1.0   \n",
       "12   0.5151515151515151  0.030151515151515155  1.0   \n",
       "13   0.5151515151515151                   0.0  1.0   \n",
       "14   0.5294117647058824                   0.0  1.0   \n",
       "15   0.5588235294117647                   0.0  1.0   \n",
       "16   0.6428571428571429                   0.0  1.0   \n",
       "17  0.23076923076923078   0.04634615384615385  1.0   \n",
       "18   0.3181818181818182   0.04977272727272728  1.0   \n",
       "19   0.3181818181818182   0.04977272727272728  1.0   \n",
       "20                 0.35   0.05475000000000001  1.0   \n",
       "\n",
       "                         repository     version        Modifiability  \\\n",
       "0     2020_2-Projeto-Kokama-Usuario  2021-04-17               0.3374   \n",
       "1     2020_2-Projeto-Kokama-Usuario  2021-05-14   0.3443990465009077   \n",
       "2     2020_2-Projeto-Kokama-Usuario  2021-05-15   0.3443990465009077   \n",
       "3     2020_2-Projeto-Kokama-Usuario  2021-05-16   0.3539291026834657   \n",
       "4     2020_2-Projeto-Kokama-Usuario  2021-05-24  0.35806067196373026   \n",
       "5    2020_2-Projeto-Kokama-Traducao  2021-03-23  0.34276914531090213   \n",
       "6    2020_2-Projeto-Kokama-Traducao  2021-04-05  0.34402496524654846   \n",
       "7    2020_2-Projeto-Kokama-Traducao  2021-04-06  0.35218175708041716   \n",
       "8    2020_2-Projeto-Kokama-Traducao  2021-05-14  0.35218175708041716   \n",
       "9    2020_2-Projeto-Kokama-Traducao  2021-05-24   0.3544862398241554   \n",
       "10  2020_2-Projeto-Kokama-Front-end  2021-03-23   0.3772246678042145   \n",
       "11  2020_2-Projeto-Kokama-Front-end  2021-04-05  0.38463099332956513   \n",
       "12  2020_2-Projeto-Kokama-Front-end  2021-05-11   0.3796747369465785   \n",
       "13  2020_2-Projeto-Kokama-Front-end  2021-05-15   0.3795384216126967   \n",
       "14  2020_2-Projeto-Kokama-Front-end  2021-05-17  0.38176579896517127   \n",
       "15  2020_2-Projeto-Kokama-Front-end  2021-05-22  0.38650841309213885   \n",
       "16  2020_2-Projeto-Kokama-Front-end  2021-05-24    0.401103939147947   \n",
       "17     2020_2-Projeto-Kokama-Ensino  2021-04-14   0.3466203989306823   \n",
       "18     2020_2-Projeto-Kokama-Ensino  2021-05-14  0.35446547640822207   \n",
       "19     2020_2-Projeto-Kokama-Ensino  2021-05-15  0.35446547640822207   \n",
       "20     2020_2-Projeto-Kokama-Ensino  2021-05-24   0.3579458714638604   \n",
       "\n",
       "        Maintainability                  SQC  \n",
       "0                0.3374               0.3374  \n",
       "1    0.3443990465009077   0.3443990465009077  \n",
       "2    0.3443990465009077   0.3443990465009077  \n",
       "3    0.3539291026834657   0.3539291026834657  \n",
       "4   0.35806067196373026  0.35806067196373026  \n",
       "5   0.34276914531090213  0.34276914531090213  \n",
       "6   0.34402496524654846  0.34402496524654846  \n",
       "7   0.35218175708041716  0.35218175708041716  \n",
       "8   0.35218175708041716  0.35218175708041716  \n",
       "9    0.3544862398241554   0.3544862398241554  \n",
       "10   0.3772246678042145   0.3772246678042145  \n",
       "11  0.38463099332956513  0.38463099332956513  \n",
       "12   0.3796747369465785   0.3796747369465785  \n",
       "13   0.3795384216126967   0.3795384216126967  \n",
       "14  0.38176579896517127  0.38176579896517127  \n",
       "15  0.38650841309213885  0.38650841309213885  \n",
       "16    0.401103939147947    0.401103939147947  \n",
       "17   0.3466203989306823   0.3466203989306823  \n",
       "18  0.35446547640822207  0.35446547640822207  \n",
       "19  0.35446547640822207  0.35446547640822207  \n",
       "20   0.3579458714638604   0.3579458714638604  "
      ]
     },
     "execution_count": 361,
     "metadata": {},
     "output_type": "execute_result"
    }
   ],
   "source": [
    "measuresoftgram_df = pd.read_csv('data/fga-eps-mds-2020-2-data/kokama/measuresoftgram-kokama-dataset-23-03-2021-24-05-2021-csv.csv', sep=',',\n",
    "                                 header=None, names=column_names, dtype='a')\n",
    "\n",
    "measuresoftgram_df"
   ]
  },
  {
   "cell_type": "markdown",
   "metadata": {},
   "source": [
    "# Statics Treatments"
   ]
  },
  {
   "cell_type": "code",
   "execution_count": 428,
   "metadata": {
    "pycharm": {
     "name": "#%%\n"
    }
   },
   "outputs": [],
   "source": [
    "def is_normal(dist, alpha):\n",
    "\n",
    "    k2, normal_Test_Pval = stats.normaltest(dist, axis=None)\n",
    "\n",
    "    if (normal_Test_Pval > alpha): # alpha value is 0.05 or 5%\n",
    "        return False\n",
    "\n",
    "    return True"
   ]
  },
  {
   "cell_type": "code",
   "execution_count": 439,
   "metadata": {
    "pycharm": {
     "name": "#%%\n"
    }
   },
   "outputs": [],
   "source": [
    "# alpha value is 0.05 or 5%\n",
    "alpha = np.float64(0.05)\n",
    "\n",
    "dist_control = qrapids_df[\"total\"].to_numpy('float')\n",
    "dist_predict = measuresoftgram_df[\"SQC\"].to_numpy('float')\n"
   ]
  },
  {
   "cell_type": "markdown",
   "metadata": {},
   "source": [
    "# Descriptive Statistics"
   ]
  },
  {
   "cell_type": "code",
   "execution_count": 415,
   "metadata": {
    "pycharm": {
     "name": "#%%\n"
    }
   },
   "outputs": [
    {
     "name": "stdout",
     "output_type": "stream",
     "text": [
      "Descriptive Statitics from Q-Rapids: DescribeResult(nobs=21, minmax=(array([0.33]), array([0.53428571])), mean=array([0.46774056]), variance=array([0.00220533]), skewness=array([-1.15241018]), kurtosis=array([1.53745128]))\n",
      "Min: [0.33]\n",
      "Max: [0.53428571]\n",
      "Mean: [0.46774056]\n",
      "Median: [0.47347826]\n",
      "Std: [0.04582917]\n",
      "Variance: [0.00210031]\n",
      "\n",
      "Descriptive Statitics from MeasuresotGram: DescribeResult(nobs=21, minmax=(array([0.3374]), array([0.40110394])), mean=array([0.36132266]), variance=array([0.00032444]), skewness=array([0.66007562]), kurtosis=array([-0.78842809]))\n",
      "Min: [0.3374]\n",
      "Max: [0.40110394]\n",
      "Mean: [0.36132266]\n",
      "Median: [0.35446548]\n",
      "Std: [0.01757822]\n",
      "Variance: [0.00030899]\n"
     ]
    }
   ],
   "source": [
    "print('Descriptive Statitics from Q-Rapids: '+ str(stats.describe(dist_control)))\n",
    "print('Min: ' + str(dist_control.min(axis=0)))\n",
    "print('Max: ' + str(dist_control.max(axis=0)))\n",
    "print('Mean: '+ str(dist_control.mean(axis=0)))\n",
    "print('Median: '+ str(np.median(dist_control, axis=0)))\n",
    "print('Std: ' + str(dist_control.std(axis=0)))\n",
    "print('Variance: ' + str(dist_control.var(axis=0)) + '\\n')\n",
    "\n",
    "print('Descriptive Statitics from MeasuresotGram: '+ str(stats.describe(dist_predict)))\n",
    "print('Min: ' + str(dist_predict.min(axis=0)))\n",
    "print('Max: ' + str(dist_predict.max(axis=0)))\n",
    "print('Mean: '+ str(dist_predict.mean(axis=0)))\n",
    "print('Median: '+ str(np.median(dist_predict, axis=0)))\n",
    "print('Std: ' + str(dist_predict.std(axis=0)))\n",
    "print('Variance: ' + str(dist_predict.var(axis=0)))"
   ]
  },
  {
   "cell_type": "markdown",
   "metadata": {},
   "source": [
    "#  Normality Test"
   ]
  },
  {
   "cell_type": "code",
   "execution_count": 434,
   "metadata": {
    "pycharm": {
     "name": "#%%\n"
    }
   },
   "outputs": [
    {
     "name": "stdout",
     "output_type": "stream",
     "text": [
      "*** Testing Normality - D’Agostino ****\n",
      "MeasuresftGram has not a normal distribution\n",
      "Q-Rapids has a normal distribution\n"
     ]
    }
   ],
   "source": [
    "print('*** Testing Normality - D’Agostino ****')\n",
    "if is_normal(dist_predict, alpha):\n",
    "    print(\"MeasuresftGram has  a normal distribution\")\n",
    "else:\n",
    "    print(\"MeasuresftGram has not a normal distribution\")\n",
    "\n",
    "if is_normal(dist_control, alpha):\n",
    "    print(\"Q-Rapids has a normal distribution\")\n",
    "else:\n",
    "    print(\"Q-Rapids has not a normal distribution\")"
   ]
  },
  {
   "cell_type": "markdown",
   "metadata": {},
   "source": [
    "# Histogram"
   ]
  },
  {
   "cell_type": "code",
   "execution_count": 435,
   "metadata": {
    "pycharm": {
     "name": "#%%\n"
    }
   },
   "outputs": [
    {
     "data": {
      "text/plain": [
       "<seaborn.axisgrid.FacetGrid at 0x12338e5b0>"
      ]
     },
     "execution_count": 435,
     "metadata": {},
     "output_type": "execute_result"
    },
    {
     "data": {
      "image/png": "[encoded data removed]",
      "text/plain": [
       "<Figure size 428.525x360 with 1 Axes>"
      ]
     },
     "metadata": {
      "image/png": {
       "height": 336,
       "width": 413
      }
     },
     "output_type": "display_data"
    }
   ],
   "source": [
    "sns.displot(data=dist_control, kde=True)"
   ]
  },
  {
   "cell_type": "code",
   "execution_count": 436,
   "metadata": {
    "pycharm": {
     "name": "#%%\n"
    }
   },
   "outputs": [
    {
     "data": {
      "text/plain": [
       "<seaborn.axisgrid.FacetGrid at 0x124737610>"
      ]
     },
     "execution_count": 436,
     "metadata": {},
     "output_type": "execute_result"
    },
    {
     "data": {
      "image/png": "[encoded data removed]",
      "text/plain": [
       "<Figure size 428.525x360 with 1 Axes>"
      ]
     },
     "metadata": {
      "image/png": {
       "height": 336,
       "width": 413
      }
     },
     "output_type": "display_data"
    }
   ],
   "source": [
    "sns.displot(data=dist_predict, kde=True)"
   ]
  },
  {
   "cell_type": "code",
   "execution_count": 440,
   "metadata": {
    "pycharm": {
     "name": "#%%\n"
    }
   },
   "outputs": [
    {
     "data": {
      "text/plain": [
       "<Figure size 2160x1440 with 0 Axes>"
      ]
     },
     "metadata": {},
     "output_type": "display_data"
    },
    {
     "data": {
      "image/png": "[encoded data removed]",
      "text/plain": [
       "<Figure size 551.15x360 with 1 Axes>"
      ]
     },
     "metadata": {
      "image/png": {
       "height": 353,
       "width": 536
      }
     },
     "output_type": "display_data"
    }
   ],
   "source": [
    "a = pd.DataFrame({'Q-Rapids' : qrapids_df.iloc[:,7].astype(float)})\n",
    "b = pd.DataFrame({ 'MeasureSoftgram' : measuresoftgram_df.iloc[:,7].astype(float)})\n",
    "\n",
    "\n",
    "df = a.append(b)\n",
    "\n",
    "fig = plt.figure(figsize=(30, 20))\n",
    "\n",
    "sns.displot(df, bins=20, kde=True)\n",
    "\n",
    "plt.xlabel('Total Quality', fontsize=14)\n",
    "\n",
    "plt.show()"
   ]
  },
  {
   "cell_type": "markdown",
   "metadata": {},
   "source": [
    "# Boxplot"
   ]
  },
  {
   "cell_type": "code",
   "execution_count": 441,
   "metadata": {
    "pycharm": {
     "name": "#%%\n"
    }
   },
   "outputs": [
    {
     "data": {
      "image/png": "[encoded data removed]",
      "text/plain": [
       "<Figure size 1440x720 with 1 Axes>"
      ]
     },
     "metadata": {
      "image/png": {
       "height": 583,
       "width": 1181
      }
     },
     "output_type": "display_data"
    }
   ],
   "source": [
    "fig = plt.figure(figsize=(20, 10))\n",
    "sns.boxplot(data=df, width=0.3)\n",
    "\n",
    "plt.show()"
   ]
  },
  {
   "cell_type": "markdown",
   "metadata": {},
   "source": [
    "# Scatter"
   ]
  },
  {
   "cell_type": "code",
   "execution_count": 442,
   "metadata": {
    "pycharm": {
     "name": "#%%\n"
    }
   },
   "outputs": [
    {
     "data": {
      "image/png": "[encoded data removed]",
      "text/plain": [
       "<Figure size 1440x720 with 1 Axes>"
      ]
     },
     "metadata": {
      "image/png": {
       "height": 583,
       "width": 1181
      }
     },
     "output_type": "display_data"
    }
   ],
   "source": [
    "fig = plt.figure(figsize=(20, 10))\n",
    "sns.stripplot(data=df, jitter=0.2, size=4)\n",
    "\n",
    "plt.show()"
   ]
  },
  {
   "cell_type": "markdown",
   "metadata": {},
   "source": [
    "# Hypothesis Test - **Effectiveness** - IEEE-Std-1061 Correlation Criteria - Square of the linear correlation coefficient (<em>R</em>).\n",
    "\n",
    "#### <em>H</em><sub>1<sub>0</sub></sub>: if <em>R</em><sup>2</sup> is smaller than 0.8, it means that the variation observed in MeasureSoftGram is casual when compared with Q-Rapids.\n",
    "\n",
    "#### <em>H</em><sub>1<sub>A</sub></sub>: if <em>R</em><sup>2</sup> is greater than 0.8, it means that at least 80% of the variation observed in MeasureSoftGram can be explained by the variation observed in Q-Rapids.\n",
    "\n",
    "## <center> <em>H</em><sub>1<sub>0</sub></sub> : <em>R</em><sup>2</sup> <sub>(measuresoftgram_SQC, qrapids_TQ)</sub> < 0.8 </center>\n",
    "## <center> <em>H</em><sub>1<sub>A</sub></sub> : <em>R</em><sup>2</sup> <sub>(measuresoftgram_SQC, qrapids_TQ)</sub> $\\geq$ 0.8 </center>"
   ]
  },
  {
   "cell_type": "code",
   "execution_count": 443,
   "metadata": {
    "pycharm": {
     "name": "#%%\n"
    }
   },
   "outputs": [
    {
     "name": "stdout",
     "output_type": "stream",
     "text": [
      "**************** R-Squared *****************\n",
      "R-squared: 0.019994   p-value: 0.5409453169603784\n",
      "********************************************\n",
      "\n"
     ]
    }
   ],
   "source": [
    "print('**************** R-Squared *****************')\n",
    "\n",
    "res = stats.linregress(np.ravel(dist_control), np.ravel(dist_predict))\n",
    "print(f\"R-squared: {res.rvalue**2:.6f}   p-value: {res.pvalue}\")\n",
    "print('********************************************' + '\\n')"
   ]
  },
  {
   "cell_type": "markdown",
   "metadata": {},
   "source": [
    "# Hypothesis Test - **Efficiency** - IEEE-Std-1061 Tracking Criteria - Pearson correlation coefficient (<em>r</em>)\n",
    "\n",
    "#### <em>H</em><sub>1<sub>0</sub></sub>: if <em>r</em><sup>2</sup> is smaller than 0 and close to -1, it means that the there is a high negative correlation between the two models.\n",
    "\n",
    "#### <em>H</em><sub>1<sub>A</sub></sub>: if <em>r</em><sup>2</sup> is greater and equal than 0 and close to 1, it means that there is a high positive correlation between the two models.\n",
    "\n",
    "## <center> <em>H</em><sub>1<sub>0</sub></sub> : <em>r</em><sup>2</sup> <sub>(measuresoftgram_SQC, qrapids_TQ)</sub> $\\leq$ 0 </center>\n",
    "## <center> <em>H</em><sub>1<sub>A</sub></sub> : <em>r</em><sup>2</sup> <sub>(measuresoftgram_SQC, qrapids_TQ)</sub> > 0 </center>"
   ]
  },
  {
   "cell_type": "code",
   "execution_count": 444,
   "metadata": {
    "pycharm": {
     "name": "#%%\n"
    }
   },
   "outputs": [
    {
     "name": "stdout",
     "output_type": "stream",
     "text": [
      "************ Person(r) test statistics *************\n",
      "Person(r) test statistics: 0.14140023522851675 Person(r) test p-value: 0.5409453169603775\n",
      "****************************************************\n",
      "\n"
     ]
    }
   ],
   "source": [
    "print('************ Person(r) test statistics *************')\n",
    "r_stats, r_p_val = stats.pearsonr(np.ravel(dist_control), np.ravel(dist_predict))\n",
    "\n",
    "print('Person(r) test statistics: '  + str(r_stats) + ' Person(r) test p-value: '  + str(r_p_val))\n",
    "print('****************************************************' + '\\n')\n"
   ]
  },
  {
   "cell_type": "code",
   "execution_count": null,
   "metadata": {},
   "outputs": [],
   "source": []
  }
 ],
 "metadata": {
  "kernelspec": {
   "display_name": "Python 3",
   "language": "python",
   "name": "python3"
  },
  "language_info": {
   "codemirror_mode": {
    "name": "ipython",
    "version": 3
   },
   "file_extension": ".py",
   "mimetype": "text/x-python",
   "name": "python",
   "nbconvert_exporter": "python",
   "pygments_lexer": "ipython3",
   "version": "3.8.5"
  }
 },
 "nbformat": 4,
 "nbformat_minor": 1
}