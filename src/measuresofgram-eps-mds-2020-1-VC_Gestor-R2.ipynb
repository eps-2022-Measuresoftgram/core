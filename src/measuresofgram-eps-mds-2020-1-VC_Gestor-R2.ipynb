{
 "cells": [
  {
   "cell_type": "code",
   "execution_count": 32,
   "metadata": {
    "pycharm": {
     "name": "#%%\n"
    }
   },
   "outputs": [],
   "source": [
    "import pandas as pd\n",
    "import numpy as np\n",
    "import tensorly as ts\n",
    "import urllib3\n",
    "import json\n",
    "from scipy.spatial import distance"
   ]
  },
  {
   "cell_type": "code",
   "execution_count": 2,
   "metadata": {
    "pycharm": {
     "name": "#%%\n"
    }
   },
   "outputs": [],
   "source": [
    "# Dataframe configs\n",
    "pd.set_option(\"display.max_rows\", None, \"display.max_columns\", None)"
   ]
  },
  {
   "cell_type": "code",
   "execution_count": 3,
   "metadata": {
    "pycharm": {
     "name": "#%%\n"
    }
   },
   "outputs": [],
   "source": [
    "# Setting SonarCloud.io project key\n",
    "#chave = 'fga-eps-mds_2020.1-VC_Gestor-BackEnd:packages&branch=master'\n",
    "\n",
    "frontend_key = 'fga-eps-mds_2020.1-VC_Gestor-FrontEnd'\n",
    "backend_key = 'fga-eps-mds_2020.1-VC_Gestor-BackEnd'"
   ]
  },
  {
   "cell_type": "code",
   "execution_count": 4,
   "metadata": {
    "pycharm": {
     "name": "#%%\n"
    }
   },
   "outputs": [],
   "source": [
    "# Defining the raw data extract from sonar cloud\n",
    "metrics_list = ['files',\n",
    "               'functions',\n",
    "               'complexity',\n",
    "               'ncloc',\n",
    "               'comment_lines',\n",
    "               'comment_lines_density',\n",
    "               'duplicated_lines_density',\n",
    "               'test_success_density',\n",
    "               'coverage',\n",
    "               'bugs',\n",
    "               'reliability_rating',\n",
    "               'vulnerabilities',\n",
    "               'security_rating',\n",
    "               'open_issues',\n",
    "               'sqale_rating']"
   ]
  },
  {
   "cell_type": "code",
   "execution_count": 5,
   "metadata": {
    "pycharm": {
     "name": "#%%\n"
    }
   },
   "outputs": [
    {
     "name": "stdout",
     "output_type": "stream",
     "text": [
      "15\n"
     ]
    }
   ],
   "source": [
    "print(len(metrics_list))"
   ]
  },
  {
   "cell_type": "code",
   "execution_count": 6,
   "metadata": {
    "pycharm": {
     "name": "#%%\n"
    }
   },
   "outputs": [],
   "source": [
    "# Assembling the metric list string and API request URLs\n",
    "\n",
    "def generate_metric_string(metric_list):\n",
    "    metric_str = ''\n",
    "\n",
    "    for metric in metric_list:\n",
    "        metric_str += metric + ','\n",
    "\n",
    "    return metric_str"
   ]
  },
  {
   "cell_type": "code",
   "execution_count": 7,
   "metadata": {
    "pycharm": {
     "name": "#%%\n"
    }
   },
   "outputs": [],
   "source": [
    "metric_str = generate_metric_string(metrics_list)"
   ]
  },
  {
   "cell_type": "code",
   "execution_count": 8,
   "metadata": {
    "pycharm": {
     "name": "#%%\n"
    }
   },
   "outputs": [],
   "source": [
    "# Defining URLs\n",
    "\n",
    "frontend_url = f\"https://sonarcloud.io/api/measures/component_tree?component={frontend_key}&metricKeys={metric_str}&ps=500\"\n",
    "backend_url = f\"https://sonarcloud.io/api/measures/component_tree?component={backend_key}&metricKeys={metric_str}&ps=500\""
   ]
  },
  {
   "cell_type": "code",
   "execution_count": 9,
   "metadata": {
    "pycharm": {
     "name": "#%%\n"
    }
   },
   "outputs": [],
   "source": [
    "# Starting connection\n",
    "http = urllib3.PoolManager()"
   ]
  },
  {
   "cell_type": "code",
   "execution_count": 10,
   "metadata": {
    "pycharm": {
     "name": "#%%\n"
    }
   },
   "outputs": [
    {
     "name": "stdout",
     "output_type": "stream",
     "text": [
      "200\n",
      "200\n"
     ]
    }
   ],
   "source": [
    "# Sonar Cloud API Request\n",
    "frontend_request = http.request('GET', frontend_url)\n",
    "print(frontend_request.status)\n",
    "\n",
    "backend_request = http.request('GET', backend_url)\n",
    "print(backend_request.status)"
   ]
  },
  {
   "cell_type": "code",
   "execution_count": 11,
   "metadata": {
    "pycharm": {
     "name": "#%%\n"
    }
   },
   "outputs": [],
   "source": [
    "# Decoding json files extracted from sonar\n",
    "frontend_json = json.loads(frontend_request.data.decode('utf-8'))\n",
    "backend_json = json.loads(backend_request.data.decode('utf-8'))"
   ]
  },
  {
   "cell_type": "code",
   "execution_count": 12,
   "metadata": {
    "pycharm": {
     "name": "#%%\n"
    }
   },
   "outputs": [],
   "source": [
    "'''\n",
    "# Saving json files locally\n",
    "file_name = 'fga-eps-mds_2020.1-VC_Gestor-BackEnd-R2.json'\n",
    "\n",
    "with open(file_name, 'w') as outfile:\n",
    "    json.dump(json_repository, outfile)\n",
    "'''\n",
    "\n",
    "def metric_per_file(json):\n",
    "    file_json = []\n",
    "\n",
    "    for component in json['components']:\n",
    "        if component['qualifier'] == 'FIL':\n",
    "            file_json.append(component)\n",
    "\n",
    "    return file_json"
   ]
  },
  {
   "cell_type": "code",
   "execution_count": 13,
   "metadata": {
    "pycharm": {
     "name": "#%%\n"
    }
   },
   "outputs": [],
   "source": [
    "frontend_file_json = metric_per_file(frontend_json)\n",
    "backend_file_json = metric_per_file(backend_json)"
   ]
  },
  {
   "cell_type": "code",
   "execution_count": 14,
   "metadata": {
    "pycharm": {
     "name": "#%%\n"
    }
   },
   "outputs": [],
   "source": [
    "def generate_file_dataframe(metric_list, json, language_extension):\n",
    "    df_columns = metric_list\n",
    "    df = pd.DataFrame(columns = df_columns)\n",
    "\n",
    "    for file in json:\n",
    "        try:\n",
    "            if file['language'] == language_extension:\n",
    "                for measure in file['measures']:\n",
    "                    df.at[file['path'], measure['metric']] = measure['value']\n",
    "        except:\n",
    "            pass\n",
    "\n",
    "    df.reset_index(inplace = True)\n",
    "    df.drop(['files'], axis=1)\n",
    "    df = df.rename({'index': 'path'}, axis=1)\n",
    "\n",
    "    return df"
   ]
  },
  {
   "cell_type": "code",
   "execution_count": 15,
   "metadata": {
    "pycharm": {
     "name": "#%%\n"
    }
   },
   "outputs": [],
   "source": [
    "frontend_files_data = generate_file_dataframe(metrics_list, frontend_file_json, language_extension = 'js')\n",
    "backend_files_data = generate_file_dataframe(metrics_list, backend_file_json, language_extension = 'js')"
   ]
  },
  {
   "cell_type": "code",
   "execution_count": 16,
   "metadata": {
    "pycharm": {
     "name": "#%%\n"
    }
   },
   "outputs": [
    {
     "data": {
      "text/plain": "                                             path files functions complexity  \\\n0                       src/components/404/404.js     1         1          1   \n1                 src/components/pages/Anuncio.js     1         5          7   \n2                    src/services/apiBeneficio.js     1         0          0   \n3                     src/services/apiNoticias.js     1         0          0   \n4                     src/services/apiPostagem.js     1         0          0   \n5                         src/services/apiUser.js     1         0          0   \n6                  src/components/app/App.test.js     1         1          1   \n7         src/components/pages/BeneficiosCriar.js     1         1          1   \n8        src/components/pages/BeneficiosEditar.js     1         1          1   \n9     src/components/pages/BeneficiosGerenciar.js     1         8         10   \n10       src/components/components/CardBenefit.js     1         2          2   \n11             src/components/pages/CreateNews.js     1         1          1   \n12   src/components/components/EditBenefitForm.js     1         8         20   \n13      src/components/components/EditNewsForm.js     1        10         24   \n14             src/components/components/Forms.js     1         4         13   \n15  src/components/pages/GerenciamentoNoticias.js     1        17         23   \n16                    src/components/Home/home.js     1         1          1   \n17           src/components/components/Loading.js     1         1          2   \n18                  src/components/login/Login.js     1        24         37   \n19                    src/services/loginHelper.js     1         2          3   \n20               src/components/pages/NewsEdit.js     1         2          2   \n21          src/components/components/NewsForm.js     1         8         15   \n22                src/components/perfil/perfil.js     1        13         19   \n23           src/components/login/Registration.js     1         4          4   \n24       src/components/pages/RelatorioDeDados.js     1        38         53   \n25      src/components/pages/RelatorioDeStatus.js     1        37         63   \n26           src/components/components/Sidebar.js     1         8         12   \n27            src/components/pages/TabelaPosts.js     1        66         96   \n\n   ncloc comment_lines comment_lines_density duplicated_lines_density  \\\n0     14             0                   0.0                      0.0   \n1    120            13                   9.8                     10.9   \n2      5             0                   0.0                      0.0   \n3      5             0                   0.0                      0.0   \n4      5             0                   0.0                      0.0   \n5      5             0                   0.0                      0.0   \n6      8             0                   0.0                      0.0   \n7     20             0                   0.0                      0.0   \n8     20             0                   0.0                      0.0   \n9     53             3                   5.4                      0.0   \n10    34             0                   0.0                      0.0   \n11    21             0                   0.0                      0.0   \n12   144             5                   3.4                     28.3   \n13   179            28                  13.5                      6.8   \n14   106             0                   0.0                     39.0   \n15   131             4                   3.0                      0.0   \n16    16             0                   0.0                      0.0   \n17    14             0                   0.0                      0.0   \n18   184            12                   6.1                      0.0   \n19    23             0                   0.0                      0.0   \n20    25             0                   0.0                      0.0   \n21   136            15                   9.9                      0.0   \n22   109             0                   0.0                      0.0   \n23    38            13                  25.5                      0.0   \n24   275            12                   4.2                      8.8   \n25   309             6                   1.9                      8.0   \n26   102             0                   0.0                      0.0   \n27   403            29                   6.7                      0.0   \n\n   test_success_density coverage bugs reliability_rating vulnerabilities  \\\n0                 100.0      0.0    0                1.0               0   \n1                 100.0      0.0    0                1.0               0   \n2                 100.0      0.0    0                1.0               0   \n3                 100.0    100.0    0                1.0               0   \n4                 100.0    100.0    0                1.0               0   \n5                 100.0      0.0    0                1.0               0   \n6                 100.0      0.0    0                1.0               0   \n7                 100.0      0.0    0                1.0               0   \n8                 100.0      0.0    0                1.0               0   \n9                 100.0      0.0    0                1.0               0   \n10                100.0     88.9    0                1.0               0   \n11                100.0      0.0    0                1.0               0   \n12                100.0      0.0    0                1.0               0   \n13                100.0     61.8    0                1.0               0   \n14                100.0      0.0    0                1.0               0   \n15                100.0     76.7    0                1.0               0   \n16                100.0      0.0    0                1.0               0   \n17                100.0      0.0    0                1.0               0   \n18                100.0      0.0    0                1.0               0   \n19                100.0      0.0    0                1.0               0   \n20                100.0      0.0    0                1.0               0   \n21                100.0     77.8    0                1.0               0   \n22                100.0      0.0    0                1.0               0   \n23                100.0      0.0    0                1.0               0   \n24                100.0     93.2    0                1.0               0   \n25                100.0     65.6    0                1.0               0   \n26                100.0      0.0    0                1.0               0   \n27                100.0      0.0    4                3.0               0   \n\n   security_rating open_issues sqale_rating  \n0              1.0           2          1.0  \n1              1.0          13          1.0  \n2              1.0           0          1.0  \n3              1.0           0          1.0  \n4              1.0           0          1.0  \n5              1.0           0          1.0  \n6              1.0           0          1.0  \n7              1.0           2          1.0  \n8              1.0           0          1.0  \n9              1.0           8          1.0  \n10             1.0           3          1.0  \n11             1.0           1          1.0  \n12             1.0          10          1.0  \n13             1.0          16          1.0  \n14             1.0           8          1.0  \n15             1.0          10          1.0  \n16             1.0           1          1.0  \n17             1.0           0          1.0  \n18             1.0           6          1.0  \n19             1.0           2          1.0  \n20             1.0           0          1.0  \n21             1.0          18          1.0  \n22             1.0           4          1.0  \n23             1.0           2          1.0  \n24             1.0          46          1.0  \n25             1.0          42          1.0  \n26             1.0           3          1.0  \n27             1.0          30          1.0  ",
      "text/html": "<div>\n<style scoped>\n    .dataframe tbody tr th:only-of-type {\n        vertical-align: middle;\n    }\n\n    .dataframe tbody tr th {\n        vertical-align: top;\n    }\n\n    .dataframe thead th {\n        text-align: right;\n    }\n</style>\n<table border=\"1\" class=\"dataframe\">\n  <thead>\n    <tr style=\"text-align: right;\">\n      <th></th>\n      <th>path</th>\n      <th>files</th>\n      <th>functions</th>\n      <th>complexity</th>\n      <th>ncloc</th>\n      <th>comment_lines</th>\n      <th>comment_lines_density</th>\n      <th>duplicated_lines_density</th>\n      <th>test_success_density</th>\n      <th>coverage</th>\n      <th>bugs</th>\n      <th>reliability_rating</th>\n      <th>vulnerabilities</th>\n      <th>security_rating</th>\n      <th>open_issues</th>\n      <th>sqale_rating</th>\n    </tr>\n  </thead>\n  <tbody>\n    <tr>\n      <th>0</th>\n      <td>src/components/404/404.js</td>\n      <td>1</td>\n      <td>1</td>\n      <td>1</td>\n      <td>14</td>\n      <td>0</td>\n      <td>0.0</td>\n      <td>0.0</td>\n      <td>100.0</td>\n      <td>0.0</td>\n      <td>0</td>\n      <td>1.0</td>\n      <td>0</td>\n      <td>1.0</td>\n      <td>2</td>\n      <td>1.0</td>\n    </tr>\n    <tr>\n      <th>1</th>\n      <td>src/components/pages/Anuncio.js</td>\n      <td>1</td>\n      <td>5</td>\n      <td>7</td>\n      <td>120</td>\n      <td>13</td>\n      <td>9.8</td>\n      <td>10.9</td>\n      <td>100.0</td>\n      <td>0.0</td>\n      <td>0</td>\n      <td>1.0</td>\n      <td>0</td>\n      <td>1.0</td>\n      <td>13</td>\n      <td>1.0</td>\n    </tr>\n    <tr>\n      <th>2</th>\n      <td>src/services/apiBeneficio.js</td>\n      <td>1</td>\n      <td>0</td>\n      <td>0</td>\n      <td>5</td>\n      <td>0</td>\n      <td>0.0</td>\n      <td>0.0</td>\n      <td>100.0</td>\n      <td>0.0</td>\n      <td>0</td>\n      <td>1.0</td>\n      <td>0</td>\n      <td>1.0</td>\n      <td>0</td>\n      <td>1.0</td>\n    </tr>\n    <tr>\n      <th>3</th>\n      <td>src/services/apiNoticias.js</td>\n      <td>1</td>\n      <td>0</td>\n      <td>0</td>\n      <td>5</td>\n      <td>0</td>\n      <td>0.0</td>\n      <td>0.0</td>\n      <td>100.0</td>\n      <td>100.0</td>\n      <td>0</td>\n      <td>1.0</td>\n      <td>0</td>\n      <td>1.0</td>\n      <td>0</td>\n      <td>1.0</td>\n    </tr>\n    <tr>\n      <th>4</th>\n      <td>src/services/apiPostagem.js</td>\n      <td>1</td>\n      <td>0</td>\n      <td>0</td>\n      <td>5</td>\n      <td>0</td>\n      <td>0.0</td>\n      <td>0.0</td>\n      <td>100.0</td>\n      <td>100.0</td>\n      <td>0</td>\n      <td>1.0</td>\n      <td>0</td>\n      <td>1.0</td>\n      <td>0</td>\n      <td>1.0</td>\n    </tr>\n    <tr>\n      <th>5</th>\n      <td>src/services/apiUser.js</td>\n      <td>1</td>\n      <td>0</td>\n      <td>0</td>\n      <td>5</td>\n      <td>0</td>\n      <td>0.0</td>\n      <td>0.0</td>\n      <td>100.0</td>\n      <td>0.0</td>\n      <td>0</td>\n      <td>1.0</td>\n      <td>0</td>\n      <td>1.0</td>\n      <td>0</td>\n      <td>1.0</td>\n    </tr>\n    <tr>\n      <th>6</th>\n      <td>src/components/app/App.test.js</td>\n      <td>1</td>\n      <td>1</td>\n      <td>1</td>\n      <td>8</td>\n      <td>0</td>\n      <td>0.0</td>\n      <td>0.0</td>\n      <td>100.0</td>\n      <td>0.0</td>\n      <td>0</td>\n      <td>1.0</td>\n      <td>0</td>\n      <td>1.0</td>\n      <td>0</td>\n      <td>1.0</td>\n    </tr>\n    <tr>\n      <th>7</th>\n      <td>src/components/pages/BeneficiosCriar.js</td>\n      <td>1</td>\n      <td>1</td>\n      <td>1</td>\n      <td>20</td>\n      <td>0</td>\n      <td>0.0</td>\n      <td>0.0</td>\n      <td>100.0</td>\n      <td>0.0</td>\n      <td>0</td>\n      <td>1.0</td>\n      <td>0</td>\n      <td>1.0</td>\n      <td>2</td>\n      <td>1.0</td>\n    </tr>\n    <tr>\n      <th>8</th>\n      <td>src/components/pages/BeneficiosEditar.js</td>\n      <td>1</td>\n      <td>1</td>\n      <td>1</td>\n      <td>20</td>\n      <td>0</td>\n      <td>0.0</td>\n      <td>0.0</td>\n      <td>100.0</td>\n      <td>0.0</td>\n      <td>0</td>\n      <td>1.0</td>\n      <td>0</td>\n      <td>1.0</td>\n      <td>0</td>\n      <td>1.0</td>\n    </tr>\n    <tr>\n      <th>9</th>\n      <td>src/components/pages/BeneficiosGerenciar.js</td>\n      <td>1</td>\n      <td>8</td>\n      <td>10</td>\n      <td>53</td>\n      <td>3</td>\n      <td>5.4</td>\n      <td>0.0</td>\n      <td>100.0</td>\n      <td>0.0</td>\n      <td>0</td>\n      <td>1.0</td>\n      <td>0</td>\n      <td>1.0</td>\n      <td>8</td>\n      <td>1.0</td>\n    </tr>\n    <tr>\n      <th>10</th>\n      <td>src/components/components/CardBenefit.js</td>\n      <td>1</td>\n      <td>2</td>\n      <td>2</td>\n      <td>34</td>\n      <td>0</td>\n      <td>0.0</td>\n      <td>0.0</td>\n      <td>100.0</td>\n      <td>88.9</td>\n      <td>0</td>\n      <td>1.0</td>\n      <td>0</td>\n      <td>1.0</td>\n      <td>3</td>\n      <td>1.0</td>\n    </tr>\n    <tr>\n      <th>11</th>\n      <td>src/components/pages/CreateNews.js</td>\n      <td>1</td>\n      <td>1</td>\n      <td>1</td>\n      <td>21</td>\n      <td>0</td>\n      <td>0.0</td>\n      <td>0.0</td>\n      <td>100.0</td>\n      <td>0.0</td>\n      <td>0</td>\n      <td>1.0</td>\n      <td>0</td>\n      <td>1.0</td>\n      <td>1</td>\n      <td>1.0</td>\n    </tr>\n    <tr>\n      <th>12</th>\n      <td>src/components/components/EditBenefitForm.js</td>\n      <td>1</td>\n      <td>8</td>\n      <td>20</td>\n      <td>144</td>\n      <td>5</td>\n      <td>3.4</td>\n      <td>28.3</td>\n      <td>100.0</td>\n      <td>0.0</td>\n      <td>0</td>\n      <td>1.0</td>\n      <td>0</td>\n      <td>1.0</td>\n      <td>10</td>\n      <td>1.0</td>\n    </tr>\n    <tr>\n      <th>13</th>\n      <td>src/components/components/EditNewsForm.js</td>\n      <td>1</td>\n      <td>10</td>\n      <td>24</td>\n      <td>179</td>\n      <td>28</td>\n      <td>13.5</td>\n      <td>6.8</td>\n      <td>100.0</td>\n      <td>61.8</td>\n      <td>0</td>\n      <td>1.0</td>\n      <td>0</td>\n      <td>1.0</td>\n      <td>16</td>\n      <td>1.0</td>\n    </tr>\n    <tr>\n      <th>14</th>\n      <td>src/components/components/Forms.js</td>\n      <td>1</td>\n      <td>4</td>\n      <td>13</td>\n      <td>106</td>\n      <td>0</td>\n      <td>0.0</td>\n      <td>39.0</td>\n      <td>100.0</td>\n      <td>0.0</td>\n      <td>0</td>\n      <td>1.0</td>\n      <td>0</td>\n      <td>1.0</td>\n      <td>8</td>\n      <td>1.0</td>\n    </tr>\n    <tr>\n      <th>15</th>\n      <td>src/components/pages/GerenciamentoNoticias.js</td>\n      <td>1</td>\n      <td>17</td>\n      <td>23</td>\n      <td>131</td>\n      <td>4</td>\n      <td>3.0</td>\n      <td>0.0</td>\n      <td>100.0</td>\n      <td>76.7</td>\n      <td>0</td>\n      <td>1.0</td>\n      <td>0</td>\n      <td>1.0</td>\n      <td>10</td>\n      <td>1.0</td>\n    </tr>\n    <tr>\n      <th>16</th>\n      <td>src/components/Home/home.js</td>\n      <td>1</td>\n      <td>1</td>\n      <td>1</td>\n      <td>16</td>\n      <td>0</td>\n      <td>0.0</td>\n      <td>0.0</td>\n      <td>100.0</td>\n      <td>0.0</td>\n      <td>0</td>\n      <td>1.0</td>\n      <td>0</td>\n      <td>1.0</td>\n      <td>1</td>\n      <td>1.0</td>\n    </tr>\n    <tr>\n      <th>17</th>\n      <td>src/components/components/Loading.js</td>\n      <td>1</td>\n      <td>1</td>\n      <td>2</td>\n      <td>14</td>\n      <td>0</td>\n      <td>0.0</td>\n      <td>0.0</td>\n      <td>100.0</td>\n      <td>0.0</td>\n      <td>0</td>\n      <td>1.0</td>\n      <td>0</td>\n      <td>1.0</td>\n      <td>0</td>\n      <td>1.0</td>\n    </tr>\n    <tr>\n      <th>18</th>\n      <td>src/components/login/Login.js</td>\n      <td>1</td>\n      <td>24</td>\n      <td>37</td>\n      <td>184</td>\n      <td>12</td>\n      <td>6.1</td>\n      <td>0.0</td>\n      <td>100.0</td>\n      <td>0.0</td>\n      <td>0</td>\n      <td>1.0</td>\n      <td>0</td>\n      <td>1.0</td>\n      <td>6</td>\n      <td>1.0</td>\n    </tr>\n    <tr>\n      <th>19</th>\n      <td>src/services/loginHelper.js</td>\n      <td>1</td>\n      <td>2</td>\n      <td>3</td>\n      <td>23</td>\n      <td>0</td>\n      <td>0.0</td>\n      <td>0.0</td>\n      <td>100.0</td>\n      <td>0.0</td>\n      <td>0</td>\n      <td>1.0</td>\n      <td>0</td>\n      <td>1.0</td>\n      <td>2</td>\n      <td>1.0</td>\n    </tr>\n    <tr>\n      <th>20</th>\n      <td>src/components/pages/NewsEdit.js</td>\n      <td>1</td>\n      <td>2</td>\n      <td>2</td>\n      <td>25</td>\n      <td>0</td>\n      <td>0.0</td>\n      <td>0.0</td>\n      <td>100.0</td>\n      <td>0.0</td>\n      <td>0</td>\n      <td>1.0</td>\n      <td>0</td>\n      <td>1.0</td>\n      <td>0</td>\n      <td>1.0</td>\n    </tr>\n    <tr>\n      <th>21</th>\n      <td>src/components/components/NewsForm.js</td>\n      <td>1</td>\n      <td>8</td>\n      <td>15</td>\n      <td>136</td>\n      <td>15</td>\n      <td>9.9</td>\n      <td>0.0</td>\n      <td>100.0</td>\n      <td>77.8</td>\n      <td>0</td>\n      <td>1.0</td>\n      <td>0</td>\n      <td>1.0</td>\n      <td>18</td>\n      <td>1.0</td>\n    </tr>\n    <tr>\n      <th>22</th>\n      <td>src/components/perfil/perfil.js</td>\n      <td>1</td>\n      <td>13</td>\n      <td>19</td>\n      <td>109</td>\n      <td>0</td>\n      <td>0.0</td>\n      <td>0.0</td>\n      <td>100.0</td>\n      <td>0.0</td>\n      <td>0</td>\n      <td>1.0</td>\n      <td>0</td>\n      <td>1.0</td>\n      <td>4</td>\n      <td>1.0</td>\n    </tr>\n    <tr>\n      <th>23</th>\n      <td>src/components/login/Registration.js</td>\n      <td>1</td>\n      <td>4</td>\n      <td>4</td>\n      <td>38</td>\n      <td>13</td>\n      <td>25.5</td>\n      <td>0.0</td>\n      <td>100.0</td>\n      <td>0.0</td>\n      <td>0</td>\n      <td>1.0</td>\n      <td>0</td>\n      <td>1.0</td>\n      <td>2</td>\n      <td>1.0</td>\n    </tr>\n    <tr>\n      <th>24</th>\n      <td>src/components/pages/RelatorioDeDados.js</td>\n      <td>1</td>\n      <td>38</td>\n      <td>53</td>\n      <td>275</td>\n      <td>12</td>\n      <td>4.2</td>\n      <td>8.8</td>\n      <td>100.0</td>\n      <td>93.2</td>\n      <td>0</td>\n      <td>1.0</td>\n      <td>0</td>\n      <td>1.0</td>\n      <td>46</td>\n      <td>1.0</td>\n    </tr>\n    <tr>\n      <th>25</th>\n      <td>src/components/pages/RelatorioDeStatus.js</td>\n      <td>1</td>\n      <td>37</td>\n      <td>63</td>\n      <td>309</td>\n      <td>6</td>\n      <td>1.9</td>\n      <td>8.0</td>\n      <td>100.0</td>\n      <td>65.6</td>\n      <td>0</td>\n      <td>1.0</td>\n      <td>0</td>\n      <td>1.0</td>\n      <td>42</td>\n      <td>1.0</td>\n    </tr>\n    <tr>\n      <th>26</th>\n      <td>src/components/components/Sidebar.js</td>\n      <td>1</td>\n      <td>8</td>\n      <td>12</td>\n      <td>102</td>\n      <td>0</td>\n      <td>0.0</td>\n      <td>0.0</td>\n      <td>100.0</td>\n      <td>0.0</td>\n      <td>0</td>\n      <td>1.0</td>\n      <td>0</td>\n      <td>1.0</td>\n      <td>3</td>\n      <td>1.0</td>\n    </tr>\n    <tr>\n      <th>27</th>\n      <td>src/components/pages/TabelaPosts.js</td>\n      <td>1</td>\n      <td>66</td>\n      <td>96</td>\n      <td>403</td>\n      <td>29</td>\n      <td>6.7</td>\n      <td>0.0</td>\n      <td>100.0</td>\n      <td>0.0</td>\n      <td>4</td>\n      <td>3.0</td>\n      <td>0</td>\n      <td>1.0</td>\n      <td>30</td>\n      <td>1.0</td>\n    </tr>\n  </tbody>\n</table>\n</div>"
     },
     "execution_count": 16,
     "metadata": {},
     "output_type": "execute_result"
    }
   ],
   "source": [
    "# FRONTEND METRICS DATA PER FILE\n",
    "\n",
    "frontend_files_data"
   ]
  },
  {
   "cell_type": "code",
   "execution_count": 17,
   "metadata": {
    "pycharm": {
     "name": "#%%\n"
    }
   },
   "outputs": [
    {
     "data": {
      "text/plain": "                                                 path files functions  \\\n0   packages/user/src/controller/AuthenticateUserS...     1         1   \n1         packages/user/src/controller/AuthResolve.js     1         1   \n2             packages/benefits/src/models/benefit.js     1         0   \n3   packages/benefits/src/controller/BenefitContro...     1         5   \n4   packages/benefits/src/test/BenefitsController....     1        12   \n5   packages/user/src/controller/ChangePasswordRes...     1         1   \n6    packages/user/src/controller/CheckCodeResolve.js     1         1   \n7    packages/news/src/test/ControllerTesting.spec.js     1        13   \n8    packages/user/src/test/ControllerTesting.spec.js     1        24   \n9   packages/benefits/src/controller/CreateBenefit...     1         1   \n10      packages/news/src/controller/CreateResolve.js     1         1   \n11               packages/news/src/config/database.js     1         0   \n12           packages/benefits/src/config/database.js     1         0   \n13  packages/benefits/src/controller/DeleteBenefit...     1         1   \n14  packages/news/src/controller/DeleteNewsResolve.js     1         1   \n15    packages/user/src/controller/EditUserResolve.js     1         1   \n16  packages/benefits/src/controller/FindAllBenefi...     1         1   \n17     packages/news/src/controller/FindAllResolve.js     1         1   \n18  packages/benefits/src/controller/FindByIdBenef...     1         1   \n19    packages/news/src/controller/FindByIdResolve.js     1         1   \n20  packages/user/src/controller/GetUserByTokenRes...     1         1   \n21   packages/benefits/src/test/ModelBenefits.spec.js     1         3   \n22        packages/news/src/test/ModelTesting.spec.js     1         3   \n23        packages/user/src/test/ModelTesting.spec.js     1         3   \n24                   packages/news/src/models/news.js     1         0   \n25     packages/news/src/controller/NewsController.js     1         5   \n26   packages/user/src/controller/SendEmailResolve.js     1         2   \n27  packages/benefits/src/controller/UpdateBenefit...     1         1   \n28  packages/news/src/controller/UpdateNewsResolve.js     1         1   \n29                   packages/user/src/models/user.js     1         0   \n30     packages/user/src/controller/UserController.js     1         5   \n\n   complexity ncloc comment_lines comment_lines_density  \\\n0           1    11             1                   8.3   \n1           3    22             1                   4.3   \n2           0    30             0                   0.0   \n3           5    44            18                  29.0   \n4          12   251             0                   0.0   \n5           5    29             0                   0.0   \n6           4    23             0                   0.0   \n7          13   316             0                   0.0   \n8          24   575             0                   0.0   \n9           4    16             0                   0.0   \n10          5    23             0                   0.0   \n11          0    10             0                   0.0   \n12          0    10             0                   0.0   \n13          2    20             0                   0.0   \n14          2    12             0                   0.0   \n15          3    28             7                  20.0   \n16          1     7             0                   0.0   \n17          1     7             0                   0.0   \n18          2    15             0                   0.0   \n19          2    10             0                   0.0   \n20          2    23             0                   0.0   \n21          3    25             0                   0.0   \n22          3    25             0                   0.0   \n23          3    25             0                   0.0   \n24          0    45             0                   0.0   \n25          5    44            14                  24.1   \n26          4    30             0                   0.0   \n27          9    28             0                   0.0   \n28          5    24             0                   0.0   \n29          0    47             0                   0.0   \n30          5    47             4                   7.8   \n\n   duplicated_lines_density test_success_density coverage bugs  \\\n0                       0.0                100.0      0.0    0   \n1                       0.0                100.0    100.0    0   \n2                       0.0                100.0    100.0    0   \n3                       0.0                100.0     28.0    0   \n4                       0.0                100.0    100.0    0   \n5                       0.0                100.0    100.0    0   \n6                       0.0                100.0    100.0    0   \n7                       0.0                100.0    100.0    0   \n8                      33.4                100.0    100.0    0   \n9                       0.0                100.0    100.0    0   \n10                      0.0                100.0    100.0    0   \n11                      0.0                100.0    100.0    0   \n12                      0.0                100.0    100.0    0   \n13                      0.0                100.0    100.0    0   \n14                      0.0                100.0    100.0    0   \n15                      0.0                100.0    100.0    0   \n16                      0.0                100.0    100.0    0   \n17                      0.0                100.0    100.0    0   \n18                      0.0                100.0    100.0    0   \n19                      0.0                100.0    100.0    0   \n20                      0.0                100.0    100.0    0   \n21                      0.0                100.0    100.0    0   \n22                      0.0                100.0    100.0    0   \n23                      0.0                100.0    100.0    0   \n24                     72.5                100.0    100.0    0   \n25                      0.0                100.0     28.0    0   \n26                      0.0                100.0     57.1    0   \n27                      0.0                100.0    100.0    0   \n28                      0.0                100.0    100.0    0   \n29                     52.8                100.0    100.0    0   \n30                      0.0                100.0     23.1    0   \n\n   reliability_rating vulnerabilities security_rating open_issues sqale_rating  \n0                 1.0               0             1.0           0          1.0  \n1                 1.0               0             1.0           0          1.0  \n2                 1.0               0             1.0           0          1.0  \n3                 1.0               0             1.0           0          1.0  \n4                 1.0               0             1.0           0          1.0  \n5                 1.0               0             1.0           0          1.0  \n6                 1.0               0             1.0           0          1.0  \n7                 1.0               0             1.0           0          1.0  \n8                 1.0               0             1.0           0          1.0  \n9                 1.0               0             1.0           0          1.0  \n10                1.0               0             1.0           0          1.0  \n11                1.0               0             1.0           0          1.0  \n12                1.0               0             1.0           0          1.0  \n13                1.0               0             1.0           0          1.0  \n14                1.0               0             1.0           0          1.0  \n15                1.0               0             1.0           0          1.0  \n16                1.0               0             1.0           0          1.0  \n17                1.0               0             1.0           0          1.0  \n18                1.0               0             1.0           0          1.0  \n19                1.0               0             1.0           0          1.0  \n20                1.0               0             1.0           0          1.0  \n21                1.0               0             1.0           0          1.0  \n22                1.0               0             1.0           0          1.0  \n23                1.0               0             1.0           0          1.0  \n24                1.0               0             1.0           0          1.0  \n25                1.0               0             1.0           0          1.0  \n26                1.0               0             1.0           0          1.0  \n27                1.0               0             1.0           0          1.0  \n28                1.0               0             1.0           0          1.0  \n29                1.0               0             1.0           0          1.0  \n30                1.0               0             1.0           2          1.0  ",
      "text/html": "<div>\n<style scoped>\n    .dataframe tbody tr th:only-of-type {\n        vertical-align: middle;\n    }\n\n    .dataframe tbody tr th {\n        vertical-align: top;\n    }\n\n    .dataframe thead th {\n        text-align: right;\n    }\n</style>\n<table border=\"1\" class=\"dataframe\">\n  <thead>\n    <tr style=\"text-align: right;\">\n      <th></th>\n      <th>path</th>\n      <th>files</th>\n      <th>functions</th>\n      <th>complexity</th>\n      <th>ncloc</th>\n      <th>comment_lines</th>\n      <th>comment_lines_density</th>\n      <th>duplicated_lines_density</th>\n      <th>test_success_density</th>\n      <th>coverage</th>\n      <th>bugs</th>\n      <th>reliability_rating</th>\n      <th>vulnerabilities</th>\n      <th>security_rating</th>\n      <th>open_issues</th>\n      <th>sqale_rating</th>\n    </tr>\n  </thead>\n  <tbody>\n    <tr>\n      <th>0</th>\n      <td>packages/user/src/controller/AuthenticateUserS...</td>\n      <td>1</td>\n      <td>1</td>\n      <td>1</td>\n      <td>11</td>\n      <td>1</td>\n      <td>8.3</td>\n      <td>0.0</td>\n      <td>100.0</td>\n      <td>0.0</td>\n      <td>0</td>\n      <td>1.0</td>\n      <td>0</td>\n      <td>1.0</td>\n      <td>0</td>\n      <td>1.0</td>\n    </tr>\n    <tr>\n      <th>1</th>\n      <td>packages/user/src/controller/AuthResolve.js</td>\n      <td>1</td>\n      <td>1</td>\n      <td>3</td>\n      <td>22</td>\n      <td>1</td>\n      <td>4.3</td>\n      <td>0.0</td>\n      <td>100.0</td>\n      <td>100.0</td>\n      <td>0</td>\n      <td>1.0</td>\n      <td>0</td>\n      <td>1.0</td>\n      <td>0</td>\n      <td>1.0</td>\n    </tr>\n    <tr>\n      <th>2</th>\n      <td>packages/benefits/src/models/benefit.js</td>\n      <td>1</td>\n      <td>0</td>\n      <td>0</td>\n      <td>30</td>\n      <td>0</td>\n      <td>0.0</td>\n      <td>0.0</td>\n      <td>100.0</td>\n      <td>100.0</td>\n      <td>0</td>\n      <td>1.0</td>\n      <td>0</td>\n      <td>1.0</td>\n      <td>0</td>\n      <td>1.0</td>\n    </tr>\n    <tr>\n      <th>3</th>\n      <td>packages/benefits/src/controller/BenefitContro...</td>\n      <td>1</td>\n      <td>5</td>\n      <td>5</td>\n      <td>44</td>\n      <td>18</td>\n      <td>29.0</td>\n      <td>0.0</td>\n      <td>100.0</td>\n      <td>28.0</td>\n      <td>0</td>\n      <td>1.0</td>\n      <td>0</td>\n      <td>1.0</td>\n      <td>0</td>\n      <td>1.0</td>\n    </tr>\n    <tr>\n      <th>4</th>\n      <td>packages/benefits/src/test/BenefitsController....</td>\n      <td>1</td>\n      <td>12</td>\n      <td>12</td>\n      <td>251</td>\n      <td>0</td>\n      <td>0.0</td>\n      <td>0.0</td>\n      <td>100.0</td>\n      <td>100.0</td>\n      <td>0</td>\n      <td>1.0</td>\n      <td>0</td>\n      <td>1.0</td>\n      <td>0</td>\n      <td>1.0</td>\n    </tr>\n    <tr>\n      <th>5</th>\n      <td>packages/user/src/controller/ChangePasswordRes...</td>\n      <td>1</td>\n      <td>1</td>\n      <td>5</td>\n      <td>29</td>\n      <td>0</td>\n      <td>0.0</td>\n      <td>0.0</td>\n      <td>100.0</td>\n      <td>100.0</td>\n      <td>0</td>\n      <td>1.0</td>\n      <td>0</td>\n      <td>1.0</td>\n      <td>0</td>\n      <td>1.0</td>\n    </tr>\n    <tr>\n      <th>6</th>\n      <td>packages/user/src/controller/CheckCodeResolve.js</td>\n      <td>1</td>\n      <td>1</td>\n      <td>4</td>\n      <td>23</td>\n      <td>0</td>\n      <td>0.0</td>\n      <td>0.0</td>\n      <td>100.0</td>\n      <td>100.0</td>\n      <td>0</td>\n      <td>1.0</td>\n      <td>0</td>\n      <td>1.0</td>\n      <td>0</td>\n      <td>1.0</td>\n    </tr>\n    <tr>\n      <th>7</th>\n      <td>packages/news/src/test/ControllerTesting.spec.js</td>\n      <td>1</td>\n      <td>13</td>\n      <td>13</td>\n      <td>316</td>\n      <td>0</td>\n      <td>0.0</td>\n      <td>0.0</td>\n      <td>100.0</td>\n      <td>100.0</td>\n      <td>0</td>\n      <td>1.0</td>\n      <td>0</td>\n      <td>1.0</td>\n      <td>0</td>\n      <td>1.0</td>\n    </tr>\n    <tr>\n      <th>8</th>\n      <td>packages/user/src/test/ControllerTesting.spec.js</td>\n      <td>1</td>\n      <td>24</td>\n      <td>24</td>\n      <td>575</td>\n      <td>0</td>\n      <td>0.0</td>\n      <td>33.4</td>\n      <td>100.0</td>\n      <td>100.0</td>\n      <td>0</td>\n      <td>1.0</td>\n      <td>0</td>\n      <td>1.0</td>\n      <td>0</td>\n      <td>1.0</td>\n    </tr>\n    <tr>\n      <th>9</th>\n      <td>packages/benefits/src/controller/CreateBenefit...</td>\n      <td>1</td>\n      <td>1</td>\n      <td>4</td>\n      <td>16</td>\n      <td>0</td>\n      <td>0.0</td>\n      <td>0.0</td>\n      <td>100.0</td>\n      <td>100.0</td>\n      <td>0</td>\n      <td>1.0</td>\n      <td>0</td>\n      <td>1.0</td>\n      <td>0</td>\n      <td>1.0</td>\n    </tr>\n    <tr>\n      <th>10</th>\n      <td>packages/news/src/controller/CreateResolve.js</td>\n      <td>1</td>\n      <td>1</td>\n      <td>5</td>\n      <td>23</td>\n      <td>0</td>\n      <td>0.0</td>\n      <td>0.0</td>\n      <td>100.0</td>\n      <td>100.0</td>\n      <td>0</td>\n      <td>1.0</td>\n      <td>0</td>\n      <td>1.0</td>\n      <td>0</td>\n      <td>1.0</td>\n    </tr>\n    <tr>\n      <th>11</th>\n      <td>packages/news/src/config/database.js</td>\n      <td>1</td>\n      <td>0</td>\n      <td>0</td>\n      <td>10</td>\n      <td>0</td>\n      <td>0.0</td>\n      <td>0.0</td>\n      <td>100.0</td>\n      <td>100.0</td>\n      <td>0</td>\n      <td>1.0</td>\n      <td>0</td>\n      <td>1.0</td>\n      <td>0</td>\n      <td>1.0</td>\n    </tr>\n    <tr>\n      <th>12</th>\n      <td>packages/benefits/src/config/database.js</td>\n      <td>1</td>\n      <td>0</td>\n      <td>0</td>\n      <td>10</td>\n      <td>0</td>\n      <td>0.0</td>\n      <td>0.0</td>\n      <td>100.0</td>\n      <td>100.0</td>\n      <td>0</td>\n      <td>1.0</td>\n      <td>0</td>\n      <td>1.0</td>\n      <td>0</td>\n      <td>1.0</td>\n    </tr>\n    <tr>\n      <th>13</th>\n      <td>packages/benefits/src/controller/DeleteBenefit...</td>\n      <td>1</td>\n      <td>1</td>\n      <td>2</td>\n      <td>20</td>\n      <td>0</td>\n      <td>0.0</td>\n      <td>0.0</td>\n      <td>100.0</td>\n      <td>100.0</td>\n      <td>0</td>\n      <td>1.0</td>\n      <td>0</td>\n      <td>1.0</td>\n      <td>0</td>\n      <td>1.0</td>\n    </tr>\n    <tr>\n      <th>14</th>\n      <td>packages/news/src/controller/DeleteNewsResolve.js</td>\n      <td>1</td>\n      <td>1</td>\n      <td>2</td>\n      <td>12</td>\n      <td>0</td>\n      <td>0.0</td>\n      <td>0.0</td>\n      <td>100.0</td>\n      <td>100.0</td>\n      <td>0</td>\n      <td>1.0</td>\n      <td>0</td>\n      <td>1.0</td>\n      <td>0</td>\n      <td>1.0</td>\n    </tr>\n    <tr>\n      <th>15</th>\n      <td>packages/user/src/controller/EditUserResolve.js</td>\n      <td>1</td>\n      <td>1</td>\n      <td>3</td>\n      <td>28</td>\n      <td>7</td>\n      <td>20.0</td>\n      <td>0.0</td>\n      <td>100.0</td>\n      <td>100.0</td>\n      <td>0</td>\n      <td>1.0</td>\n      <td>0</td>\n      <td>1.0</td>\n      <td>0</td>\n      <td>1.0</td>\n    </tr>\n    <tr>\n      <th>16</th>\n      <td>packages/benefits/src/controller/FindAllBenefi...</td>\n      <td>1</td>\n      <td>1</td>\n      <td>1</td>\n      <td>7</td>\n      <td>0</td>\n      <td>0.0</td>\n      <td>0.0</td>\n      <td>100.0</td>\n      <td>100.0</td>\n      <td>0</td>\n      <td>1.0</td>\n      <td>0</td>\n      <td>1.0</td>\n      <td>0</td>\n      <td>1.0</td>\n    </tr>\n    <tr>\n      <th>17</th>\n      <td>packages/news/src/controller/FindAllResolve.js</td>\n      <td>1</td>\n      <td>1</td>\n      <td>1</td>\n      <td>7</td>\n      <td>0</td>\n      <td>0.0</td>\n      <td>0.0</td>\n      <td>100.0</td>\n      <td>100.0</td>\n      <td>0</td>\n      <td>1.0</td>\n      <td>0</td>\n      <td>1.0</td>\n      <td>0</td>\n      <td>1.0</td>\n    </tr>\n    <tr>\n      <th>18</th>\n      <td>packages/benefits/src/controller/FindByIdBenef...</td>\n      <td>1</td>\n      <td>1</td>\n      <td>2</td>\n      <td>15</td>\n      <td>0</td>\n      <td>0.0</td>\n      <td>0.0</td>\n      <td>100.0</td>\n      <td>100.0</td>\n      <td>0</td>\n      <td>1.0</td>\n      <td>0</td>\n      <td>1.0</td>\n      <td>0</td>\n      <td>1.0</td>\n    </tr>\n    <tr>\n      <th>19</th>\n      <td>packages/news/src/controller/FindByIdResolve.js</td>\n      <td>1</td>\n      <td>1</td>\n      <td>2</td>\n      <td>10</td>\n      <td>0</td>\n      <td>0.0</td>\n      <td>0.0</td>\n      <td>100.0</td>\n      <td>100.0</td>\n      <td>0</td>\n      <td>1.0</td>\n      <td>0</td>\n      <td>1.0</td>\n      <td>0</td>\n      <td>1.0</td>\n    </tr>\n    <tr>\n      <th>20</th>\n      <td>packages/user/src/controller/GetUserByTokenRes...</td>\n      <td>1</td>\n      <td>1</td>\n      <td>2</td>\n      <td>23</td>\n      <td>0</td>\n      <td>0.0</td>\n      <td>0.0</td>\n      <td>100.0</td>\n      <td>100.0</td>\n      <td>0</td>\n      <td>1.0</td>\n      <td>0</td>\n      <td>1.0</td>\n      <td>0</td>\n      <td>1.0</td>\n    </tr>\n    <tr>\n      <th>21</th>\n      <td>packages/benefits/src/test/ModelBenefits.spec.js</td>\n      <td>1</td>\n      <td>3</td>\n      <td>3</td>\n      <td>25</td>\n      <td>0</td>\n      <td>0.0</td>\n      <td>0.0</td>\n      <td>100.0</td>\n      <td>100.0</td>\n      <td>0</td>\n      <td>1.0</td>\n      <td>0</td>\n      <td>1.0</td>\n      <td>0</td>\n      <td>1.0</td>\n    </tr>\n    <tr>\n      <th>22</th>\n      <td>packages/news/src/test/ModelTesting.spec.js</td>\n      <td>1</td>\n      <td>3</td>\n      <td>3</td>\n      <td>25</td>\n      <td>0</td>\n      <td>0.0</td>\n      <td>0.0</td>\n      <td>100.0</td>\n      <td>100.0</td>\n      <td>0</td>\n      <td>1.0</td>\n      <td>0</td>\n      <td>1.0</td>\n      <td>0</td>\n      <td>1.0</td>\n    </tr>\n    <tr>\n      <th>23</th>\n      <td>packages/user/src/test/ModelTesting.spec.js</td>\n      <td>1</td>\n      <td>3</td>\n      <td>3</td>\n      <td>25</td>\n      <td>0</td>\n      <td>0.0</td>\n      <td>0.0</td>\n      <td>100.0</td>\n      <td>100.0</td>\n      <td>0</td>\n      <td>1.0</td>\n      <td>0</td>\n      <td>1.0</td>\n      <td>0</td>\n      <td>1.0</td>\n    </tr>\n    <tr>\n      <th>24</th>\n      <td>packages/news/src/models/news.js</td>\n      <td>1</td>\n      <td>0</td>\n      <td>0</td>\n      <td>45</td>\n      <td>0</td>\n      <td>0.0</td>\n      <td>72.5</td>\n      <td>100.0</td>\n      <td>100.0</td>\n      <td>0</td>\n      <td>1.0</td>\n      <td>0</td>\n      <td>1.0</td>\n      <td>0</td>\n      <td>1.0</td>\n    </tr>\n    <tr>\n      <th>25</th>\n      <td>packages/news/src/controller/NewsController.js</td>\n      <td>1</td>\n      <td>5</td>\n      <td>5</td>\n      <td>44</td>\n      <td>14</td>\n      <td>24.1</td>\n      <td>0.0</td>\n      <td>100.0</td>\n      <td>28.0</td>\n      <td>0</td>\n      <td>1.0</td>\n      <td>0</td>\n      <td>1.0</td>\n      <td>0</td>\n      <td>1.0</td>\n    </tr>\n    <tr>\n      <th>26</th>\n      <td>packages/user/src/controller/SendEmailResolve.js</td>\n      <td>1</td>\n      <td>2</td>\n      <td>4</td>\n      <td>30</td>\n      <td>0</td>\n      <td>0.0</td>\n      <td>0.0</td>\n      <td>100.0</td>\n      <td>57.1</td>\n      <td>0</td>\n      <td>1.0</td>\n      <td>0</td>\n      <td>1.0</td>\n      <td>0</td>\n      <td>1.0</td>\n    </tr>\n    <tr>\n      <th>27</th>\n      <td>packages/benefits/src/controller/UpdateBenefit...</td>\n      <td>1</td>\n      <td>1</td>\n      <td>9</td>\n      <td>28</td>\n      <td>0</td>\n      <td>0.0</td>\n      <td>0.0</td>\n      <td>100.0</td>\n      <td>100.0</td>\n      <td>0</td>\n      <td>1.0</td>\n      <td>0</td>\n      <td>1.0</td>\n      <td>0</td>\n      <td>1.0</td>\n    </tr>\n    <tr>\n      <th>28</th>\n      <td>packages/news/src/controller/UpdateNewsResolve.js</td>\n      <td>1</td>\n      <td>1</td>\n      <td>5</td>\n      <td>24</td>\n      <td>0</td>\n      <td>0.0</td>\n      <td>0.0</td>\n      <td>100.0</td>\n      <td>100.0</td>\n      <td>0</td>\n      <td>1.0</td>\n      <td>0</td>\n      <td>1.0</td>\n      <td>0</td>\n      <td>1.0</td>\n    </tr>\n    <tr>\n      <th>29</th>\n      <td>packages/user/src/models/user.js</td>\n      <td>1</td>\n      <td>0</td>\n      <td>0</td>\n      <td>47</td>\n      <td>0</td>\n      <td>0.0</td>\n      <td>52.8</td>\n      <td>100.0</td>\n      <td>100.0</td>\n      <td>0</td>\n      <td>1.0</td>\n      <td>0</td>\n      <td>1.0</td>\n      <td>0</td>\n      <td>1.0</td>\n    </tr>\n    <tr>\n      <th>30</th>\n      <td>packages/user/src/controller/UserController.js</td>\n      <td>1</td>\n      <td>5</td>\n      <td>5</td>\n      <td>47</td>\n      <td>4</td>\n      <td>7.8</td>\n      <td>0.0</td>\n      <td>100.0</td>\n      <td>23.1</td>\n      <td>0</td>\n      <td>1.0</td>\n      <td>0</td>\n      <td>1.0</td>\n      <td>2</td>\n      <td>1.0</td>\n    </tr>\n  </tbody>\n</table>\n</div>"
     },
     "execution_count": 17,
     "metadata": {},
     "output_type": "execute_result"
    }
   ],
   "source": [
    "# BACKEND METRICS DATA PER FILE\n",
    "\n",
    "backend_files_data\n"
   ]
  },
  {
   "cell_type": "code",
   "execution_count": 18,
   "metadata": {
    "pycharm": {
     "name": "#%%\n"
    }
   },
   "outputs": [
    {
     "data": {
      "text/plain": "count    31.000000\nmean      4.129032\nstd       4.856212\nmin       0.000000\n25%       1.500000\n50%       3.000000\n75%       5.000000\nmax      24.000000\nName: complexity, dtype: float64"
     },
     "execution_count": 18,
     "metadata": {},
     "output_type": "execute_result"
    }
   ],
   "source": [
    "#printing CC per file descriptive statistics\n",
    "backend_files_data['complexity'].astype(int).describe()"
   ]
  },
  {
   "cell_type": "code",
   "execution_count": 19,
   "metadata": {
    "pycharm": {
     "name": "#%%\n"
    }
   },
   "outputs": [
    {
     "data": {
      "text/plain": "count    26.000000\nmean      2.384615\nstd       1.940658\nmin       1.000000\n25%       1.000000\n50%       2.000000\n75%       3.000000\nmax       9.000000\nName: complexity/functions, dtype: float64"
     },
     "execution_count": 19,
     "metadata": {},
     "output_type": "execute_result"
    }
   ],
   "source": [
    "backend_files_data['complexity/functions']=backend_files_data['complexity'].astype(float)/backend_files_data['functions'].astype(float)\n",
    "\n",
    "#printing the average CC per function descriptive statistics\n",
    "backend_files_data['complexity/functions'].describe()"
   ]
  },
  {
   "cell_type": "code",
   "execution_count": 20,
   "metadata": {
    "pycharm": {
     "name": "#%%\n"
    }
   },
   "outputs": [
    {
     "data": {
      "text/plain": "0.8387096774193549"
     },
     "execution_count": 20,
     "metadata": {},
     "output_type": "execute_result"
    }
   ],
   "source": [
    "# Defining metrics for measure em1, where em1 = density of non-complex file\n",
    "m0 = np.median(backend_files_data['complexity/functions'])\n",
    "m1 = backend_files_data['complexity'].astype(float)\n",
    "m2 = backend_files_data['functions'].astype(float)\n",
    "m3 = len(backend_files_data)\n",
    "\n",
    "#  intervals for em1 interpretation\n",
    "x = np.array([0, m0])\n",
    "y = np.array([1, 0])\n",
    "\n",
    "# Defining intervals for em1 interpretation\n",
    "IF1 = np.interp(list(((m1/m2) < m0)[(m2 > 0)]),x, y)\n",
    "\n",
    "em1 = sum(IF1)/m3\n",
    "\n",
    "em1"
   ]
  },
  {
   "cell_type": "code",
   "execution_count": 21,
   "metadata": {
    "pycharm": {
     "name": "#%%\n"
    }
   },
   "outputs": [
    {
     "data": {
      "text/plain": "0.027258064516129034"
     },
     "execution_count": 21,
     "metadata": {},
     "output_type": "execute_result"
    }
   ],
   "source": [
    "# Defining metrics for measure em2, where em2 = density of commented files\n",
    "m4 = backend_files_data['comment_lines_density'].astype(float)\n",
    "\n",
    "#  intervals for em1 interpretation\n",
    "x = np.array([0.1, 0.3])\n",
    "y = np.array([1, 0])\n",
    "\n",
    "#(m4 >= 0.1 and m4 <= 0.3)\n",
    "\n",
    "# Defining intervals for em2 interpretation\n",
    "em2i = []\n",
    "for if2i in m4:\n",
    "    if 10 <= if2i <= 30:\n",
    "        em2i.append(np.interp(if2i/100,x, y))\n",
    "    else:\n",
    "        em2i.append(0)\n",
    "\n",
    "em2 = np.sum(em2i)/m3\n",
    "\n",
    "em2"
   ]
  },
  {
   "cell_type": "code",
   "execution_count": 22,
   "metadata": {
    "pycharm": {
     "name": "#%%\n"
    }
   },
   "outputs": [
    {
     "data": {
      "text/plain": "0.0"
     },
     "execution_count": 22,
     "metadata": {},
     "output_type": "execute_result"
    }
   ],
   "source": [
    "# Defining metrics for measure ma3,where ma3 = absence of duplication on file (density)\n",
    "m5 = backend_files_data['duplicated_lines_density'].astype(float)\n",
    "\n",
    "#  intervals for em1 interpretation\n",
    "x = np.array([0.1, 0.2])\n",
    "y = np.array([1, 0])\n",
    "\n",
    "# Intervals for ma3 interpretation\n",
    "em3i = []\n",
    "for if3i in m5:\n",
    "    if 10 <= if3i <= 20:\n",
    "        em3i.append(np.interp(if3i/100,x, y))\n",
    "    else:\n",
    "        em3i.append(0)\n",
    "\n",
    "em3 = np.sum(em3i)/m3\n",
    "\n",
    "em3"
   ]
  },
  {
   "cell_type": "code",
   "execution_count": 23,
   "metadata": {
    "pycharm": {
     "name": "#%%\n"
    }
   },
   "outputs": [
    {
     "name": "stdout",
     "output_type": "stream",
     "text": [
      "Modifiability Tensor\n",
      "[[[0.83870968]\n",
      "  [0.02725806]\n",
      "  [0.        ]]]\n",
      "3\n"
     ]
    }
   ],
   "source": [
    "# Defining  Modifiability quality sub-characteristic tensor.\n",
    "# wem1 = 33%\n",
    "# wem2 = 33%\n",
    "# wem3 = 33%\n",
    "\n",
    "wem1=wem2=wem3 = 0.3374\n",
    "\n",
    "SC_Modifiability_EM_Weights = np.array([wem1, wem2, wem3]).reshape(1,3,1)\n",
    "SC_Modifiability_EM = np.array([em1, em2, em3]).reshape(1,3,1)\n",
    "\n",
    "\n",
    "T_SC_Modifiability = ts.tensor(SC_Modifiability_EM)\n",
    "\n",
    "\n",
    "print(\"Modifiability Tensor\" + '\\n' + str(T_SC_Modifiability))\n",
    "print(T_SC_Modifiability.ndim)"
   ]
  },
  {
   "cell_type": "code",
   "execution_count": 24,
   "metadata": {
    "pycharm": {
     "name": "#%%\n"
    }
   },
   "outputs": [
    {
     "name": "stdout",
     "output_type": "stream",
     "text": [
      "Weighted SC_Modifiability Tensor measures\n",
      "[[[0.28298065]\n",
      "  [0.00919687]\n",
      "  [0.        ]]]\n"
     ]
    }
   ],
   "source": [
    "# Weighting Modifiability tensor at measure level.\n",
    "\n",
    "for i in range(T_SC_Modifiability.ndim):\n",
    "     T_SC_Modifiability[::T_SC_Modifiability.ndim][0][i-1] = \\\n",
    "         ts.kron(T_SC_Modifiability[::T_SC_Modifiability.ndim][0][i-1] ,\n",
    "                 SC_Modifiability_EM_Weights[::T_SC_Modifiability.ndim][0][i-1])\n",
    "\n",
    "print(\"Weighted SC_Modifiability Tensor measures\" + '\\n' + str(T_SC_Modifiability))"
   ]
  },
  {
   "cell_type": "code",
   "execution_count": 25,
   "metadata": {
    "pycharm": {
     "name": "#%%\n"
    }
   },
   "outputs": [
    {
     "name": "stdout",
     "output_type": "stream",
     "text": [
      "Weighted SC_Modifiability Tensor\n",
      "[[[0.28298065]\n",
      "  [0.00919687]\n",
      "  [0.        ]]]\n"
     ]
    }
   ],
   "source": [
    "# Weighting Modifiability tensor at sub-characteristic level.\n",
    "# wsc1 = 100%\n",
    "\n",
    "wsc1 = 1\n",
    "\n",
    "T_SC_Modifiability = ts.kron(T_SC_Modifiability,wsc1)\n",
    "\n",
    "print(\"Weighted SC_Modifiability Tensor\" + '\\n' + str(T_SC_Modifiability))"
   ]
  },
  {
   "cell_type": "code",
   "execution_count": 26,
   "metadata": {
    "pycharm": {
     "name": "#%%\n"
    }
   },
   "outputs": [
    {
     "name": "stdout",
     "output_type": "stream",
     "text": [
      "[[[0.28298065]\n",
      "  [0.00919687]\n",
      "  [0.        ]]]\n"
     ]
    }
   ],
   "source": [
    "# Defining the maintainability quality characteristic tensor.\n",
    "\n",
    "T_C_Maintainability = np.array([])\n",
    "T_C_Maintainability = np.append(T_C_Maintainability,T_SC_Modifiability)\n",
    "\n",
    "# Weighting Maintainability tensor at characteristic level.\n",
    "# wc1 = 100%\n",
    "\n",
    "wc1 = 1\n",
    "\n",
    "T_C_Maintainability = ts.kron(T_C_Maintainability,wc1)\n",
    "\n",
    "# Weighted C_Maintainability Tensor\n",
    "print(str(T_C_Maintainability.reshape(1,3,1)))"
   ]
  },
  {
   "cell_type": "code",
   "execution_count": 27,
   "metadata": {
    "pycharm": {
     "name": "#%%\n"
    }
   },
   "outputs": [
    {
     "name": "stdout",
     "output_type": "stream",
     "text": [
      "0.28313005487142723\n"
     ]
    }
   ],
   "source": [
    "# Aggregating C_Maintainability Tensor. The aggregation view is obtained from Frobenius norm of tensor.\n",
    "print(str(ts.norm(T_C_Maintainability)))"
   ]
  },
  {
   "cell_type": "code",
   "execution_count": 28,
   "metadata": {
    "pycharm": {
     "name": "#%%\n"
    }
   },
   "outputs": [
    {
     "name": "stdout",
     "output_type": "stream",
     "text": [
      "0.28313005487142723\n"
     ]
    }
   ],
   "source": [
    "SQC_2 = np.array([])\n",
    "SQC_2 = np.append(SQC_2, T_C_Maintainability)\n",
    "\n",
    "# The overall quality of Release 2 of the VC_Gestor system.\n",
    "# Github Repository: https://github.com/fga-eps-mds/2020.1-VC_Gestor-BackEnd\n",
    "print(str(ts.norm(SQC_2)))"
   ]
  },
  {
   "cell_type": "code",
   "execution_count": 41,
   "outputs": [
    {
     "name": "stdout",
     "output_type": "stream",
     "text": [
      "0.004748269660962312\n"
     ]
    }
   ],
   "source": [
    "# Comparison of the product quality of Releases 1 and 2 of the system VC_Gestor. This comparison is obtained from\n",
    "# cosine similarity between the tensors.\n",
    "\n",
    "SQC_1 = np.array([[0.1687],\n",
    "                  [0.0220515],\n",
    "                  [0.]])\n",
    "\n",
    "print(distance.cosine(SQC_1,SQC_2))\n"
   ],
   "metadata": {
    "collapsed": false,
    "pycharm": {
     "name": "#%%\n"
    }
   }
  }
 ],
 "metadata": {
  "kernelspec": {
   "display_name": "Python 3",
   "language": "python",
   "name": "python3"
  },
  "language_info": {
   "codemirror_mode": {
    "name": "ipython",
    "version": 3
   },
   "file_extension": ".py",
   "mimetype": "text/x-python",
   "name": "python",
   "nbconvert_exporter": "python",
   "pygments_lexer": "ipython3",
   "version": "3.8.5"
  }
 },
 "nbformat": 4,
 "nbformat_minor": 1
}